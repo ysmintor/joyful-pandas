{
  "nbformat": 4,
  "nbformat_minor": 0,
  "metadata": {
    "kernelspec": {
      "display_name": "Python 3",
      "language": "python",
      "name": "python3"
    },
    "language_info": {
      "codemirror_mode": {
        "name": "ipython",
        "version": 3
      },
      "file_extension": ".py",
      "mimetype": "text/x-python",
      "name": "python",
      "nbconvert_exporter": "python",
      "pygments_lexer": "ipython3",
      "version": "3.7.6"
    },
    "colab": {
      "name": "第1章 Pandas基础.ipynb",
      "provenance": [],
      "toc_visible": true,
      "include_colab_link": true
    }
  },
  "cells": [
    {
      "cell_type": "markdown",
      "metadata": {
        "id": "view-in-github",
        "colab_type": "text"
      },
      "source": [
        "<a href=\"https://colab.research.google.com/github/ysmintor/joyful-pandas/blob/master/%E7%AC%AC1%E7%AB%A0%20Pandas%E5%9F%BA%E7%A1%80.ipynb\" target=\"_parent\"><img src=\"https://colab.research.google.com/assets/colab-badge.svg\" alt=\"Open In Colab\"/></a>"
      ]
    },
    {
      "cell_type": "code",
      "metadata": {
        "id": "Wcjg74KtSjDt",
        "colab_type": "code",
        "outputId": "081328af-932b-4cc0-8b16-8d87ef9efca3",
        "colab": {
          "base_uri": "https://localhost:8080/",
          "height": 122
        }
      },
      "source": [
        "from google.colab import drive\n",
        "drive.mount('/content/drive')"
      ],
      "execution_count": 2,
      "outputs": [
        {
          "output_type": "stream",
          "text": [
            "Go to this URL in a browser: https://accounts.google.com/o/oauth2/auth?client_id=947318989803-6bn6qk8qdgf4n4g3pfee6491hc0brc4i.apps.googleusercontent.com&redirect_uri=urn%3aietf%3awg%3aoauth%3a2.0%3aoob&response_type=code&scope=email%20https%3a%2f%2fwww.googleapis.com%2fauth%2fdocs.test%20https%3a%2f%2fwww.googleapis.com%2fauth%2fdrive%20https%3a%2f%2fwww.googleapis.com%2fauth%2fdrive.photos.readonly%20https%3a%2f%2fwww.googleapis.com%2fauth%2fpeopleapi.readonly\n",
            "\n",
            "Enter your authorization code:\n",
            "··········\n",
            "Mounted at /content/drive\n"
          ],
          "name": "stdout"
        }
      ]
    },
    {
      "cell_type": "code",
      "metadata": {
        "id": "pN5588YeS5FE",
        "colab_type": "code",
        "outputId": "2dc2751d-e7d3-45aa-8da9-86eb8e1902a3",
        "colab": {
          "base_uri": "https://localhost:8080/",
          "height": 136
        }
      },
      "source": [
        "!git clone https://github.com/ysmintor/joyful-pandas"
      ],
      "execution_count": 3,
      "outputs": [
        {
          "output_type": "stream",
          "text": [
            "Cloning into 'joyful-pandas'...\n",
            "remote: Enumerating objects: 127, done.\u001b[K\n",
            "remote: Counting objects: 100% (127/127), done.\u001b[K\n",
            "remote: Compressing objects: 100% (73/73), done.\u001b[K\n",
            "remote: Total 127 (delta 69), reused 109 (delta 54), pack-reused 0\u001b[K\n",
            "Receiving objects: 100% (127/127), 9.79 MiB | 17.03 MiB/s, done.\n",
            "Resolving deltas: 100% (69/69), done.\n"
          ],
          "name": "stdout"
        }
      ]
    },
    {
      "cell_type": "code",
      "metadata": {
        "id": "Pk4740BpTDCA",
        "colab_type": "code",
        "outputId": "ae2b7d21-2a72-4f26-e3f5-e1547f0abccd",
        "colab": {
          "base_uri": "https://localhost:8080/",
          "height": 34
        }
      },
      "source": [
        "import os\n",
        "os.getcwd()"
      ],
      "execution_count": 4,
      "outputs": [
        {
          "output_type": "execute_result",
          "data": {
            "text/plain": [
              "'/content'"
            ]
          },
          "metadata": {
            "tags": []
          },
          "execution_count": 4
        }
      ]
    },
    {
      "cell_type": "code",
      "metadata": {
        "id": "v2MUXhgQTZww",
        "colab_type": "code",
        "outputId": "e4adf6c0-2dff-41fc-d1b4-569ebf47ff62",
        "colab": {
          "base_uri": "https://localhost:8080/",
          "height": 34
        }
      },
      "source": [
        "os.chdir('/content/joyful-pandas')\n",
        "os.getcwd()"
      ],
      "execution_count": 5,
      "outputs": [
        {
          "output_type": "execute_result",
          "data": {
            "text/plain": [
              "'/content/joyful-pandas'"
            ]
          },
          "metadata": {
            "tags": []
          },
          "execution_count": 5
        }
      ]
    },
    {
      "cell_type": "markdown",
      "metadata": {
        "id": "fHnTfOAnSaO2",
        "colab_type": "text"
      },
      "source": [
        "# 第1章 Pandas基础"
      ]
    },
    {
      "cell_type": "code",
      "metadata": {
        "id": "buUvR9h6SaO3",
        "colab_type": "code",
        "colab": {}
      },
      "source": [
        "import pandas as pd\n",
        "import numpy as np"
      ],
      "execution_count": 0,
      "outputs": []
    },
    {
      "cell_type": "markdown",
      "metadata": {
        "id": "WD_FqCbDSaO7",
        "colab_type": "text"
      },
      "source": [
        "#### 查看Pandas版本"
      ]
    },
    {
      "cell_type": "code",
      "metadata": {
        "id": "M8Xu6QsISaO8",
        "colab_type": "code",
        "outputId": "3d813c2f-3a89-4c18-ae7f-b6895dc1f469",
        "colab": {
          "base_uri": "https://localhost:8080/",
          "height": 34
        }
      },
      "source": [
        "pd.__version__"
      ],
      "execution_count": 7,
      "outputs": [
        {
          "output_type": "execute_result",
          "data": {
            "text/plain": [
              "'1.0.3'"
            ]
          },
          "metadata": {
            "tags": []
          },
          "execution_count": 7
        }
      ]
    },
    {
      "cell_type": "markdown",
      "metadata": {
        "id": "rNgGXHEfSaPA",
        "colab_type": "text"
      },
      "source": [
        "## 一、文件读取与写入\n",
        "### 1. 读取\n",
        "#### （a）csv格式"
      ]
    },
    {
      "cell_type": "code",
      "metadata": {
        "id": "LtKvWywsSaPA",
        "colab_type": "code",
        "outputId": "9f630321-db53-424b-9fb2-3676cbd4265b",
        "colab": {
          "base_uri": "https://localhost:8080/",
          "height": 204
        }
      },
      "source": [
        "df = pd.read_csv('data/table.csv')\n",
        "df.head()"
      ],
      "execution_count": 8,
      "outputs": [
        {
          "output_type": "execute_result",
          "data": {
            "text/html": [
              "<div>\n",
              "<style scoped>\n",
              "    .dataframe tbody tr th:only-of-type {\n",
              "        vertical-align: middle;\n",
              "    }\n",
              "\n",
              "    .dataframe tbody tr th {\n",
              "        vertical-align: top;\n",
              "    }\n",
              "\n",
              "    .dataframe thead th {\n",
              "        text-align: right;\n",
              "    }\n",
              "</style>\n",
              "<table border=\"1\" class=\"dataframe\">\n",
              "  <thead>\n",
              "    <tr style=\"text-align: right;\">\n",
              "      <th></th>\n",
              "      <th>School</th>\n",
              "      <th>Class</th>\n",
              "      <th>ID</th>\n",
              "      <th>Gender</th>\n",
              "      <th>Address</th>\n",
              "      <th>Height</th>\n",
              "      <th>Weight</th>\n",
              "      <th>Math</th>\n",
              "      <th>Physics</th>\n",
              "    </tr>\n",
              "  </thead>\n",
              "  <tbody>\n",
              "    <tr>\n",
              "      <th>0</th>\n",
              "      <td>S_1</td>\n",
              "      <td>C_1</td>\n",
              "      <td>1101</td>\n",
              "      <td>M</td>\n",
              "      <td>street_1</td>\n",
              "      <td>173</td>\n",
              "      <td>63</td>\n",
              "      <td>34.0</td>\n",
              "      <td>A+</td>\n",
              "    </tr>\n",
              "    <tr>\n",
              "      <th>1</th>\n",
              "      <td>S_1</td>\n",
              "      <td>C_1</td>\n",
              "      <td>1102</td>\n",
              "      <td>F</td>\n",
              "      <td>street_2</td>\n",
              "      <td>192</td>\n",
              "      <td>73</td>\n",
              "      <td>32.5</td>\n",
              "      <td>B+</td>\n",
              "    </tr>\n",
              "    <tr>\n",
              "      <th>2</th>\n",
              "      <td>S_1</td>\n",
              "      <td>C_1</td>\n",
              "      <td>1103</td>\n",
              "      <td>M</td>\n",
              "      <td>street_2</td>\n",
              "      <td>186</td>\n",
              "      <td>82</td>\n",
              "      <td>87.2</td>\n",
              "      <td>B+</td>\n",
              "    </tr>\n",
              "    <tr>\n",
              "      <th>3</th>\n",
              "      <td>S_1</td>\n",
              "      <td>C_1</td>\n",
              "      <td>1104</td>\n",
              "      <td>F</td>\n",
              "      <td>street_2</td>\n",
              "      <td>167</td>\n",
              "      <td>81</td>\n",
              "      <td>80.4</td>\n",
              "      <td>B-</td>\n",
              "    </tr>\n",
              "    <tr>\n",
              "      <th>4</th>\n",
              "      <td>S_1</td>\n",
              "      <td>C_1</td>\n",
              "      <td>1105</td>\n",
              "      <td>F</td>\n",
              "      <td>street_4</td>\n",
              "      <td>159</td>\n",
              "      <td>64</td>\n",
              "      <td>84.8</td>\n",
              "      <td>B+</td>\n",
              "    </tr>\n",
              "  </tbody>\n",
              "</table>\n",
              "</div>"
            ],
            "text/plain": [
              "  School Class    ID Gender   Address  Height  Weight  Math Physics\n",
              "0    S_1   C_1  1101      M  street_1     173      63  34.0      A+\n",
              "1    S_1   C_1  1102      F  street_2     192      73  32.5      B+\n",
              "2    S_1   C_1  1103      M  street_2     186      82  87.2      B+\n",
              "3    S_1   C_1  1104      F  street_2     167      81  80.4      B-\n",
              "4    S_1   C_1  1105      F  street_4     159      64  84.8      B+"
            ]
          },
          "metadata": {
            "tags": []
          },
          "execution_count": 8
        }
      ]
    },
    {
      "cell_type": "markdown",
      "metadata": {
        "id": "fZ8BueK5SaPD",
        "colab_type": "text"
      },
      "source": [
        "#### （b）txt格式"
      ]
    },
    {
      "cell_type": "code",
      "metadata": {
        "id": "gp2JLJPqSaPE",
        "colab_type": "code",
        "outputId": "8f5781cb-7531-4bba-9f1a-60e3b57ee7e7",
        "colab": {
          "base_uri": "https://localhost:8080/",
          "height": 173
        }
      },
      "source": [
        "df_txt = pd.read_table('data/table.txt') #可设置sep分隔符参数\n",
        "df_txt"
      ],
      "execution_count": 9,
      "outputs": [
        {
          "output_type": "execute_result",
          "data": {
            "text/html": [
              "<div>\n",
              "<style scoped>\n",
              "    .dataframe tbody tr th:only-of-type {\n",
              "        vertical-align: middle;\n",
              "    }\n",
              "\n",
              "    .dataframe tbody tr th {\n",
              "        vertical-align: top;\n",
              "    }\n",
              "\n",
              "    .dataframe thead th {\n",
              "        text-align: right;\n",
              "    }\n",
              "</style>\n",
              "<table border=\"1\" class=\"dataframe\">\n",
              "  <thead>\n",
              "    <tr style=\"text-align: right;\">\n",
              "      <th></th>\n",
              "      <th>col1</th>\n",
              "      <th>col2</th>\n",
              "      <th>col3</th>\n",
              "      <th>col4</th>\n",
              "    </tr>\n",
              "  </thead>\n",
              "  <tbody>\n",
              "    <tr>\n",
              "      <th>0</th>\n",
              "      <td>2</td>\n",
              "      <td>a</td>\n",
              "      <td>1.4</td>\n",
              "      <td>apple</td>\n",
              "    </tr>\n",
              "    <tr>\n",
              "      <th>1</th>\n",
              "      <td>3</td>\n",
              "      <td>b</td>\n",
              "      <td>3.4</td>\n",
              "      <td>banana</td>\n",
              "    </tr>\n",
              "    <tr>\n",
              "      <th>2</th>\n",
              "      <td>6</td>\n",
              "      <td>c</td>\n",
              "      <td>2.5</td>\n",
              "      <td>orange</td>\n",
              "    </tr>\n",
              "    <tr>\n",
              "      <th>3</th>\n",
              "      <td>5</td>\n",
              "      <td>d</td>\n",
              "      <td>3.2</td>\n",
              "      <td>lemon</td>\n",
              "    </tr>\n",
              "  </tbody>\n",
              "</table>\n",
              "</div>"
            ],
            "text/plain": [
              "   col1 col2  col3    col4\n",
              "0     2    a   1.4   apple\n",
              "1     3    b   3.4  banana\n",
              "2     6    c   2.5  orange\n",
              "3     5    d   3.2   lemon"
            ]
          },
          "metadata": {
            "tags": []
          },
          "execution_count": 9
        }
      ]
    },
    {
      "cell_type": "markdown",
      "metadata": {
        "id": "9g9aIjmOSaPH",
        "colab_type": "text"
      },
      "source": [
        "#### （c）xls或xlsx格式"
      ]
    },
    {
      "cell_type": "code",
      "metadata": {
        "id": "lmZuuOjvSaPI",
        "colab_type": "code",
        "outputId": "f9c4a395-922c-4cc9-b059-b7ca54a19910",
        "colab": {
          "base_uri": "https://localhost:8080/",
          "height": 204
        }
      },
      "source": [
        "#需要安装xlrd包\n",
        "df_excel = pd.read_excel('data/table.xlsx')\n",
        "df_excel.head()"
      ],
      "execution_count": 10,
      "outputs": [
        {
          "output_type": "execute_result",
          "data": {
            "text/html": [
              "<div>\n",
              "<style scoped>\n",
              "    .dataframe tbody tr th:only-of-type {\n",
              "        vertical-align: middle;\n",
              "    }\n",
              "\n",
              "    .dataframe tbody tr th {\n",
              "        vertical-align: top;\n",
              "    }\n",
              "\n",
              "    .dataframe thead th {\n",
              "        text-align: right;\n",
              "    }\n",
              "</style>\n",
              "<table border=\"1\" class=\"dataframe\">\n",
              "  <thead>\n",
              "    <tr style=\"text-align: right;\">\n",
              "      <th></th>\n",
              "      <th>School</th>\n",
              "      <th>Class</th>\n",
              "      <th>ID</th>\n",
              "      <th>Gender</th>\n",
              "      <th>Address</th>\n",
              "      <th>Height</th>\n",
              "      <th>Weight</th>\n",
              "      <th>Math</th>\n",
              "      <th>Physics</th>\n",
              "    </tr>\n",
              "  </thead>\n",
              "  <tbody>\n",
              "    <tr>\n",
              "      <th>0</th>\n",
              "      <td>S_1</td>\n",
              "      <td>C_1</td>\n",
              "      <td>1101</td>\n",
              "      <td>M</td>\n",
              "      <td>street_1</td>\n",
              "      <td>173</td>\n",
              "      <td>63</td>\n",
              "      <td>34.0</td>\n",
              "      <td>A+</td>\n",
              "    </tr>\n",
              "    <tr>\n",
              "      <th>1</th>\n",
              "      <td>S_1</td>\n",
              "      <td>C_1</td>\n",
              "      <td>1102</td>\n",
              "      <td>F</td>\n",
              "      <td>street_2</td>\n",
              "      <td>192</td>\n",
              "      <td>73</td>\n",
              "      <td>32.5</td>\n",
              "      <td>B+</td>\n",
              "    </tr>\n",
              "    <tr>\n",
              "      <th>2</th>\n",
              "      <td>S_1</td>\n",
              "      <td>C_1</td>\n",
              "      <td>1103</td>\n",
              "      <td>M</td>\n",
              "      <td>street_2</td>\n",
              "      <td>186</td>\n",
              "      <td>82</td>\n",
              "      <td>87.2</td>\n",
              "      <td>B+</td>\n",
              "    </tr>\n",
              "    <tr>\n",
              "      <th>3</th>\n",
              "      <td>S_1</td>\n",
              "      <td>C_1</td>\n",
              "      <td>1104</td>\n",
              "      <td>F</td>\n",
              "      <td>street_2</td>\n",
              "      <td>167</td>\n",
              "      <td>81</td>\n",
              "      <td>80.4</td>\n",
              "      <td>B-</td>\n",
              "    </tr>\n",
              "    <tr>\n",
              "      <th>4</th>\n",
              "      <td>S_1</td>\n",
              "      <td>C_1</td>\n",
              "      <td>1105</td>\n",
              "      <td>F</td>\n",
              "      <td>street_4</td>\n",
              "      <td>159</td>\n",
              "      <td>64</td>\n",
              "      <td>84.8</td>\n",
              "      <td>B+</td>\n",
              "    </tr>\n",
              "  </tbody>\n",
              "</table>\n",
              "</div>"
            ],
            "text/plain": [
              "  School Class    ID Gender   Address  Height  Weight  Math Physics\n",
              "0    S_1   C_1  1101      M  street_1     173      63  34.0      A+\n",
              "1    S_1   C_1  1102      F  street_2     192      73  32.5      B+\n",
              "2    S_1   C_1  1103      M  street_2     186      82  87.2      B+\n",
              "3    S_1   C_1  1104      F  street_2     167      81  80.4      B-\n",
              "4    S_1   C_1  1105      F  street_4     159      64  84.8      B+"
            ]
          },
          "metadata": {
            "tags": []
          },
          "execution_count": 10
        }
      ]
    },
    {
      "cell_type": "markdown",
      "metadata": {
        "id": "0Hu7M8yHSaPK",
        "colab_type": "text"
      },
      "source": [
        "### 2. 写入"
      ]
    },
    {
      "cell_type": "markdown",
      "metadata": {
        "id": "ruqoJU8JSaPL",
        "colab_type": "text"
      },
      "source": [
        "#### （a）csv格式"
      ]
    },
    {
      "cell_type": "code",
      "metadata": {
        "id": "DQOIjv6bSaPL",
        "colab_type": "code",
        "colab": {}
      },
      "source": [
        "df.to_csv('data/new_table.csv')\n",
        "#df.to_csv('data/new_table.csv', index=False) #保存时除去行索引"
      ],
      "execution_count": 0,
      "outputs": []
    },
    {
      "cell_type": "markdown",
      "metadata": {
        "id": "raImmAB1SaPO",
        "colab_type": "text"
      },
      "source": [
        "#### （b）xls或xlsx格式"
      ]
    },
    {
      "cell_type": "code",
      "metadata": {
        "id": "Uk4BiQ5DSaPP",
        "colab_type": "code",
        "colab": {}
      },
      "source": [
        "#需要安装openpyxl\n",
        "df.to_excel('data/new_table2.xlsx', sheet_name='Sheet1')"
      ],
      "execution_count": 0,
      "outputs": []
    },
    {
      "cell_type": "markdown",
      "metadata": {
        "id": "u99gDavISaPR",
        "colab_type": "text"
      },
      "source": [
        "## 二、基本数据结构\n",
        "### 1. Series\n",
        "#### （a）创建一个Series"
      ]
    },
    {
      "cell_type": "markdown",
      "metadata": {
        "id": "2hMp2cypSaPS",
        "colab_type": "text"
      },
      "source": [
        "#### 对于一个Series，其中最常用的属性为值（values），索引（index），名字（name），类型（dtype）"
      ]
    },
    {
      "cell_type": "code",
      "metadata": {
        "id": "5gZypGQkSaPS",
        "colab_type": "code",
        "outputId": "ff022c60-630c-4450-dda0-764af436969e",
        "colab": {
          "base_uri": "https://localhost:8080/",
          "height": 119
        }
      },
      "source": [
        "s = pd.Series(np.random.randn(5),index=['a','b','c','d','e'],name='这是一个Series',dtype='float64')\n",
        "s"
      ],
      "execution_count": 13,
      "outputs": [
        {
          "output_type": "execute_result",
          "data": {
            "text/plain": [
              "a   -1.322131\n",
              "b   -1.003923\n",
              "c   -1.940832\n",
              "d    0.895133\n",
              "e   -0.428830\n",
              "Name: 这是一个Series, dtype: float64"
            ]
          },
          "metadata": {
            "tags": []
          },
          "execution_count": 13
        }
      ]
    },
    {
      "cell_type": "markdown",
      "metadata": {
        "id": "yuvK0Up-SaPV",
        "colab_type": "text"
      },
      "source": [
        "#### （b）访问Series属性"
      ]
    },
    {
      "cell_type": "code",
      "metadata": {
        "id": "UR_esUOTSaPV",
        "colab_type": "code",
        "outputId": "b498e88a-ed57-4df0-c642-7182b5fec1fc",
        "colab": {
          "base_uri": "https://localhost:8080/",
          "height": 34
        }
      },
      "source": [
        "s.values"
      ],
      "execution_count": 14,
      "outputs": [
        {
          "output_type": "execute_result",
          "data": {
            "text/plain": [
              "array([-1.32213104, -1.00392282, -1.94083221,  0.8951327 , -0.42882983])"
            ]
          },
          "metadata": {
            "tags": []
          },
          "execution_count": 14
        }
      ]
    },
    {
      "cell_type": "code",
      "metadata": {
        "id": "EU2wo25XSaPY",
        "colab_type": "code",
        "outputId": "654031c6-4e4d-4d89-ecc2-eac334f9e758",
        "colab": {
          "base_uri": "https://localhost:8080/",
          "height": 34
        }
      },
      "source": [
        "s.name"
      ],
      "execution_count": 15,
      "outputs": [
        {
          "output_type": "execute_result",
          "data": {
            "text/plain": [
              "'这是一个Series'"
            ]
          },
          "metadata": {
            "tags": []
          },
          "execution_count": 15
        }
      ]
    },
    {
      "cell_type": "code",
      "metadata": {
        "id": "OHJfrbyWSaPb",
        "colab_type": "code",
        "outputId": "10c42c74-8cd0-4da9-9861-f2343d9b43e7",
        "colab": {
          "base_uri": "https://localhost:8080/",
          "height": 34
        }
      },
      "source": [
        "s.index"
      ],
      "execution_count": 16,
      "outputs": [
        {
          "output_type": "execute_result",
          "data": {
            "text/plain": [
              "Index(['a', 'b', 'c', 'd', 'e'], dtype='object')"
            ]
          },
          "metadata": {
            "tags": []
          },
          "execution_count": 16
        }
      ]
    },
    {
      "cell_type": "code",
      "metadata": {
        "id": "_vtOr4fuSaPd",
        "colab_type": "code",
        "outputId": "52d8ffd3-3375-4c65-ad30-02b4adbef740",
        "colab": {
          "base_uri": "https://localhost:8080/",
          "height": 34
        }
      },
      "source": [
        "s.dtype"
      ],
      "execution_count": 17,
      "outputs": [
        {
          "output_type": "execute_result",
          "data": {
            "text/plain": [
              "dtype('float64')"
            ]
          },
          "metadata": {
            "tags": []
          },
          "execution_count": 17
        }
      ]
    },
    {
      "cell_type": "markdown",
      "metadata": {
        "id": "852wQStwSaPf",
        "colab_type": "text"
      },
      "source": [
        "#### （c）取出某一个元素\n",
        "#### 将在第2章详细讨论索引的应用，这里先大致了解"
      ]
    },
    {
      "cell_type": "code",
      "metadata": {
        "id": "4uMv0L0fSaPf",
        "colab_type": "code",
        "outputId": "bb948b96-26d0-481a-d959-b00beb888936",
        "colab": {
          "base_uri": "https://localhost:8080/",
          "height": 34
        }
      },
      "source": [
        "s['a']"
      ],
      "execution_count": 18,
      "outputs": [
        {
          "output_type": "execute_result",
          "data": {
            "text/plain": [
              "-1.3221310410312717"
            ]
          },
          "metadata": {
            "tags": []
          },
          "execution_count": 18
        }
      ]
    },
    {
      "cell_type": "markdown",
      "metadata": {
        "id": "QWo96IZqSaPh",
        "colab_type": "text"
      },
      "source": [
        "#### （d）调用方法"
      ]
    },
    {
      "cell_type": "code",
      "metadata": {
        "id": "xGkYs8CFSaPi",
        "colab_type": "code",
        "outputId": "e2e51060-9fed-44fc-9043-302e8b06c4ae",
        "colab": {
          "base_uri": "https://localhost:8080/",
          "height": 0
        }
      },
      "source": [
        "s.mean()"
      ],
      "execution_count": 19,
      "outputs": [
        {
          "output_type": "execute_result",
          "data": {
            "text/plain": [
              "-0.7601166401779089"
            ]
          },
          "metadata": {
            "tags": []
          },
          "execution_count": 19
        }
      ]
    },
    {
      "cell_type": "markdown",
      "metadata": {
        "id": "3EynEb2qSaPk",
        "colab_type": "text"
      },
      "source": [
        "#### Series有相当多的方法可以调用："
      ]
    },
    {
      "cell_type": "code",
      "metadata": {
        "id": "icXMfRe3SaPl",
        "colab_type": "code",
        "outputId": "a76c68c8-6710-4ae5-e644-7f182e0903a8",
        "colab": {
          "base_uri": "https://localhost:8080/",
          "height": 0
        }
      },
      "source": [
        "print([attr for attr in dir(s) if not attr.startswith('_')])"
      ],
      "execution_count": 20,
      "outputs": [
        {
          "output_type": "stream",
          "text": [
            "['T', 'a', 'abs', 'add', 'add_prefix', 'add_suffix', 'agg', 'aggregate', 'align', 'all', 'any', 'append', 'apply', 'argmax', 'argmin', 'argsort', 'array', 'asfreq', 'asof', 'astype', 'at', 'at_time', 'attrs', 'autocorr', 'axes', 'b', 'between', 'between_time', 'bfill', 'bool', 'c', 'clip', 'combine', 'combine_first', 'convert_dtypes', 'copy', 'corr', 'count', 'cov', 'cummax', 'cummin', 'cumprod', 'cumsum', 'd', 'describe', 'diff', 'div', 'divide', 'divmod', 'dot', 'drop', 'drop_duplicates', 'droplevel', 'dropna', 'dtype', 'dtypes', 'duplicated', 'e', 'empty', 'eq', 'equals', 'ewm', 'expanding', 'explode', 'factorize', 'ffill', 'fillna', 'filter', 'first', 'first_valid_index', 'floordiv', 'ge', 'get', 'groupby', 'gt', 'hasnans', 'head', 'hist', 'iat', 'idxmax', 'idxmin', 'iloc', 'index', 'infer_objects', 'interpolate', 'is_monotonic', 'is_monotonic_decreasing', 'is_monotonic_increasing', 'is_unique', 'isin', 'isna', 'isnull', 'item', 'items', 'iteritems', 'keys', 'kurt', 'kurtosis', 'last', 'last_valid_index', 'le', 'loc', 'lt', 'mad', 'map', 'mask', 'max', 'mean', 'median', 'memory_usage', 'min', 'mod', 'mode', 'mul', 'multiply', 'name', 'nbytes', 'ndim', 'ne', 'nlargest', 'notna', 'notnull', 'nsmallest', 'nunique', 'pct_change', 'pipe', 'plot', 'pop', 'pow', 'prod', 'product', 'quantile', 'radd', 'rank', 'ravel', 'rdiv', 'rdivmod', 'reindex', 'reindex_like', 'rename', 'rename_axis', 'reorder_levels', 'repeat', 'replace', 'resample', 'reset_index', 'rfloordiv', 'rmod', 'rmul', 'rolling', 'round', 'rpow', 'rsub', 'rtruediv', 'sample', 'searchsorted', 'sem', 'set_axis', 'shape', 'shift', 'size', 'skew', 'slice_shift', 'sort_index', 'sort_values', 'squeeze', 'std', 'sub', 'subtract', 'sum', 'swapaxes', 'swaplevel', 'tail', 'take', 'to_clipboard', 'to_csv', 'to_dict', 'to_excel', 'to_frame', 'to_hdf', 'to_json', 'to_latex', 'to_list', 'to_markdown', 'to_numpy', 'to_period', 'to_pickle', 'to_sql', 'to_string', 'to_timestamp', 'to_xarray', 'transform', 'transpose', 'truediv', 'truncate', 'tshift', 'tz_convert', 'tz_localize', 'unique', 'unstack', 'update', 'value_counts', 'values', 'var', 'view', 'where', 'xs']\n"
          ],
          "name": "stdout"
        }
      ]
    },
    {
      "cell_type": "markdown",
      "metadata": {
        "id": "463dgOsDSaPn",
        "colab_type": "text"
      },
      "source": [
        "### 2. DataFrame\n",
        "#### （a）创建一个DataFrame"
      ]
    },
    {
      "cell_type": "code",
      "metadata": {
        "id": "SmzmsNaySaPn",
        "colab_type": "code",
        "outputId": "ec5e9cdb-8dc5-42bc-e374-8af9c2896277",
        "colab": {
          "base_uri": "https://localhost:8080/",
          "height": 204
        }
      },
      "source": [
        "df = pd.DataFrame({'col1':list('abcde'),'col2':range(5,10),'col3':[1.3,2.5,3.6,4.6,5.8]},\n",
        "                 index=list('一二三四五'))\n",
        "df"
      ],
      "execution_count": 21,
      "outputs": [
        {
          "output_type": "execute_result",
          "data": {
            "text/html": [
              "<div>\n",
              "<style scoped>\n",
              "    .dataframe tbody tr th:only-of-type {\n",
              "        vertical-align: middle;\n",
              "    }\n",
              "\n",
              "    .dataframe tbody tr th {\n",
              "        vertical-align: top;\n",
              "    }\n",
              "\n",
              "    .dataframe thead th {\n",
              "        text-align: right;\n",
              "    }\n",
              "</style>\n",
              "<table border=\"1\" class=\"dataframe\">\n",
              "  <thead>\n",
              "    <tr style=\"text-align: right;\">\n",
              "      <th></th>\n",
              "      <th>col1</th>\n",
              "      <th>col2</th>\n",
              "      <th>col3</th>\n",
              "    </tr>\n",
              "  </thead>\n",
              "  <tbody>\n",
              "    <tr>\n",
              "      <th>一</th>\n",
              "      <td>a</td>\n",
              "      <td>5</td>\n",
              "      <td>1.3</td>\n",
              "    </tr>\n",
              "    <tr>\n",
              "      <th>二</th>\n",
              "      <td>b</td>\n",
              "      <td>6</td>\n",
              "      <td>2.5</td>\n",
              "    </tr>\n",
              "    <tr>\n",
              "      <th>三</th>\n",
              "      <td>c</td>\n",
              "      <td>7</td>\n",
              "      <td>3.6</td>\n",
              "    </tr>\n",
              "    <tr>\n",
              "      <th>四</th>\n",
              "      <td>d</td>\n",
              "      <td>8</td>\n",
              "      <td>4.6</td>\n",
              "    </tr>\n",
              "    <tr>\n",
              "      <th>五</th>\n",
              "      <td>e</td>\n",
              "      <td>9</td>\n",
              "      <td>5.8</td>\n",
              "    </tr>\n",
              "  </tbody>\n",
              "</table>\n",
              "</div>"
            ],
            "text/plain": [
              "  col1  col2  col3\n",
              "一    a     5   1.3\n",
              "二    b     6   2.5\n",
              "三    c     7   3.6\n",
              "四    d     8   4.6\n",
              "五    e     9   5.8"
            ]
          },
          "metadata": {
            "tags": []
          },
          "execution_count": 21
        }
      ]
    },
    {
      "cell_type": "markdown",
      "metadata": {
        "id": "VXdyAjCOSaPq",
        "colab_type": "text"
      },
      "source": [
        "#### （b）从DataFrame取出一列为Series"
      ]
    },
    {
      "cell_type": "code",
      "metadata": {
        "id": "gYIbhGMWSaPq",
        "colab_type": "code",
        "outputId": "4d35f17e-7b19-4f3e-b19e-6eb4654a4ac3",
        "colab": {
          "base_uri": "https://localhost:8080/",
          "height": 0
        }
      },
      "source": [
        "df['col1']"
      ],
      "execution_count": 22,
      "outputs": [
        {
          "output_type": "execute_result",
          "data": {
            "text/plain": [
              "一    a\n",
              "二    b\n",
              "三    c\n",
              "四    d\n",
              "五    e\n",
              "Name: col1, dtype: object"
            ]
          },
          "metadata": {
            "tags": []
          },
          "execution_count": 22
        }
      ]
    },
    {
      "cell_type": "code",
      "metadata": {
        "id": "PW_VobXASaPs",
        "colab_type": "code",
        "outputId": "cdf15b79-2e97-4463-e8af-6ccfae6af1bf",
        "colab": {
          "base_uri": "https://localhost:8080/",
          "height": 0
        }
      },
      "source": [
        "type(df)"
      ],
      "execution_count": 23,
      "outputs": [
        {
          "output_type": "execute_result",
          "data": {
            "text/plain": [
              "pandas.core.frame.DataFrame"
            ]
          },
          "metadata": {
            "tags": []
          },
          "execution_count": 23
        }
      ]
    },
    {
      "cell_type": "code",
      "metadata": {
        "id": "41VaOPJUSaPu",
        "colab_type": "code",
        "outputId": "d5674bd7-788c-4207-dd3b-fac5546a8146",
        "colab": {
          "base_uri": "https://localhost:8080/",
          "height": 0
        }
      },
      "source": [
        "type(df['col1'])"
      ],
      "execution_count": 24,
      "outputs": [
        {
          "output_type": "execute_result",
          "data": {
            "text/plain": [
              "pandas.core.series.Series"
            ]
          },
          "metadata": {
            "tags": []
          },
          "execution_count": 24
        }
      ]
    },
    {
      "cell_type": "markdown",
      "metadata": {
        "id": "zETttsvlSaPv",
        "colab_type": "text"
      },
      "source": [
        "#### （c）修改行或列名"
      ]
    },
    {
      "cell_type": "code",
      "metadata": {
        "id": "_22fhTwPSaPw",
        "colab_type": "code",
        "outputId": "d6d225a3-9191-4536-8a32-3f8f85e302b1",
        "colab": {
          "base_uri": "https://localhost:8080/",
          "height": 0
        }
      },
      "source": [
        "df.rename(index={'一':'one'},columns={'col1':'new_col1'})"
      ],
      "execution_count": 25,
      "outputs": [
        {
          "output_type": "execute_result",
          "data": {
            "text/html": [
              "<div>\n",
              "<style scoped>\n",
              "    .dataframe tbody tr th:only-of-type {\n",
              "        vertical-align: middle;\n",
              "    }\n",
              "\n",
              "    .dataframe tbody tr th {\n",
              "        vertical-align: top;\n",
              "    }\n",
              "\n",
              "    .dataframe thead th {\n",
              "        text-align: right;\n",
              "    }\n",
              "</style>\n",
              "<table border=\"1\" class=\"dataframe\">\n",
              "  <thead>\n",
              "    <tr style=\"text-align: right;\">\n",
              "      <th></th>\n",
              "      <th>new_col1</th>\n",
              "      <th>col2</th>\n",
              "      <th>col3</th>\n",
              "    </tr>\n",
              "  </thead>\n",
              "  <tbody>\n",
              "    <tr>\n",
              "      <th>one</th>\n",
              "      <td>a</td>\n",
              "      <td>5</td>\n",
              "      <td>1.3</td>\n",
              "    </tr>\n",
              "    <tr>\n",
              "      <th>二</th>\n",
              "      <td>b</td>\n",
              "      <td>6</td>\n",
              "      <td>2.5</td>\n",
              "    </tr>\n",
              "    <tr>\n",
              "      <th>三</th>\n",
              "      <td>c</td>\n",
              "      <td>7</td>\n",
              "      <td>3.6</td>\n",
              "    </tr>\n",
              "    <tr>\n",
              "      <th>四</th>\n",
              "      <td>d</td>\n",
              "      <td>8</td>\n",
              "      <td>4.6</td>\n",
              "    </tr>\n",
              "    <tr>\n",
              "      <th>五</th>\n",
              "      <td>e</td>\n",
              "      <td>9</td>\n",
              "      <td>5.8</td>\n",
              "    </tr>\n",
              "  </tbody>\n",
              "</table>\n",
              "</div>"
            ],
            "text/plain": [
              "    new_col1  col2  col3\n",
              "one        a     5   1.3\n",
              "二          b     6   2.5\n",
              "三          c     7   3.6\n",
              "四          d     8   4.6\n",
              "五          e     9   5.8"
            ]
          },
          "metadata": {
            "tags": []
          },
          "execution_count": 25
        }
      ]
    },
    {
      "cell_type": "markdown",
      "metadata": {
        "id": "w3FR7zgnSaPy",
        "colab_type": "text"
      },
      "source": [
        "#### （d）调用属性和方法"
      ]
    },
    {
      "cell_type": "code",
      "metadata": {
        "id": "FHz0EwzWSaPy",
        "colab_type": "code",
        "outputId": "486f4e17-c6eb-41bd-88de-799965afa3e9",
        "colab": {
          "base_uri": "https://localhost:8080/",
          "height": 0
        }
      },
      "source": [
        "df.index"
      ],
      "execution_count": 26,
      "outputs": [
        {
          "output_type": "execute_result",
          "data": {
            "text/plain": [
              "Index(['一', '二', '三', '四', '五'], dtype='object')"
            ]
          },
          "metadata": {
            "tags": []
          },
          "execution_count": 26
        }
      ]
    },
    {
      "cell_type": "code",
      "metadata": {
        "id": "PZn6rqpKSaP0",
        "colab_type": "code",
        "outputId": "9415131a-49f7-4a0a-9e56-c133d5ab20c4",
        "colab": {
          "base_uri": "https://localhost:8080/",
          "height": 0
        }
      },
      "source": [
        "df.columns"
      ],
      "execution_count": 27,
      "outputs": [
        {
          "output_type": "execute_result",
          "data": {
            "text/plain": [
              "Index(['col1', 'col2', 'col3'], dtype='object')"
            ]
          },
          "metadata": {
            "tags": []
          },
          "execution_count": 27
        }
      ]
    },
    {
      "cell_type": "code",
      "metadata": {
        "id": "In36XWCTSaP1",
        "colab_type": "code",
        "outputId": "b774d169-cda9-4d17-a8c0-2f58b71e4396",
        "colab": {
          "base_uri": "https://localhost:8080/",
          "height": 0
        }
      },
      "source": [
        "df.values"
      ],
      "execution_count": 28,
      "outputs": [
        {
          "output_type": "execute_result",
          "data": {
            "text/plain": [
              "array([['a', 5, 1.3],\n",
              "       ['b', 6, 2.5],\n",
              "       ['c', 7, 3.6],\n",
              "       ['d', 8, 4.6],\n",
              "       ['e', 9, 5.8]], dtype=object)"
            ]
          },
          "metadata": {
            "tags": []
          },
          "execution_count": 28
        }
      ]
    },
    {
      "cell_type": "code",
      "metadata": {
        "id": "zx8T20GGSaP3",
        "colab_type": "code",
        "outputId": "a83ca817-6f7e-4f48-c1e9-5db422352eab",
        "colab": {
          "base_uri": "https://localhost:8080/",
          "height": 0
        }
      },
      "source": [
        "df.shape"
      ],
      "execution_count": 29,
      "outputs": [
        {
          "output_type": "execute_result",
          "data": {
            "text/plain": [
              "(5, 3)"
            ]
          },
          "metadata": {
            "tags": []
          },
          "execution_count": 29
        }
      ]
    },
    {
      "cell_type": "code",
      "metadata": {
        "id": "smeKfJ9jSaP4",
        "colab_type": "code",
        "outputId": "41a022b7-5efe-4230-f0b8-a587fada8d8d",
        "colab": {
          "base_uri": "https://localhost:8080/",
          "height": 0
        }
      },
      "source": [
        "df.mean() #本质上是一种Aggregation操作，将在第3章详细介绍"
      ],
      "execution_count": 30,
      "outputs": [
        {
          "output_type": "execute_result",
          "data": {
            "text/plain": [
              "col2    7.00\n",
              "col3    3.56\n",
              "dtype: float64"
            ]
          },
          "metadata": {
            "tags": []
          },
          "execution_count": 30
        }
      ]
    },
    {
      "cell_type": "markdown",
      "metadata": {
        "id": "UVK6WlJCSaP6",
        "colab_type": "text"
      },
      "source": [
        "#### （e）索引对齐特性\n",
        "#### 这是Pandas中非常强大的特性，不理解这一特性有时就会造成一些麻烦"
      ]
    },
    {
      "cell_type": "code",
      "metadata": {
        "id": "t_5zAbKWSaP7",
        "colab_type": "code",
        "outputId": "eb77091c-c08f-4e4e-d757-74ca33260ad2",
        "colab": {
          "base_uri": "https://localhost:8080/",
          "height": 0
        }
      },
      "source": [
        "df1 = pd.DataFrame({'A':[1,2,3]},index=[1,2,3])\n",
        "df2 = pd.DataFrame({'A':[1,2,3]},index=[3,1,2])\n",
        "df1-df2 #由于索引对齐，因此结果不是0"
      ],
      "execution_count": 31,
      "outputs": [
        {
          "output_type": "execute_result",
          "data": {
            "text/html": [
              "<div>\n",
              "<style scoped>\n",
              "    .dataframe tbody tr th:only-of-type {\n",
              "        vertical-align: middle;\n",
              "    }\n",
              "\n",
              "    .dataframe tbody tr th {\n",
              "        vertical-align: top;\n",
              "    }\n",
              "\n",
              "    .dataframe thead th {\n",
              "        text-align: right;\n",
              "    }\n",
              "</style>\n",
              "<table border=\"1\" class=\"dataframe\">\n",
              "  <thead>\n",
              "    <tr style=\"text-align: right;\">\n",
              "      <th></th>\n",
              "      <th>A</th>\n",
              "    </tr>\n",
              "  </thead>\n",
              "  <tbody>\n",
              "    <tr>\n",
              "      <th>1</th>\n",
              "      <td>-1</td>\n",
              "    </tr>\n",
              "    <tr>\n",
              "      <th>2</th>\n",
              "      <td>-1</td>\n",
              "    </tr>\n",
              "    <tr>\n",
              "      <th>3</th>\n",
              "      <td>2</td>\n",
              "    </tr>\n",
              "  </tbody>\n",
              "</table>\n",
              "</div>"
            ],
            "text/plain": [
              "   A\n",
              "1 -1\n",
              "2 -1\n",
              "3  2"
            ]
          },
          "metadata": {
            "tags": []
          },
          "execution_count": 31
        }
      ]
    },
    {
      "cell_type": "markdown",
      "metadata": {
        "id": "qsvDbu2tSaP9",
        "colab_type": "text"
      },
      "source": [
        "#### （f）列的删除与添加\n",
        "#### 对于删除而言，可以使用drop函数或del或pop"
      ]
    },
    {
      "cell_type": "code",
      "metadata": {
        "id": "5FMvDtGVSaP9",
        "colab_type": "code",
        "outputId": "fe38068c-ac9a-4255-f0a4-90a8b6d74df7",
        "colab": {
          "base_uri": "https://localhost:8080/",
          "height": 0
        }
      },
      "source": [
        "df.drop(index='五',columns='col1') #设置inplace=True后会直接在原DataFrame中改动"
      ],
      "execution_count": 32,
      "outputs": [
        {
          "output_type": "execute_result",
          "data": {
            "text/html": [
              "<div>\n",
              "<style scoped>\n",
              "    .dataframe tbody tr th:only-of-type {\n",
              "        vertical-align: middle;\n",
              "    }\n",
              "\n",
              "    .dataframe tbody tr th {\n",
              "        vertical-align: top;\n",
              "    }\n",
              "\n",
              "    .dataframe thead th {\n",
              "        text-align: right;\n",
              "    }\n",
              "</style>\n",
              "<table border=\"1\" class=\"dataframe\">\n",
              "  <thead>\n",
              "    <tr style=\"text-align: right;\">\n",
              "      <th></th>\n",
              "      <th>col2</th>\n",
              "      <th>col3</th>\n",
              "    </tr>\n",
              "  </thead>\n",
              "  <tbody>\n",
              "    <tr>\n",
              "      <th>一</th>\n",
              "      <td>5</td>\n",
              "      <td>1.3</td>\n",
              "    </tr>\n",
              "    <tr>\n",
              "      <th>二</th>\n",
              "      <td>6</td>\n",
              "      <td>2.5</td>\n",
              "    </tr>\n",
              "    <tr>\n",
              "      <th>三</th>\n",
              "      <td>7</td>\n",
              "      <td>3.6</td>\n",
              "    </tr>\n",
              "    <tr>\n",
              "      <th>四</th>\n",
              "      <td>8</td>\n",
              "      <td>4.6</td>\n",
              "    </tr>\n",
              "  </tbody>\n",
              "</table>\n",
              "</div>"
            ],
            "text/plain": [
              "   col2  col3\n",
              "一     5   1.3\n",
              "二     6   2.5\n",
              "三     7   3.6\n",
              "四     8   4.6"
            ]
          },
          "metadata": {
            "tags": []
          },
          "execution_count": 32
        }
      ]
    },
    {
      "cell_type": "code",
      "metadata": {
        "id": "tYvvEWYhSaQB",
        "colab_type": "code",
        "outputId": "f43360d3-6c64-44f7-dff9-a12056eb33a9",
        "colab": {
          "base_uri": "https://localhost:8080/",
          "height": 0
        }
      },
      "source": [
        "df['col1']=[1,2,3,4,5]\n",
        "del df['col1']\n",
        "df"
      ],
      "execution_count": 33,
      "outputs": [
        {
          "output_type": "execute_result",
          "data": {
            "text/html": [
              "<div>\n",
              "<style scoped>\n",
              "    .dataframe tbody tr th:only-of-type {\n",
              "        vertical-align: middle;\n",
              "    }\n",
              "\n",
              "    .dataframe tbody tr th {\n",
              "        vertical-align: top;\n",
              "    }\n",
              "\n",
              "    .dataframe thead th {\n",
              "        text-align: right;\n",
              "    }\n",
              "</style>\n",
              "<table border=\"1\" class=\"dataframe\">\n",
              "  <thead>\n",
              "    <tr style=\"text-align: right;\">\n",
              "      <th></th>\n",
              "      <th>col2</th>\n",
              "      <th>col3</th>\n",
              "    </tr>\n",
              "  </thead>\n",
              "  <tbody>\n",
              "    <tr>\n",
              "      <th>一</th>\n",
              "      <td>5</td>\n",
              "      <td>1.3</td>\n",
              "    </tr>\n",
              "    <tr>\n",
              "      <th>二</th>\n",
              "      <td>6</td>\n",
              "      <td>2.5</td>\n",
              "    </tr>\n",
              "    <tr>\n",
              "      <th>三</th>\n",
              "      <td>7</td>\n",
              "      <td>3.6</td>\n",
              "    </tr>\n",
              "    <tr>\n",
              "      <th>四</th>\n",
              "      <td>8</td>\n",
              "      <td>4.6</td>\n",
              "    </tr>\n",
              "    <tr>\n",
              "      <th>五</th>\n",
              "      <td>9</td>\n",
              "      <td>5.8</td>\n",
              "    </tr>\n",
              "  </tbody>\n",
              "</table>\n",
              "</div>"
            ],
            "text/plain": [
              "   col2  col3\n",
              "一     5   1.3\n",
              "二     6   2.5\n",
              "三     7   3.6\n",
              "四     8   4.6\n",
              "五     9   5.8"
            ]
          },
          "metadata": {
            "tags": []
          },
          "execution_count": 33
        }
      ]
    },
    {
      "cell_type": "markdown",
      "metadata": {
        "id": "nUrzWrZgSaQD",
        "colab_type": "text"
      },
      "source": [
        "#### pop方法直接在原来的DataFrame上操作，且返回被删除的列，与python中的pop函数类似"
      ]
    },
    {
      "cell_type": "code",
      "metadata": {
        "id": "e6ldbzKiSaQD",
        "colab_type": "code",
        "outputId": "fe8cf533-0e23-4ce2-bf1b-8d72602baa77",
        "colab": {
          "base_uri": "https://localhost:8080/",
          "height": 0
        }
      },
      "source": [
        "df['col1']=[1,2,3,4,5]\n",
        "df.pop('col1')"
      ],
      "execution_count": 34,
      "outputs": [
        {
          "output_type": "execute_result",
          "data": {
            "text/plain": [
              "一    1\n",
              "二    2\n",
              "三    3\n",
              "四    4\n",
              "五    5\n",
              "Name: col1, dtype: int64"
            ]
          },
          "metadata": {
            "tags": []
          },
          "execution_count": 34
        }
      ]
    },
    {
      "cell_type": "code",
      "metadata": {
        "id": "nxJMQrmSSaQF",
        "colab_type": "code",
        "outputId": "d42d03f1-2082-4882-c864-a57c68ea6238",
        "colab": {
          "base_uri": "https://localhost:8080/",
          "height": 0
        }
      },
      "source": [
        "df"
      ],
      "execution_count": 35,
      "outputs": [
        {
          "output_type": "execute_result",
          "data": {
            "text/html": [
              "<div>\n",
              "<style scoped>\n",
              "    .dataframe tbody tr th:only-of-type {\n",
              "        vertical-align: middle;\n",
              "    }\n",
              "\n",
              "    .dataframe tbody tr th {\n",
              "        vertical-align: top;\n",
              "    }\n",
              "\n",
              "    .dataframe thead th {\n",
              "        text-align: right;\n",
              "    }\n",
              "</style>\n",
              "<table border=\"1\" class=\"dataframe\">\n",
              "  <thead>\n",
              "    <tr style=\"text-align: right;\">\n",
              "      <th></th>\n",
              "      <th>col2</th>\n",
              "      <th>col3</th>\n",
              "    </tr>\n",
              "  </thead>\n",
              "  <tbody>\n",
              "    <tr>\n",
              "      <th>一</th>\n",
              "      <td>5</td>\n",
              "      <td>1.3</td>\n",
              "    </tr>\n",
              "    <tr>\n",
              "      <th>二</th>\n",
              "      <td>6</td>\n",
              "      <td>2.5</td>\n",
              "    </tr>\n",
              "    <tr>\n",
              "      <th>三</th>\n",
              "      <td>7</td>\n",
              "      <td>3.6</td>\n",
              "    </tr>\n",
              "    <tr>\n",
              "      <th>四</th>\n",
              "      <td>8</td>\n",
              "      <td>4.6</td>\n",
              "    </tr>\n",
              "    <tr>\n",
              "      <th>五</th>\n",
              "      <td>9</td>\n",
              "      <td>5.8</td>\n",
              "    </tr>\n",
              "  </tbody>\n",
              "</table>\n",
              "</div>"
            ],
            "text/plain": [
              "   col2  col3\n",
              "一     5   1.3\n",
              "二     6   2.5\n",
              "三     7   3.6\n",
              "四     8   4.6\n",
              "五     9   5.8"
            ]
          },
          "metadata": {
            "tags": []
          },
          "execution_count": 35
        }
      ]
    },
    {
      "cell_type": "markdown",
      "metadata": {
        "id": "wPRsYpRVSaQH",
        "colab_type": "text"
      },
      "source": [
        "#### 可以直接增加新的列，也可以使用assign方法"
      ]
    },
    {
      "cell_type": "code",
      "metadata": {
        "id": "qmtxzqVqSaQH",
        "colab_type": "code",
        "outputId": "61da884a-65cf-4378-b95b-baa006e36e45",
        "colab": {
          "base_uri": "https://localhost:8080/",
          "height": 142
        }
      },
      "source": [
        "df1['B']=list('abc')\n",
        "df1"
      ],
      "execution_count": 36,
      "outputs": [
        {
          "output_type": "execute_result",
          "data": {
            "text/html": [
              "<div>\n",
              "<style scoped>\n",
              "    .dataframe tbody tr th:only-of-type {\n",
              "        vertical-align: middle;\n",
              "    }\n",
              "\n",
              "    .dataframe tbody tr th {\n",
              "        vertical-align: top;\n",
              "    }\n",
              "\n",
              "    .dataframe thead th {\n",
              "        text-align: right;\n",
              "    }\n",
              "</style>\n",
              "<table border=\"1\" class=\"dataframe\">\n",
              "  <thead>\n",
              "    <tr style=\"text-align: right;\">\n",
              "      <th></th>\n",
              "      <th>A</th>\n",
              "      <th>B</th>\n",
              "    </tr>\n",
              "  </thead>\n",
              "  <tbody>\n",
              "    <tr>\n",
              "      <th>1</th>\n",
              "      <td>1</td>\n",
              "      <td>a</td>\n",
              "    </tr>\n",
              "    <tr>\n",
              "      <th>2</th>\n",
              "      <td>2</td>\n",
              "      <td>b</td>\n",
              "    </tr>\n",
              "    <tr>\n",
              "      <th>3</th>\n",
              "      <td>3</td>\n",
              "      <td>c</td>\n",
              "    </tr>\n",
              "  </tbody>\n",
              "</table>\n",
              "</div>"
            ],
            "text/plain": [
              "   A  B\n",
              "1  1  a\n",
              "2  2  b\n",
              "3  3  c"
            ]
          },
          "metadata": {
            "tags": []
          },
          "execution_count": 36
        }
      ]
    },
    {
      "cell_type": "code",
      "metadata": {
        "id": "0g942hS6SaQJ",
        "colab_type": "code",
        "outputId": "e79ae5a5-d151-41bd-f150-1359fa0bf80b",
        "colab": {
          "base_uri": "https://localhost:8080/",
          "height": 142
        }
      },
      "source": [
        "df1.assign(C=pd.Series(list('def')))"
      ],
      "execution_count": 37,
      "outputs": [
        {
          "output_type": "execute_result",
          "data": {
            "text/html": [
              "<div>\n",
              "<style scoped>\n",
              "    .dataframe tbody tr th:only-of-type {\n",
              "        vertical-align: middle;\n",
              "    }\n",
              "\n",
              "    .dataframe tbody tr th {\n",
              "        vertical-align: top;\n",
              "    }\n",
              "\n",
              "    .dataframe thead th {\n",
              "        text-align: right;\n",
              "    }\n",
              "</style>\n",
              "<table border=\"1\" class=\"dataframe\">\n",
              "  <thead>\n",
              "    <tr style=\"text-align: right;\">\n",
              "      <th></th>\n",
              "      <th>A</th>\n",
              "      <th>B</th>\n",
              "      <th>C</th>\n",
              "    </tr>\n",
              "  </thead>\n",
              "  <tbody>\n",
              "    <tr>\n",
              "      <th>1</th>\n",
              "      <td>1</td>\n",
              "      <td>a</td>\n",
              "      <td>e</td>\n",
              "    </tr>\n",
              "    <tr>\n",
              "      <th>2</th>\n",
              "      <td>2</td>\n",
              "      <td>b</td>\n",
              "      <td>f</td>\n",
              "    </tr>\n",
              "    <tr>\n",
              "      <th>3</th>\n",
              "      <td>3</td>\n",
              "      <td>c</td>\n",
              "      <td>NaN</td>\n",
              "    </tr>\n",
              "  </tbody>\n",
              "</table>\n",
              "</div>"
            ],
            "text/plain": [
              "   A  B    C\n",
              "1  1  a    e\n",
              "2  2  b    f\n",
              "3  3  c  NaN"
            ]
          },
          "metadata": {
            "tags": []
          },
          "execution_count": 37
        }
      ]
    },
    {
      "cell_type": "markdown",
      "metadata": {
        "id": "OFD4nykQSaQL",
        "colab_type": "text"
      },
      "source": [
        "#### 但assign方法不会对原DataFrame做修改"
      ]
    },
    {
      "cell_type": "code",
      "metadata": {
        "id": "dN08ynvmSaQL",
        "colab_type": "code",
        "outputId": "05f671e9-97c6-48ac-d735-2391fd6b9d96",
        "colab": {
          "base_uri": "https://localhost:8080/",
          "height": 142
        }
      },
      "source": [
        "df1"
      ],
      "execution_count": 38,
      "outputs": [
        {
          "output_type": "execute_result",
          "data": {
            "text/html": [
              "<div>\n",
              "<style scoped>\n",
              "    .dataframe tbody tr th:only-of-type {\n",
              "        vertical-align: middle;\n",
              "    }\n",
              "\n",
              "    .dataframe tbody tr th {\n",
              "        vertical-align: top;\n",
              "    }\n",
              "\n",
              "    .dataframe thead th {\n",
              "        text-align: right;\n",
              "    }\n",
              "</style>\n",
              "<table border=\"1\" class=\"dataframe\">\n",
              "  <thead>\n",
              "    <tr style=\"text-align: right;\">\n",
              "      <th></th>\n",
              "      <th>A</th>\n",
              "      <th>B</th>\n",
              "    </tr>\n",
              "  </thead>\n",
              "  <tbody>\n",
              "    <tr>\n",
              "      <th>1</th>\n",
              "      <td>1</td>\n",
              "      <td>a</td>\n",
              "    </tr>\n",
              "    <tr>\n",
              "      <th>2</th>\n",
              "      <td>2</td>\n",
              "      <td>b</td>\n",
              "    </tr>\n",
              "    <tr>\n",
              "      <th>3</th>\n",
              "      <td>3</td>\n",
              "      <td>c</td>\n",
              "    </tr>\n",
              "  </tbody>\n",
              "</table>\n",
              "</div>"
            ],
            "text/plain": [
              "   A  B\n",
              "1  1  a\n",
              "2  2  b\n",
              "3  3  c"
            ]
          },
          "metadata": {
            "tags": []
          },
          "execution_count": 38
        }
      ]
    },
    {
      "cell_type": "markdown",
      "metadata": {
        "id": "CZEHrK-hSaQN",
        "colab_type": "text"
      },
      "source": [
        "#### （g）根据类型选择列"
      ]
    },
    {
      "cell_type": "code",
      "metadata": {
        "id": "9kqjBRW1SaQN",
        "colab_type": "code",
        "outputId": "4feed77e-422e-4869-cd40-f375f3d65a08",
        "colab": {
          "base_uri": "https://localhost:8080/",
          "height": 204
        }
      },
      "source": [
        "df.select_dtypes(include=['number']).head()"
      ],
      "execution_count": 39,
      "outputs": [
        {
          "output_type": "execute_result",
          "data": {
            "text/html": [
              "<div>\n",
              "<style scoped>\n",
              "    .dataframe tbody tr th:only-of-type {\n",
              "        vertical-align: middle;\n",
              "    }\n",
              "\n",
              "    .dataframe tbody tr th {\n",
              "        vertical-align: top;\n",
              "    }\n",
              "\n",
              "    .dataframe thead th {\n",
              "        text-align: right;\n",
              "    }\n",
              "</style>\n",
              "<table border=\"1\" class=\"dataframe\">\n",
              "  <thead>\n",
              "    <tr style=\"text-align: right;\">\n",
              "      <th></th>\n",
              "      <th>col2</th>\n",
              "      <th>col3</th>\n",
              "    </tr>\n",
              "  </thead>\n",
              "  <tbody>\n",
              "    <tr>\n",
              "      <th>一</th>\n",
              "      <td>5</td>\n",
              "      <td>1.3</td>\n",
              "    </tr>\n",
              "    <tr>\n",
              "      <th>二</th>\n",
              "      <td>6</td>\n",
              "      <td>2.5</td>\n",
              "    </tr>\n",
              "    <tr>\n",
              "      <th>三</th>\n",
              "      <td>7</td>\n",
              "      <td>3.6</td>\n",
              "    </tr>\n",
              "    <tr>\n",
              "      <th>四</th>\n",
              "      <td>8</td>\n",
              "      <td>4.6</td>\n",
              "    </tr>\n",
              "    <tr>\n",
              "      <th>五</th>\n",
              "      <td>9</td>\n",
              "      <td>5.8</td>\n",
              "    </tr>\n",
              "  </tbody>\n",
              "</table>\n",
              "</div>"
            ],
            "text/plain": [
              "   col2  col3\n",
              "一     5   1.3\n",
              "二     6   2.5\n",
              "三     7   3.6\n",
              "四     8   4.6\n",
              "五     9   5.8"
            ]
          },
          "metadata": {
            "tags": []
          },
          "execution_count": 39
        }
      ]
    },
    {
      "cell_type": "code",
      "metadata": {
        "id": "BjWK1NK1SaQQ",
        "colab_type": "code",
        "outputId": "f143616e-f254-4305-f841-7565d660e12d",
        "colab": {
          "base_uri": "https://localhost:8080/",
          "height": 204
        }
      },
      "source": [
        "df.select_dtypes(include=['float']).head()"
      ],
      "execution_count": 40,
      "outputs": [
        {
          "output_type": "execute_result",
          "data": {
            "text/html": [
              "<div>\n",
              "<style scoped>\n",
              "    .dataframe tbody tr th:only-of-type {\n",
              "        vertical-align: middle;\n",
              "    }\n",
              "\n",
              "    .dataframe tbody tr th {\n",
              "        vertical-align: top;\n",
              "    }\n",
              "\n",
              "    .dataframe thead th {\n",
              "        text-align: right;\n",
              "    }\n",
              "</style>\n",
              "<table border=\"1\" class=\"dataframe\">\n",
              "  <thead>\n",
              "    <tr style=\"text-align: right;\">\n",
              "      <th></th>\n",
              "      <th>col3</th>\n",
              "    </tr>\n",
              "  </thead>\n",
              "  <tbody>\n",
              "    <tr>\n",
              "      <th>一</th>\n",
              "      <td>1.3</td>\n",
              "    </tr>\n",
              "    <tr>\n",
              "      <th>二</th>\n",
              "      <td>2.5</td>\n",
              "    </tr>\n",
              "    <tr>\n",
              "      <th>三</th>\n",
              "      <td>3.6</td>\n",
              "    </tr>\n",
              "    <tr>\n",
              "      <th>四</th>\n",
              "      <td>4.6</td>\n",
              "    </tr>\n",
              "    <tr>\n",
              "      <th>五</th>\n",
              "      <td>5.8</td>\n",
              "    </tr>\n",
              "  </tbody>\n",
              "</table>\n",
              "</div>"
            ],
            "text/plain": [
              "   col3\n",
              "一   1.3\n",
              "二   2.5\n",
              "三   3.6\n",
              "四   4.6\n",
              "五   5.8"
            ]
          },
          "metadata": {
            "tags": []
          },
          "execution_count": 40
        }
      ]
    },
    {
      "cell_type": "markdown",
      "metadata": {
        "id": "UB4mbTdNSaQS",
        "colab_type": "text"
      },
      "source": [
        "#### （h）将Series转换为DataFrame"
      ]
    },
    {
      "cell_type": "code",
      "metadata": {
        "id": "g4DFHHa4SaQS",
        "colab_type": "code",
        "outputId": "3a2eae15-ab08-45c5-d34e-1cb18b031c0a",
        "colab": {
          "base_uri": "https://localhost:8080/",
          "height": 0
        }
      },
      "source": [
        "s = df.mean()\n",
        "s.name='to_DataFrame'\n",
        "s"
      ],
      "execution_count": 41,
      "outputs": [
        {
          "output_type": "execute_result",
          "data": {
            "text/plain": [
              "col2    7.00\n",
              "col3    3.56\n",
              "Name: to_DataFrame, dtype: float64"
            ]
          },
          "metadata": {
            "tags": []
          },
          "execution_count": 41
        }
      ]
    },
    {
      "cell_type": "code",
      "metadata": {
        "id": "_-LQyJEbSaQU",
        "colab_type": "code",
        "outputId": "850f946b-cc21-4daf-a208-1edba8826a2b",
        "colab": {
          "base_uri": "https://localhost:8080/",
          "height": 0
        }
      },
      "source": [
        "s.to_frame()"
      ],
      "execution_count": 42,
      "outputs": [
        {
          "output_type": "execute_result",
          "data": {
            "text/html": [
              "<div>\n",
              "<style scoped>\n",
              "    .dataframe tbody tr th:only-of-type {\n",
              "        vertical-align: middle;\n",
              "    }\n",
              "\n",
              "    .dataframe tbody tr th {\n",
              "        vertical-align: top;\n",
              "    }\n",
              "\n",
              "    .dataframe thead th {\n",
              "        text-align: right;\n",
              "    }\n",
              "</style>\n",
              "<table border=\"1\" class=\"dataframe\">\n",
              "  <thead>\n",
              "    <tr style=\"text-align: right;\">\n",
              "      <th></th>\n",
              "      <th>to_DataFrame</th>\n",
              "    </tr>\n",
              "  </thead>\n",
              "  <tbody>\n",
              "    <tr>\n",
              "      <th>col2</th>\n",
              "      <td>7.00</td>\n",
              "    </tr>\n",
              "    <tr>\n",
              "      <th>col3</th>\n",
              "      <td>3.56</td>\n",
              "    </tr>\n",
              "  </tbody>\n",
              "</table>\n",
              "</div>"
            ],
            "text/plain": [
              "      to_DataFrame\n",
              "col2          7.00\n",
              "col3          3.56"
            ]
          },
          "metadata": {
            "tags": []
          },
          "execution_count": 42
        }
      ]
    },
    {
      "cell_type": "markdown",
      "metadata": {
        "id": "xou8DPJGSaQV",
        "colab_type": "text"
      },
      "source": [
        "#### 使用T符号可以转置"
      ]
    },
    {
      "cell_type": "code",
      "metadata": {
        "id": "1LZlAtwbSaQW",
        "colab_type": "code",
        "outputId": "170c442e-61cb-4933-f10e-c0f5d73bfc49",
        "colab": {
          "base_uri": "https://localhost:8080/",
          "height": 0
        }
      },
      "source": [
        "s.to_frame().T"
      ],
      "execution_count": 43,
      "outputs": [
        {
          "output_type": "execute_result",
          "data": {
            "text/html": [
              "<div>\n",
              "<style scoped>\n",
              "    .dataframe tbody tr th:only-of-type {\n",
              "        vertical-align: middle;\n",
              "    }\n",
              "\n",
              "    .dataframe tbody tr th {\n",
              "        vertical-align: top;\n",
              "    }\n",
              "\n",
              "    .dataframe thead th {\n",
              "        text-align: right;\n",
              "    }\n",
              "</style>\n",
              "<table border=\"1\" class=\"dataframe\">\n",
              "  <thead>\n",
              "    <tr style=\"text-align: right;\">\n",
              "      <th></th>\n",
              "      <th>col2</th>\n",
              "      <th>col3</th>\n",
              "    </tr>\n",
              "  </thead>\n",
              "  <tbody>\n",
              "    <tr>\n",
              "      <th>to_DataFrame</th>\n",
              "      <td>7.0</td>\n",
              "      <td>3.56</td>\n",
              "    </tr>\n",
              "  </tbody>\n",
              "</table>\n",
              "</div>"
            ],
            "text/plain": [
              "              col2  col3\n",
              "to_DataFrame   7.0  3.56"
            ]
          },
          "metadata": {
            "tags": []
          },
          "execution_count": 43
        }
      ]
    },
    {
      "cell_type": "markdown",
      "metadata": {
        "id": "p9QVvttsSaQY",
        "colab_type": "text"
      },
      "source": [
        "## 三、常用基本函数\n",
        "#### 从下面开始，包括后面所有章节，我们都会用到这份虚拟的数据集"
      ]
    },
    {
      "cell_type": "code",
      "metadata": {
        "id": "fPUeeKw7SaQZ",
        "colab_type": "code",
        "colab": {}
      },
      "source": [
        "df = pd.read_csv('data/table.csv')"
      ],
      "execution_count": 0,
      "outputs": []
    },
    {
      "cell_type": "markdown",
      "metadata": {
        "id": "wNCFQLyhSaQa",
        "colab_type": "text"
      },
      "source": [
        "### 1. head和tail"
      ]
    },
    {
      "cell_type": "code",
      "metadata": {
        "id": "ywBna99BSaQb",
        "colab_type": "code",
        "outputId": "15ab3e8e-e313-4246-ee6a-13d80ad0db18",
        "colab": {
          "base_uri": "https://localhost:8080/",
          "height": 0
        }
      },
      "source": [
        "df.head()"
      ],
      "execution_count": 45,
      "outputs": [
        {
          "output_type": "execute_result",
          "data": {
            "text/html": [
              "<div>\n",
              "<style scoped>\n",
              "    .dataframe tbody tr th:only-of-type {\n",
              "        vertical-align: middle;\n",
              "    }\n",
              "\n",
              "    .dataframe tbody tr th {\n",
              "        vertical-align: top;\n",
              "    }\n",
              "\n",
              "    .dataframe thead th {\n",
              "        text-align: right;\n",
              "    }\n",
              "</style>\n",
              "<table border=\"1\" class=\"dataframe\">\n",
              "  <thead>\n",
              "    <tr style=\"text-align: right;\">\n",
              "      <th></th>\n",
              "      <th>School</th>\n",
              "      <th>Class</th>\n",
              "      <th>ID</th>\n",
              "      <th>Gender</th>\n",
              "      <th>Address</th>\n",
              "      <th>Height</th>\n",
              "      <th>Weight</th>\n",
              "      <th>Math</th>\n",
              "      <th>Physics</th>\n",
              "    </tr>\n",
              "  </thead>\n",
              "  <tbody>\n",
              "    <tr>\n",
              "      <th>0</th>\n",
              "      <td>S_1</td>\n",
              "      <td>C_1</td>\n",
              "      <td>1101</td>\n",
              "      <td>M</td>\n",
              "      <td>street_1</td>\n",
              "      <td>173</td>\n",
              "      <td>63</td>\n",
              "      <td>34.0</td>\n",
              "      <td>A+</td>\n",
              "    </tr>\n",
              "    <tr>\n",
              "      <th>1</th>\n",
              "      <td>S_1</td>\n",
              "      <td>C_1</td>\n",
              "      <td>1102</td>\n",
              "      <td>F</td>\n",
              "      <td>street_2</td>\n",
              "      <td>192</td>\n",
              "      <td>73</td>\n",
              "      <td>32.5</td>\n",
              "      <td>B+</td>\n",
              "    </tr>\n",
              "    <tr>\n",
              "      <th>2</th>\n",
              "      <td>S_1</td>\n",
              "      <td>C_1</td>\n",
              "      <td>1103</td>\n",
              "      <td>M</td>\n",
              "      <td>street_2</td>\n",
              "      <td>186</td>\n",
              "      <td>82</td>\n",
              "      <td>87.2</td>\n",
              "      <td>B+</td>\n",
              "    </tr>\n",
              "    <tr>\n",
              "      <th>3</th>\n",
              "      <td>S_1</td>\n",
              "      <td>C_1</td>\n",
              "      <td>1104</td>\n",
              "      <td>F</td>\n",
              "      <td>street_2</td>\n",
              "      <td>167</td>\n",
              "      <td>81</td>\n",
              "      <td>80.4</td>\n",
              "      <td>B-</td>\n",
              "    </tr>\n",
              "    <tr>\n",
              "      <th>4</th>\n",
              "      <td>S_1</td>\n",
              "      <td>C_1</td>\n",
              "      <td>1105</td>\n",
              "      <td>F</td>\n",
              "      <td>street_4</td>\n",
              "      <td>159</td>\n",
              "      <td>64</td>\n",
              "      <td>84.8</td>\n",
              "      <td>B+</td>\n",
              "    </tr>\n",
              "  </tbody>\n",
              "</table>\n",
              "</div>"
            ],
            "text/plain": [
              "  School Class    ID Gender   Address  Height  Weight  Math Physics\n",
              "0    S_1   C_1  1101      M  street_1     173      63  34.0      A+\n",
              "1    S_1   C_1  1102      F  street_2     192      73  32.5      B+\n",
              "2    S_1   C_1  1103      M  street_2     186      82  87.2      B+\n",
              "3    S_1   C_1  1104      F  street_2     167      81  80.4      B-\n",
              "4    S_1   C_1  1105      F  street_4     159      64  84.8      B+"
            ]
          },
          "metadata": {
            "tags": []
          },
          "execution_count": 45
        }
      ]
    },
    {
      "cell_type": "code",
      "metadata": {
        "id": "31FgWcBDSaQc",
        "colab_type": "code",
        "outputId": "366cd684-3402-4847-edc1-c7e874198389",
        "colab": {
          "base_uri": "https://localhost:8080/",
          "height": 0
        }
      },
      "source": [
        "df.tail()"
      ],
      "execution_count": 46,
      "outputs": [
        {
          "output_type": "execute_result",
          "data": {
            "text/html": [
              "<div>\n",
              "<style scoped>\n",
              "    .dataframe tbody tr th:only-of-type {\n",
              "        vertical-align: middle;\n",
              "    }\n",
              "\n",
              "    .dataframe tbody tr th {\n",
              "        vertical-align: top;\n",
              "    }\n",
              "\n",
              "    .dataframe thead th {\n",
              "        text-align: right;\n",
              "    }\n",
              "</style>\n",
              "<table border=\"1\" class=\"dataframe\">\n",
              "  <thead>\n",
              "    <tr style=\"text-align: right;\">\n",
              "      <th></th>\n",
              "      <th>School</th>\n",
              "      <th>Class</th>\n",
              "      <th>ID</th>\n",
              "      <th>Gender</th>\n",
              "      <th>Address</th>\n",
              "      <th>Height</th>\n",
              "      <th>Weight</th>\n",
              "      <th>Math</th>\n",
              "      <th>Physics</th>\n",
              "    </tr>\n",
              "  </thead>\n",
              "  <tbody>\n",
              "    <tr>\n",
              "      <th>30</th>\n",
              "      <td>S_2</td>\n",
              "      <td>C_4</td>\n",
              "      <td>2401</td>\n",
              "      <td>F</td>\n",
              "      <td>street_2</td>\n",
              "      <td>192</td>\n",
              "      <td>62</td>\n",
              "      <td>45.3</td>\n",
              "      <td>A</td>\n",
              "    </tr>\n",
              "    <tr>\n",
              "      <th>31</th>\n",
              "      <td>S_2</td>\n",
              "      <td>C_4</td>\n",
              "      <td>2402</td>\n",
              "      <td>M</td>\n",
              "      <td>street_7</td>\n",
              "      <td>166</td>\n",
              "      <td>82</td>\n",
              "      <td>48.7</td>\n",
              "      <td>B</td>\n",
              "    </tr>\n",
              "    <tr>\n",
              "      <th>32</th>\n",
              "      <td>S_2</td>\n",
              "      <td>C_4</td>\n",
              "      <td>2403</td>\n",
              "      <td>F</td>\n",
              "      <td>street_6</td>\n",
              "      <td>158</td>\n",
              "      <td>60</td>\n",
              "      <td>59.7</td>\n",
              "      <td>B+</td>\n",
              "    </tr>\n",
              "    <tr>\n",
              "      <th>33</th>\n",
              "      <td>S_2</td>\n",
              "      <td>C_4</td>\n",
              "      <td>2404</td>\n",
              "      <td>F</td>\n",
              "      <td>street_2</td>\n",
              "      <td>160</td>\n",
              "      <td>84</td>\n",
              "      <td>67.7</td>\n",
              "      <td>B</td>\n",
              "    </tr>\n",
              "    <tr>\n",
              "      <th>34</th>\n",
              "      <td>S_2</td>\n",
              "      <td>C_4</td>\n",
              "      <td>2405</td>\n",
              "      <td>F</td>\n",
              "      <td>street_6</td>\n",
              "      <td>193</td>\n",
              "      <td>54</td>\n",
              "      <td>47.6</td>\n",
              "      <td>B</td>\n",
              "    </tr>\n",
              "  </tbody>\n",
              "</table>\n",
              "</div>"
            ],
            "text/plain": [
              "   School Class    ID Gender   Address  Height  Weight  Math Physics\n",
              "30    S_2   C_4  2401      F  street_2     192      62  45.3       A\n",
              "31    S_2   C_4  2402      M  street_7     166      82  48.7       B\n",
              "32    S_2   C_4  2403      F  street_6     158      60  59.7      B+\n",
              "33    S_2   C_4  2404      F  street_2     160      84  67.7       B\n",
              "34    S_2   C_4  2405      F  street_6     193      54  47.6       B"
            ]
          },
          "metadata": {
            "tags": []
          },
          "execution_count": 46
        }
      ]
    },
    {
      "cell_type": "markdown",
      "metadata": {
        "id": "3n7DH--dSaQf",
        "colab_type": "text"
      },
      "source": [
        "#### 可以指定n参数显示多少行"
      ]
    },
    {
      "cell_type": "code",
      "metadata": {
        "id": "DTJHsJFNSaQf",
        "colab_type": "code",
        "outputId": "7e85b47d-c91e-47f1-c1c2-49d2196df7f4",
        "colab": {
          "base_uri": "https://localhost:8080/",
          "height": 0
        }
      },
      "source": [
        "df.head(3)"
      ],
      "execution_count": 47,
      "outputs": [
        {
          "output_type": "execute_result",
          "data": {
            "text/html": [
              "<div>\n",
              "<style scoped>\n",
              "    .dataframe tbody tr th:only-of-type {\n",
              "        vertical-align: middle;\n",
              "    }\n",
              "\n",
              "    .dataframe tbody tr th {\n",
              "        vertical-align: top;\n",
              "    }\n",
              "\n",
              "    .dataframe thead th {\n",
              "        text-align: right;\n",
              "    }\n",
              "</style>\n",
              "<table border=\"1\" class=\"dataframe\">\n",
              "  <thead>\n",
              "    <tr style=\"text-align: right;\">\n",
              "      <th></th>\n",
              "      <th>School</th>\n",
              "      <th>Class</th>\n",
              "      <th>ID</th>\n",
              "      <th>Gender</th>\n",
              "      <th>Address</th>\n",
              "      <th>Height</th>\n",
              "      <th>Weight</th>\n",
              "      <th>Math</th>\n",
              "      <th>Physics</th>\n",
              "    </tr>\n",
              "  </thead>\n",
              "  <tbody>\n",
              "    <tr>\n",
              "      <th>0</th>\n",
              "      <td>S_1</td>\n",
              "      <td>C_1</td>\n",
              "      <td>1101</td>\n",
              "      <td>M</td>\n",
              "      <td>street_1</td>\n",
              "      <td>173</td>\n",
              "      <td>63</td>\n",
              "      <td>34.0</td>\n",
              "      <td>A+</td>\n",
              "    </tr>\n",
              "    <tr>\n",
              "      <th>1</th>\n",
              "      <td>S_1</td>\n",
              "      <td>C_1</td>\n",
              "      <td>1102</td>\n",
              "      <td>F</td>\n",
              "      <td>street_2</td>\n",
              "      <td>192</td>\n",
              "      <td>73</td>\n",
              "      <td>32.5</td>\n",
              "      <td>B+</td>\n",
              "    </tr>\n",
              "    <tr>\n",
              "      <th>2</th>\n",
              "      <td>S_1</td>\n",
              "      <td>C_1</td>\n",
              "      <td>1103</td>\n",
              "      <td>M</td>\n",
              "      <td>street_2</td>\n",
              "      <td>186</td>\n",
              "      <td>82</td>\n",
              "      <td>87.2</td>\n",
              "      <td>B+</td>\n",
              "    </tr>\n",
              "  </tbody>\n",
              "</table>\n",
              "</div>"
            ],
            "text/plain": [
              "  School Class    ID Gender   Address  Height  Weight  Math Physics\n",
              "0    S_1   C_1  1101      M  street_1     173      63  34.0      A+\n",
              "1    S_1   C_1  1102      F  street_2     192      73  32.5      B+\n",
              "2    S_1   C_1  1103      M  street_2     186      82  87.2      B+"
            ]
          },
          "metadata": {
            "tags": []
          },
          "execution_count": 47
        }
      ]
    },
    {
      "cell_type": "markdown",
      "metadata": {
        "id": "y9z5uv4DSaQg",
        "colab_type": "text"
      },
      "source": [
        "### 2. unique和nunique"
      ]
    },
    {
      "cell_type": "markdown",
      "metadata": {
        "id": "k7BdPoeYSaQh",
        "colab_type": "text"
      },
      "source": [
        "#### nunique显示有多少个唯一值"
      ]
    },
    {
      "cell_type": "code",
      "metadata": {
        "id": "0ntdq9FISaQh",
        "colab_type": "code",
        "outputId": "83690e3c-5481-4cfd-ac4c-9d6e388db628",
        "colab": {
          "base_uri": "https://localhost:8080/",
          "height": 0
        }
      },
      "source": [
        "df['Physics'].nunique()"
      ],
      "execution_count": 48,
      "outputs": [
        {
          "output_type": "execute_result",
          "data": {
            "text/plain": [
              "7"
            ]
          },
          "metadata": {
            "tags": []
          },
          "execution_count": 48
        }
      ]
    },
    {
      "cell_type": "markdown",
      "metadata": {
        "id": "8rjtI4l6SaQi",
        "colab_type": "text"
      },
      "source": [
        "#### unique显示所有的唯一值"
      ]
    },
    {
      "cell_type": "code",
      "metadata": {
        "id": "-s1LxukZSaQj",
        "colab_type": "code",
        "outputId": "c29d01e1-7b8c-4b7d-9e33-ccb11a4f4212",
        "colab": {
          "base_uri": "https://localhost:8080/",
          "height": 0
        }
      },
      "source": [
        "df['Physics'].unique()"
      ],
      "execution_count": 49,
      "outputs": [
        {
          "output_type": "execute_result",
          "data": {
            "text/plain": [
              "array(['A+', 'B+', 'B-', 'A-', 'B', 'A', 'C'], dtype=object)"
            ]
          },
          "metadata": {
            "tags": []
          },
          "execution_count": 49
        }
      ]
    },
    {
      "cell_type": "markdown",
      "metadata": {
        "id": "UlLLfMihSaQk",
        "colab_type": "text"
      },
      "source": [
        "### 3. count和value_counts"
      ]
    },
    {
      "cell_type": "markdown",
      "metadata": {
        "id": "NGWcrhUsSaQl",
        "colab_type": "text"
      },
      "source": [
        "#### count返回非缺失值元素个数"
      ]
    },
    {
      "cell_type": "code",
      "metadata": {
        "id": "y-0D4TjESaQl",
        "colab_type": "code",
        "outputId": "8fa93fec-658f-42e1-84ab-2ffea636c874",
        "colab": {
          "base_uri": "https://localhost:8080/",
          "height": 0
        }
      },
      "source": [
        "df['Physics'].count()"
      ],
      "execution_count": 50,
      "outputs": [
        {
          "output_type": "execute_result",
          "data": {
            "text/plain": [
              "35"
            ]
          },
          "metadata": {
            "tags": []
          },
          "execution_count": 50
        }
      ]
    },
    {
      "cell_type": "markdown",
      "metadata": {
        "id": "pEpl1fUFSaQn",
        "colab_type": "text"
      },
      "source": [
        "#### value_counts返回每个元素有多少个"
      ]
    },
    {
      "cell_type": "code",
      "metadata": {
        "id": "Hv4oNkl3SaQo",
        "colab_type": "code",
        "outputId": "a849b607-4673-4d65-f756-84a1a76a9d64",
        "colab": {
          "base_uri": "https://localhost:8080/",
          "height": 0
        }
      },
      "source": [
        "df['Physics'].value_counts()"
      ],
      "execution_count": 51,
      "outputs": [
        {
          "output_type": "execute_result",
          "data": {
            "text/plain": [
              "B+    9\n",
              "B     8\n",
              "B-    6\n",
              "A     4\n",
              "A-    3\n",
              "A+    3\n",
              "C     2\n",
              "Name: Physics, dtype: int64"
            ]
          },
          "metadata": {
            "tags": []
          },
          "execution_count": 51
        }
      ]
    },
    {
      "cell_type": "markdown",
      "metadata": {
        "id": "X1xViHNYSaQq",
        "colab_type": "text"
      },
      "source": [
        "### 4. describe和info"
      ]
    },
    {
      "cell_type": "markdown",
      "metadata": {
        "id": "RQkGrveiSaQq",
        "colab_type": "text"
      },
      "source": [
        "#### info函数返回有哪些列、有多少非缺失值、每列的类型"
      ]
    },
    {
      "cell_type": "code",
      "metadata": {
        "id": "0nfN9MFlSaQq",
        "colab_type": "code",
        "outputId": "717ca13a-d5bb-4edd-8ea8-af2a4ef11a38",
        "colab": {
          "base_uri": "https://localhost:8080/",
          "height": 0
        }
      },
      "source": [
        "df.info()"
      ],
      "execution_count": 52,
      "outputs": [
        {
          "output_type": "stream",
          "text": [
            "<class 'pandas.core.frame.DataFrame'>\n",
            "RangeIndex: 35 entries, 0 to 34\n",
            "Data columns (total 9 columns):\n",
            " #   Column   Non-Null Count  Dtype  \n",
            "---  ------   --------------  -----  \n",
            " 0   School   35 non-null     object \n",
            " 1   Class    35 non-null     object \n",
            " 2   ID       35 non-null     int64  \n",
            " 3   Gender   35 non-null     object \n",
            " 4   Address  35 non-null     object \n",
            " 5   Height   35 non-null     int64  \n",
            " 6   Weight   35 non-null     int64  \n",
            " 7   Math     35 non-null     float64\n",
            " 8   Physics  35 non-null     object \n",
            "dtypes: float64(1), int64(3), object(5)\n",
            "memory usage: 2.6+ KB\n"
          ],
          "name": "stdout"
        }
      ]
    },
    {
      "cell_type": "markdown",
      "metadata": {
        "id": "ADLJEmBUSaQt",
        "colab_type": "text"
      },
      "source": [
        "#### describe默认统计数值型数据的各个统计量"
      ]
    },
    {
      "cell_type": "code",
      "metadata": {
        "id": "b2M94fyLSaQt",
        "colab_type": "code",
        "outputId": "a815c12c-43b7-44f7-b35e-b1b976239d5e",
        "colab": {
          "base_uri": "https://localhost:8080/",
          "height": 0
        }
      },
      "source": [
        "df.describe()"
      ],
      "execution_count": 53,
      "outputs": [
        {
          "output_type": "execute_result",
          "data": {
            "text/html": [
              "<div>\n",
              "<style scoped>\n",
              "    .dataframe tbody tr th:only-of-type {\n",
              "        vertical-align: middle;\n",
              "    }\n",
              "\n",
              "    .dataframe tbody tr th {\n",
              "        vertical-align: top;\n",
              "    }\n",
              "\n",
              "    .dataframe thead th {\n",
              "        text-align: right;\n",
              "    }\n",
              "</style>\n",
              "<table border=\"1\" class=\"dataframe\">\n",
              "  <thead>\n",
              "    <tr style=\"text-align: right;\">\n",
              "      <th></th>\n",
              "      <th>ID</th>\n",
              "      <th>Height</th>\n",
              "      <th>Weight</th>\n",
              "      <th>Math</th>\n",
              "    </tr>\n",
              "  </thead>\n",
              "  <tbody>\n",
              "    <tr>\n",
              "      <th>count</th>\n",
              "      <td>35.00000</td>\n",
              "      <td>35.000000</td>\n",
              "      <td>35.000000</td>\n",
              "      <td>35.000000</td>\n",
              "    </tr>\n",
              "    <tr>\n",
              "      <th>mean</th>\n",
              "      <td>1803.00000</td>\n",
              "      <td>174.142857</td>\n",
              "      <td>74.657143</td>\n",
              "      <td>61.351429</td>\n",
              "    </tr>\n",
              "    <tr>\n",
              "      <th>std</th>\n",
              "      <td>536.87741</td>\n",
              "      <td>13.541098</td>\n",
              "      <td>12.895377</td>\n",
              "      <td>19.915164</td>\n",
              "    </tr>\n",
              "    <tr>\n",
              "      <th>min</th>\n",
              "      <td>1101.00000</td>\n",
              "      <td>155.000000</td>\n",
              "      <td>53.000000</td>\n",
              "      <td>31.500000</td>\n",
              "    </tr>\n",
              "    <tr>\n",
              "      <th>25%</th>\n",
              "      <td>1204.50000</td>\n",
              "      <td>161.000000</td>\n",
              "      <td>63.000000</td>\n",
              "      <td>47.400000</td>\n",
              "    </tr>\n",
              "    <tr>\n",
              "      <th>50%</th>\n",
              "      <td>2103.00000</td>\n",
              "      <td>173.000000</td>\n",
              "      <td>74.000000</td>\n",
              "      <td>61.700000</td>\n",
              "    </tr>\n",
              "    <tr>\n",
              "      <th>75%</th>\n",
              "      <td>2301.50000</td>\n",
              "      <td>187.500000</td>\n",
              "      <td>82.000000</td>\n",
              "      <td>77.100000</td>\n",
              "    </tr>\n",
              "    <tr>\n",
              "      <th>max</th>\n",
              "      <td>2405.00000</td>\n",
              "      <td>195.000000</td>\n",
              "      <td>100.000000</td>\n",
              "      <td>97.000000</td>\n",
              "    </tr>\n",
              "  </tbody>\n",
              "</table>\n",
              "</div>"
            ],
            "text/plain": [
              "               ID      Height      Weight       Math\n",
              "count    35.00000   35.000000   35.000000  35.000000\n",
              "mean   1803.00000  174.142857   74.657143  61.351429\n",
              "std     536.87741   13.541098   12.895377  19.915164\n",
              "min    1101.00000  155.000000   53.000000  31.500000\n",
              "25%    1204.50000  161.000000   63.000000  47.400000\n",
              "50%    2103.00000  173.000000   74.000000  61.700000\n",
              "75%    2301.50000  187.500000   82.000000  77.100000\n",
              "max    2405.00000  195.000000  100.000000  97.000000"
            ]
          },
          "metadata": {
            "tags": []
          },
          "execution_count": 53
        }
      ]
    },
    {
      "cell_type": "markdown",
      "metadata": {
        "id": "Rm457hQ0SaQw",
        "colab_type": "text"
      },
      "source": [
        "#### 可以自行选择分位数"
      ]
    },
    {
      "cell_type": "code",
      "metadata": {
        "id": "SScaJ0aRSaQw",
        "colab_type": "code",
        "outputId": "8f8a02fa-777d-4b32-aef2-6b250b88cccc",
        "colab": {
          "base_uri": "https://localhost:8080/",
          "height": 0
        }
      },
      "source": [
        "df.describe(percentiles=[.05, .25, .75, .95])"
      ],
      "execution_count": 54,
      "outputs": [
        {
          "output_type": "execute_result",
          "data": {
            "text/html": [
              "<div>\n",
              "<style scoped>\n",
              "    .dataframe tbody tr th:only-of-type {\n",
              "        vertical-align: middle;\n",
              "    }\n",
              "\n",
              "    .dataframe tbody tr th {\n",
              "        vertical-align: top;\n",
              "    }\n",
              "\n",
              "    .dataframe thead th {\n",
              "        text-align: right;\n",
              "    }\n",
              "</style>\n",
              "<table border=\"1\" class=\"dataframe\">\n",
              "  <thead>\n",
              "    <tr style=\"text-align: right;\">\n",
              "      <th></th>\n",
              "      <th>ID</th>\n",
              "      <th>Height</th>\n",
              "      <th>Weight</th>\n",
              "      <th>Math</th>\n",
              "    </tr>\n",
              "  </thead>\n",
              "  <tbody>\n",
              "    <tr>\n",
              "      <th>count</th>\n",
              "      <td>35.00000</td>\n",
              "      <td>35.000000</td>\n",
              "      <td>35.000000</td>\n",
              "      <td>35.000000</td>\n",
              "    </tr>\n",
              "    <tr>\n",
              "      <th>mean</th>\n",
              "      <td>1803.00000</td>\n",
              "      <td>174.142857</td>\n",
              "      <td>74.657143</td>\n",
              "      <td>61.351429</td>\n",
              "    </tr>\n",
              "    <tr>\n",
              "      <th>std</th>\n",
              "      <td>536.87741</td>\n",
              "      <td>13.541098</td>\n",
              "      <td>12.895377</td>\n",
              "      <td>19.915164</td>\n",
              "    </tr>\n",
              "    <tr>\n",
              "      <th>min</th>\n",
              "      <td>1101.00000</td>\n",
              "      <td>155.000000</td>\n",
              "      <td>53.000000</td>\n",
              "      <td>31.500000</td>\n",
              "    </tr>\n",
              "    <tr>\n",
              "      <th>5%</th>\n",
              "      <td>1102.70000</td>\n",
              "      <td>157.000000</td>\n",
              "      <td>56.100000</td>\n",
              "      <td>32.640000</td>\n",
              "    </tr>\n",
              "    <tr>\n",
              "      <th>25%</th>\n",
              "      <td>1204.50000</td>\n",
              "      <td>161.000000</td>\n",
              "      <td>63.000000</td>\n",
              "      <td>47.400000</td>\n",
              "    </tr>\n",
              "    <tr>\n",
              "      <th>50%</th>\n",
              "      <td>2103.00000</td>\n",
              "      <td>173.000000</td>\n",
              "      <td>74.000000</td>\n",
              "      <td>61.700000</td>\n",
              "    </tr>\n",
              "    <tr>\n",
              "      <th>75%</th>\n",
              "      <td>2301.50000</td>\n",
              "      <td>187.500000</td>\n",
              "      <td>82.000000</td>\n",
              "      <td>77.100000</td>\n",
              "    </tr>\n",
              "    <tr>\n",
              "      <th>95%</th>\n",
              "      <td>2403.30000</td>\n",
              "      <td>193.300000</td>\n",
              "      <td>97.600000</td>\n",
              "      <td>90.040000</td>\n",
              "    </tr>\n",
              "    <tr>\n",
              "      <th>max</th>\n",
              "      <td>2405.00000</td>\n",
              "      <td>195.000000</td>\n",
              "      <td>100.000000</td>\n",
              "      <td>97.000000</td>\n",
              "    </tr>\n",
              "  </tbody>\n",
              "</table>\n",
              "</div>"
            ],
            "text/plain": [
              "               ID      Height      Weight       Math\n",
              "count    35.00000   35.000000   35.000000  35.000000\n",
              "mean   1803.00000  174.142857   74.657143  61.351429\n",
              "std     536.87741   13.541098   12.895377  19.915164\n",
              "min    1101.00000  155.000000   53.000000  31.500000\n",
              "5%     1102.70000  157.000000   56.100000  32.640000\n",
              "25%    1204.50000  161.000000   63.000000  47.400000\n",
              "50%    2103.00000  173.000000   74.000000  61.700000\n",
              "75%    2301.50000  187.500000   82.000000  77.100000\n",
              "95%    2403.30000  193.300000   97.600000  90.040000\n",
              "max    2405.00000  195.000000  100.000000  97.000000"
            ]
          },
          "metadata": {
            "tags": []
          },
          "execution_count": 54
        }
      ]
    },
    {
      "cell_type": "markdown",
      "metadata": {
        "id": "Oi-RGGrISaQx",
        "colab_type": "text"
      },
      "source": [
        "#### 对于非数值型也可以用describe函数"
      ]
    },
    {
      "cell_type": "code",
      "metadata": {
        "id": "_U0ISYSNSaQx",
        "colab_type": "code",
        "outputId": "2be98a91-19f7-4ac7-e901-aac55ef15342",
        "colab": {
          "base_uri": "https://localhost:8080/",
          "height": 0
        }
      },
      "source": [
        "df['Physics'].describe()"
      ],
      "execution_count": 55,
      "outputs": [
        {
          "output_type": "execute_result",
          "data": {
            "text/plain": [
              "count     35\n",
              "unique     7\n",
              "top       B+\n",
              "freq       9\n",
              "Name: Physics, dtype: object"
            ]
          },
          "metadata": {
            "tags": []
          },
          "execution_count": 55
        }
      ]
    },
    {
      "cell_type": "markdown",
      "metadata": {
        "id": "gHFX06ShSaQz",
        "colab_type": "text"
      },
      "source": [
        "### 5. idxmax和nlargest\n",
        "#### idxmax函数返回最大值所在索引，在某些情况下特别适用，idxmin功能类似"
      ]
    },
    {
      "cell_type": "code",
      "metadata": {
        "id": "wHhFVsRmSaQz",
        "colab_type": "code",
        "outputId": "cd3ec618-b05c-4b12-c6a6-e32f32e49b2e",
        "colab": {
          "base_uri": "https://localhost:8080/",
          "height": 0
        }
      },
      "source": [
        "df['Math'].idxmax()"
      ],
      "execution_count": 56,
      "outputs": [
        {
          "output_type": "execute_result",
          "data": {
            "text/plain": [
              "5"
            ]
          },
          "metadata": {
            "tags": []
          },
          "execution_count": 56
        }
      ]
    },
    {
      "cell_type": "markdown",
      "metadata": {
        "id": "SWQPEfx0SaQ0",
        "colab_type": "text"
      },
      "source": [
        "#### nlargest函数返回前几个大的元素值，nsmallest功能类似"
      ]
    },
    {
      "cell_type": "code",
      "metadata": {
        "id": "ZuZm8B6fSaQ1",
        "colab_type": "code",
        "outputId": "c3a0e631-2968-4efe-c13c-2e6369ab64f3",
        "colab": {
          "base_uri": "https://localhost:8080/",
          "height": 0
        }
      },
      "source": [
        "df['Math'].nlargest(3)"
      ],
      "execution_count": 57,
      "outputs": [
        {
          "output_type": "execute_result",
          "data": {
            "text/plain": [
              "5     97.0\n",
              "28    95.5\n",
              "11    87.7\n",
              "Name: Math, dtype: float64"
            ]
          },
          "metadata": {
            "tags": []
          },
          "execution_count": 57
        }
      ]
    },
    {
      "cell_type": "markdown",
      "metadata": {
        "id": "NJWEc6QiSaQ3",
        "colab_type": "text"
      },
      "source": [
        "### 6. clip和replace"
      ]
    },
    {
      "cell_type": "markdown",
      "metadata": {
        "id": "3SPbcdNySaQ3",
        "colab_type": "text"
      },
      "source": [
        "#### clip和replace是两类替换函数\n",
        "#### clip是对超过或者低于某些值的数进行截断"
      ]
    },
    {
      "cell_type": "code",
      "metadata": {
        "id": "DA63uISxSaQ3",
        "colab_type": "code",
        "outputId": "47580880-9beb-4554-97ef-332ae2ab5377",
        "colab": {
          "base_uri": "https://localhost:8080/",
          "height": 0
        }
      },
      "source": [
        "df['Math'].head()"
      ],
      "execution_count": 58,
      "outputs": [
        {
          "output_type": "execute_result",
          "data": {
            "text/plain": [
              "0    34.0\n",
              "1    32.5\n",
              "2    87.2\n",
              "3    80.4\n",
              "4    84.8\n",
              "Name: Math, dtype: float64"
            ]
          },
          "metadata": {
            "tags": []
          },
          "execution_count": 58
        }
      ]
    },
    {
      "cell_type": "code",
      "metadata": {
        "id": "w0XZomx6SaQ5",
        "colab_type": "code",
        "outputId": "078f8a50-4e05-4eb2-df9a-f84ab69fbeab",
        "colab": {
          "base_uri": "https://localhost:8080/",
          "height": 0
        }
      },
      "source": [
        "df['Math'].clip(33,80).head()"
      ],
      "execution_count": 59,
      "outputs": [
        {
          "output_type": "execute_result",
          "data": {
            "text/plain": [
              "0    34.0\n",
              "1    33.0\n",
              "2    80.0\n",
              "3    80.0\n",
              "4    80.0\n",
              "Name: Math, dtype: float64"
            ]
          },
          "metadata": {
            "tags": []
          },
          "execution_count": 59
        }
      ]
    },
    {
      "cell_type": "code",
      "metadata": {
        "id": "wXy3vNdiSaQ7",
        "colab_type": "code",
        "outputId": "e1635952-936f-49b6-9f45-e8e0e3702189",
        "colab": {
          "base_uri": "https://localhost:8080/",
          "height": 0
        }
      },
      "source": [
        "df['Math'].mad()"
      ],
      "execution_count": 60,
      "outputs": [
        {
          "output_type": "execute_result",
          "data": {
            "text/plain": [
              "16.924244897959188"
            ]
          },
          "metadata": {
            "tags": []
          },
          "execution_count": 60
        }
      ]
    },
    {
      "cell_type": "markdown",
      "metadata": {
        "id": "PKdqto0RSaQ8",
        "colab_type": "text"
      },
      "source": [
        "#### replace是对某些值进行替换"
      ]
    },
    {
      "cell_type": "code",
      "metadata": {
        "id": "EJL27XfpSaQ8",
        "colab_type": "code",
        "outputId": "ee7bab6e-7d5a-4a16-e14d-d84e8ae8ecc2",
        "colab": {
          "base_uri": "https://localhost:8080/",
          "height": 0
        }
      },
      "source": [
        "df['Address'].head()"
      ],
      "execution_count": 61,
      "outputs": [
        {
          "output_type": "execute_result",
          "data": {
            "text/plain": [
              "0    street_1\n",
              "1    street_2\n",
              "2    street_2\n",
              "3    street_2\n",
              "4    street_4\n",
              "Name: Address, dtype: object"
            ]
          },
          "metadata": {
            "tags": []
          },
          "execution_count": 61
        }
      ]
    },
    {
      "cell_type": "code",
      "metadata": {
        "id": "3jlYpTaFSaQ9",
        "colab_type": "code",
        "outputId": "e2eba8a9-38f5-4501-a631-47a565a8f80b",
        "colab": {
          "base_uri": "https://localhost:8080/",
          "height": 0
        }
      },
      "source": [
        "df['Address'].replace(['street_1','street_2'],['one','two']).head()"
      ],
      "execution_count": 62,
      "outputs": [
        {
          "output_type": "execute_result",
          "data": {
            "text/plain": [
              "0         one\n",
              "1         two\n",
              "2         two\n",
              "3         two\n",
              "4    street_4\n",
              "Name: Address, dtype: object"
            ]
          },
          "metadata": {
            "tags": []
          },
          "execution_count": 62
        }
      ]
    },
    {
      "cell_type": "markdown",
      "metadata": {
        "id": "g7Zz4Jc0SaQ_",
        "colab_type": "text"
      },
      "source": [
        "#### 通过字典，可以直接在表中修改"
      ]
    },
    {
      "cell_type": "code",
      "metadata": {
        "id": "7fK2V_9VSaQ_",
        "colab_type": "code",
        "outputId": "2e60e698-31f4-4eb3-d37f-482cbd94e7d5",
        "colab": {
          "base_uri": "https://localhost:8080/",
          "height": 0
        }
      },
      "source": [
        "df.replace({'Address':{'street_1':'one','street_2':'two'}}).head()"
      ],
      "execution_count": 63,
      "outputs": [
        {
          "output_type": "execute_result",
          "data": {
            "text/html": [
              "<div>\n",
              "<style scoped>\n",
              "    .dataframe tbody tr th:only-of-type {\n",
              "        vertical-align: middle;\n",
              "    }\n",
              "\n",
              "    .dataframe tbody tr th {\n",
              "        vertical-align: top;\n",
              "    }\n",
              "\n",
              "    .dataframe thead th {\n",
              "        text-align: right;\n",
              "    }\n",
              "</style>\n",
              "<table border=\"1\" class=\"dataframe\">\n",
              "  <thead>\n",
              "    <tr style=\"text-align: right;\">\n",
              "      <th></th>\n",
              "      <th>School</th>\n",
              "      <th>Class</th>\n",
              "      <th>ID</th>\n",
              "      <th>Gender</th>\n",
              "      <th>Address</th>\n",
              "      <th>Height</th>\n",
              "      <th>Weight</th>\n",
              "      <th>Math</th>\n",
              "      <th>Physics</th>\n",
              "    </tr>\n",
              "  </thead>\n",
              "  <tbody>\n",
              "    <tr>\n",
              "      <th>0</th>\n",
              "      <td>S_1</td>\n",
              "      <td>C_1</td>\n",
              "      <td>1101</td>\n",
              "      <td>M</td>\n",
              "      <td>one</td>\n",
              "      <td>173</td>\n",
              "      <td>63</td>\n",
              "      <td>34.0</td>\n",
              "      <td>A+</td>\n",
              "    </tr>\n",
              "    <tr>\n",
              "      <th>1</th>\n",
              "      <td>S_1</td>\n",
              "      <td>C_1</td>\n",
              "      <td>1102</td>\n",
              "      <td>F</td>\n",
              "      <td>two</td>\n",
              "      <td>192</td>\n",
              "      <td>73</td>\n",
              "      <td>32.5</td>\n",
              "      <td>B+</td>\n",
              "    </tr>\n",
              "    <tr>\n",
              "      <th>2</th>\n",
              "      <td>S_1</td>\n",
              "      <td>C_1</td>\n",
              "      <td>1103</td>\n",
              "      <td>M</td>\n",
              "      <td>two</td>\n",
              "      <td>186</td>\n",
              "      <td>82</td>\n",
              "      <td>87.2</td>\n",
              "      <td>B+</td>\n",
              "    </tr>\n",
              "    <tr>\n",
              "      <th>3</th>\n",
              "      <td>S_1</td>\n",
              "      <td>C_1</td>\n",
              "      <td>1104</td>\n",
              "      <td>F</td>\n",
              "      <td>two</td>\n",
              "      <td>167</td>\n",
              "      <td>81</td>\n",
              "      <td>80.4</td>\n",
              "      <td>B-</td>\n",
              "    </tr>\n",
              "    <tr>\n",
              "      <th>4</th>\n",
              "      <td>S_1</td>\n",
              "      <td>C_1</td>\n",
              "      <td>1105</td>\n",
              "      <td>F</td>\n",
              "      <td>street_4</td>\n",
              "      <td>159</td>\n",
              "      <td>64</td>\n",
              "      <td>84.8</td>\n",
              "      <td>B+</td>\n",
              "    </tr>\n",
              "  </tbody>\n",
              "</table>\n",
              "</div>"
            ],
            "text/plain": [
              "  School Class    ID Gender   Address  Height  Weight  Math Physics\n",
              "0    S_1   C_1  1101      M       one     173      63  34.0      A+\n",
              "1    S_1   C_1  1102      F       two     192      73  32.5      B+\n",
              "2    S_1   C_1  1103      M       two     186      82  87.2      B+\n",
              "3    S_1   C_1  1104      F       two     167      81  80.4      B-\n",
              "4    S_1   C_1  1105      F  street_4     159      64  84.8      B+"
            ]
          },
          "metadata": {
            "tags": []
          },
          "execution_count": 63
        }
      ]
    },
    {
      "cell_type": "markdown",
      "metadata": {
        "id": "RIkEUgYXSaRB",
        "colab_type": "text"
      },
      "source": [
        "### 7. apply函数\n",
        "#### apply是一个自由度很高的函数，在第3章我们还要提到\n",
        "#### 对于Series，它可以迭代每一列的值操作："
      ]
    },
    {
      "cell_type": "code",
      "metadata": {
        "id": "nDSgu-sxSaRB",
        "colab_type": "code",
        "outputId": "e332258e-14f5-4c9c-9024-69b13dc89203",
        "colab": {
          "base_uri": "https://localhost:8080/",
          "height": 0
        }
      },
      "source": [
        "df['Math'].apply(lambda x:str(x)+'!').head() #可以使用lambda表达式，也可以使用函数"
      ],
      "execution_count": 64,
      "outputs": [
        {
          "output_type": "execute_result",
          "data": {
            "text/plain": [
              "0    34.0!\n",
              "1    32.5!\n",
              "2    87.2!\n",
              "3    80.4!\n",
              "4    84.8!\n",
              "Name: Math, dtype: object"
            ]
          },
          "metadata": {
            "tags": []
          },
          "execution_count": 64
        }
      ]
    },
    {
      "cell_type": "markdown",
      "metadata": {
        "id": "5V-VAI0zSaRC",
        "colab_type": "text"
      },
      "source": [
        "#### 对于DataFrame，它可以迭代每一个列操作："
      ]
    },
    {
      "cell_type": "code",
      "metadata": {
        "id": "cZ04bGWNSaRD",
        "colab_type": "code",
        "outputId": "678e3016-21a2-406f-e406-5987f8d17db5",
        "colab": {
          "base_uri": "https://localhost:8080/",
          "height": 0
        }
      },
      "source": [
        "df.apply(lambda x:x.apply(lambda x:str(x)+'!')).head() #这是一个稍显复杂的例子，有利于理解apply的功能"
      ],
      "execution_count": 65,
      "outputs": [
        {
          "output_type": "execute_result",
          "data": {
            "text/html": [
              "<div>\n",
              "<style scoped>\n",
              "    .dataframe tbody tr th:only-of-type {\n",
              "        vertical-align: middle;\n",
              "    }\n",
              "\n",
              "    .dataframe tbody tr th {\n",
              "        vertical-align: top;\n",
              "    }\n",
              "\n",
              "    .dataframe thead th {\n",
              "        text-align: right;\n",
              "    }\n",
              "</style>\n",
              "<table border=\"1\" class=\"dataframe\">\n",
              "  <thead>\n",
              "    <tr style=\"text-align: right;\">\n",
              "      <th></th>\n",
              "      <th>School</th>\n",
              "      <th>Class</th>\n",
              "      <th>ID</th>\n",
              "      <th>Gender</th>\n",
              "      <th>Address</th>\n",
              "      <th>Height</th>\n",
              "      <th>Weight</th>\n",
              "      <th>Math</th>\n",
              "      <th>Physics</th>\n",
              "    </tr>\n",
              "  </thead>\n",
              "  <tbody>\n",
              "    <tr>\n",
              "      <th>0</th>\n",
              "      <td>S_1!</td>\n",
              "      <td>C_1!</td>\n",
              "      <td>1101!</td>\n",
              "      <td>M!</td>\n",
              "      <td>street_1!</td>\n",
              "      <td>173!</td>\n",
              "      <td>63!</td>\n",
              "      <td>34.0!</td>\n",
              "      <td>A+!</td>\n",
              "    </tr>\n",
              "    <tr>\n",
              "      <th>1</th>\n",
              "      <td>S_1!</td>\n",
              "      <td>C_1!</td>\n",
              "      <td>1102!</td>\n",
              "      <td>F!</td>\n",
              "      <td>street_2!</td>\n",
              "      <td>192!</td>\n",
              "      <td>73!</td>\n",
              "      <td>32.5!</td>\n",
              "      <td>B+!</td>\n",
              "    </tr>\n",
              "    <tr>\n",
              "      <th>2</th>\n",
              "      <td>S_1!</td>\n",
              "      <td>C_1!</td>\n",
              "      <td>1103!</td>\n",
              "      <td>M!</td>\n",
              "      <td>street_2!</td>\n",
              "      <td>186!</td>\n",
              "      <td>82!</td>\n",
              "      <td>87.2!</td>\n",
              "      <td>B+!</td>\n",
              "    </tr>\n",
              "    <tr>\n",
              "      <th>3</th>\n",
              "      <td>S_1!</td>\n",
              "      <td>C_1!</td>\n",
              "      <td>1104!</td>\n",
              "      <td>F!</td>\n",
              "      <td>street_2!</td>\n",
              "      <td>167!</td>\n",
              "      <td>81!</td>\n",
              "      <td>80.4!</td>\n",
              "      <td>B-!</td>\n",
              "    </tr>\n",
              "    <tr>\n",
              "      <th>4</th>\n",
              "      <td>S_1!</td>\n",
              "      <td>C_1!</td>\n",
              "      <td>1105!</td>\n",
              "      <td>F!</td>\n",
              "      <td>street_4!</td>\n",
              "      <td>159!</td>\n",
              "      <td>64!</td>\n",
              "      <td>84.8!</td>\n",
              "      <td>B+!</td>\n",
              "    </tr>\n",
              "  </tbody>\n",
              "</table>\n",
              "</div>"
            ],
            "text/plain": [
              "  School Class     ID Gender    Address Height Weight   Math Physics\n",
              "0   S_1!  C_1!  1101!     M!  street_1!   173!    63!  34.0!     A+!\n",
              "1   S_1!  C_1!  1102!     F!  street_2!   192!    73!  32.5!     B+!\n",
              "2   S_1!  C_1!  1103!     M!  street_2!   186!    82!  87.2!     B+!\n",
              "3   S_1!  C_1!  1104!     F!  street_2!   167!    81!  80.4!     B-!\n",
              "4   S_1!  C_1!  1105!     F!  street_4!   159!    64!  84.8!     B+!"
            ]
          },
          "metadata": {
            "tags": []
          },
          "execution_count": 65
        }
      ]
    },
    {
      "cell_type": "markdown",
      "metadata": {
        "id": "x1iMqCzUSaRE",
        "colab_type": "text"
      },
      "source": [
        "## 四、排序"
      ]
    },
    {
      "cell_type": "markdown",
      "metadata": {
        "id": "Zr2TZKydSaRE",
        "colab_type": "text"
      },
      "source": [
        "### 1. 索引排序"
      ]
    },
    {
      "cell_type": "code",
      "metadata": {
        "id": "qzlbC9VRSaRE",
        "colab_type": "code",
        "outputId": "b8f6e89d-b37c-4f85-e9eb-5163fc33f4cc",
        "colab": {
          "base_uri": "https://localhost:8080/",
          "height": 0
        }
      },
      "source": [
        "df.set_index('Math').head() #set_index函数可以设置索引，将在下一章详细介绍"
      ],
      "execution_count": 66,
      "outputs": [
        {
          "output_type": "execute_result",
          "data": {
            "text/html": [
              "<div>\n",
              "<style scoped>\n",
              "    .dataframe tbody tr th:only-of-type {\n",
              "        vertical-align: middle;\n",
              "    }\n",
              "\n",
              "    .dataframe tbody tr th {\n",
              "        vertical-align: top;\n",
              "    }\n",
              "\n",
              "    .dataframe thead th {\n",
              "        text-align: right;\n",
              "    }\n",
              "</style>\n",
              "<table border=\"1\" class=\"dataframe\">\n",
              "  <thead>\n",
              "    <tr style=\"text-align: right;\">\n",
              "      <th></th>\n",
              "      <th>School</th>\n",
              "      <th>Class</th>\n",
              "      <th>ID</th>\n",
              "      <th>Gender</th>\n",
              "      <th>Address</th>\n",
              "      <th>Height</th>\n",
              "      <th>Weight</th>\n",
              "      <th>Physics</th>\n",
              "    </tr>\n",
              "    <tr>\n",
              "      <th>Math</th>\n",
              "      <th></th>\n",
              "      <th></th>\n",
              "      <th></th>\n",
              "      <th></th>\n",
              "      <th></th>\n",
              "      <th></th>\n",
              "      <th></th>\n",
              "      <th></th>\n",
              "    </tr>\n",
              "  </thead>\n",
              "  <tbody>\n",
              "    <tr>\n",
              "      <th>34.0</th>\n",
              "      <td>S_1</td>\n",
              "      <td>C_1</td>\n",
              "      <td>1101</td>\n",
              "      <td>M</td>\n",
              "      <td>street_1</td>\n",
              "      <td>173</td>\n",
              "      <td>63</td>\n",
              "      <td>A+</td>\n",
              "    </tr>\n",
              "    <tr>\n",
              "      <th>32.5</th>\n",
              "      <td>S_1</td>\n",
              "      <td>C_1</td>\n",
              "      <td>1102</td>\n",
              "      <td>F</td>\n",
              "      <td>street_2</td>\n",
              "      <td>192</td>\n",
              "      <td>73</td>\n",
              "      <td>B+</td>\n",
              "    </tr>\n",
              "    <tr>\n",
              "      <th>87.2</th>\n",
              "      <td>S_1</td>\n",
              "      <td>C_1</td>\n",
              "      <td>1103</td>\n",
              "      <td>M</td>\n",
              "      <td>street_2</td>\n",
              "      <td>186</td>\n",
              "      <td>82</td>\n",
              "      <td>B+</td>\n",
              "    </tr>\n",
              "    <tr>\n",
              "      <th>80.4</th>\n",
              "      <td>S_1</td>\n",
              "      <td>C_1</td>\n",
              "      <td>1104</td>\n",
              "      <td>F</td>\n",
              "      <td>street_2</td>\n",
              "      <td>167</td>\n",
              "      <td>81</td>\n",
              "      <td>B-</td>\n",
              "    </tr>\n",
              "    <tr>\n",
              "      <th>84.8</th>\n",
              "      <td>S_1</td>\n",
              "      <td>C_1</td>\n",
              "      <td>1105</td>\n",
              "      <td>F</td>\n",
              "      <td>street_4</td>\n",
              "      <td>159</td>\n",
              "      <td>64</td>\n",
              "      <td>B+</td>\n",
              "    </tr>\n",
              "  </tbody>\n",
              "</table>\n",
              "</div>"
            ],
            "text/plain": [
              "     School Class    ID Gender   Address  Height  Weight Physics\n",
              "Math                                                            \n",
              "34.0    S_1   C_1  1101      M  street_1     173      63      A+\n",
              "32.5    S_1   C_1  1102      F  street_2     192      73      B+\n",
              "87.2    S_1   C_1  1103      M  street_2     186      82      B+\n",
              "80.4    S_1   C_1  1104      F  street_2     167      81      B-\n",
              "84.8    S_1   C_1  1105      F  street_4     159      64      B+"
            ]
          },
          "metadata": {
            "tags": []
          },
          "execution_count": 66
        }
      ]
    },
    {
      "cell_type": "code",
      "metadata": {
        "id": "nWoVX4bZSaRH",
        "colab_type": "code",
        "outputId": "409e58be-efd4-4734-c32d-923db8f105e8",
        "colab": {
          "base_uri": "https://localhost:8080/",
          "height": 0
        }
      },
      "source": [
        "df.set_index('Math').sort_index().head() #可以设置ascending参数，默认为升序，True"
      ],
      "execution_count": 67,
      "outputs": [
        {
          "output_type": "execute_result",
          "data": {
            "text/html": [
              "<div>\n",
              "<style scoped>\n",
              "    .dataframe tbody tr th:only-of-type {\n",
              "        vertical-align: middle;\n",
              "    }\n",
              "\n",
              "    .dataframe tbody tr th {\n",
              "        vertical-align: top;\n",
              "    }\n",
              "\n",
              "    .dataframe thead th {\n",
              "        text-align: right;\n",
              "    }\n",
              "</style>\n",
              "<table border=\"1\" class=\"dataframe\">\n",
              "  <thead>\n",
              "    <tr style=\"text-align: right;\">\n",
              "      <th></th>\n",
              "      <th>School</th>\n",
              "      <th>Class</th>\n",
              "      <th>ID</th>\n",
              "      <th>Gender</th>\n",
              "      <th>Address</th>\n",
              "      <th>Height</th>\n",
              "      <th>Weight</th>\n",
              "      <th>Physics</th>\n",
              "    </tr>\n",
              "    <tr>\n",
              "      <th>Math</th>\n",
              "      <th></th>\n",
              "      <th></th>\n",
              "      <th></th>\n",
              "      <th></th>\n",
              "      <th></th>\n",
              "      <th></th>\n",
              "      <th></th>\n",
              "      <th></th>\n",
              "    </tr>\n",
              "  </thead>\n",
              "  <tbody>\n",
              "    <tr>\n",
              "      <th>31.5</th>\n",
              "      <td>S_1</td>\n",
              "      <td>C_3</td>\n",
              "      <td>1301</td>\n",
              "      <td>M</td>\n",
              "      <td>street_4</td>\n",
              "      <td>161</td>\n",
              "      <td>68</td>\n",
              "      <td>B+</td>\n",
              "    </tr>\n",
              "    <tr>\n",
              "      <th>32.5</th>\n",
              "      <td>S_1</td>\n",
              "      <td>C_1</td>\n",
              "      <td>1102</td>\n",
              "      <td>F</td>\n",
              "      <td>street_2</td>\n",
              "      <td>192</td>\n",
              "      <td>73</td>\n",
              "      <td>B+</td>\n",
              "    </tr>\n",
              "    <tr>\n",
              "      <th>32.7</th>\n",
              "      <td>S_2</td>\n",
              "      <td>C_3</td>\n",
              "      <td>2302</td>\n",
              "      <td>M</td>\n",
              "      <td>street_5</td>\n",
              "      <td>171</td>\n",
              "      <td>88</td>\n",
              "      <td>A</td>\n",
              "    </tr>\n",
              "    <tr>\n",
              "      <th>33.8</th>\n",
              "      <td>S_1</td>\n",
              "      <td>C_2</td>\n",
              "      <td>1204</td>\n",
              "      <td>F</td>\n",
              "      <td>street_5</td>\n",
              "      <td>162</td>\n",
              "      <td>63</td>\n",
              "      <td>B</td>\n",
              "    </tr>\n",
              "    <tr>\n",
              "      <th>34.0</th>\n",
              "      <td>S_1</td>\n",
              "      <td>C_1</td>\n",
              "      <td>1101</td>\n",
              "      <td>M</td>\n",
              "      <td>street_1</td>\n",
              "      <td>173</td>\n",
              "      <td>63</td>\n",
              "      <td>A+</td>\n",
              "    </tr>\n",
              "  </tbody>\n",
              "</table>\n",
              "</div>"
            ],
            "text/plain": [
              "     School Class    ID Gender   Address  Height  Weight Physics\n",
              "Math                                                            \n",
              "31.5    S_1   C_3  1301      M  street_4     161      68      B+\n",
              "32.5    S_1   C_1  1102      F  street_2     192      73      B+\n",
              "32.7    S_2   C_3  2302      M  street_5     171      88       A\n",
              "33.8    S_1   C_2  1204      F  street_5     162      63       B\n",
              "34.0    S_1   C_1  1101      M  street_1     173      63      A+"
            ]
          },
          "metadata": {
            "tags": []
          },
          "execution_count": 67
        }
      ]
    },
    {
      "cell_type": "markdown",
      "metadata": {
        "id": "VjOk3n9XSaRI",
        "colab_type": "text"
      },
      "source": [
        "### 2. 值排序"
      ]
    },
    {
      "cell_type": "code",
      "metadata": {
        "id": "IA2dBqDoSaRI",
        "colab_type": "code",
        "outputId": "4d092ce5-2fea-4e2f-9983-12ca18041fb6",
        "colab": {
          "base_uri": "https://localhost:8080/",
          "height": 0
        }
      },
      "source": [
        "df.sort_values(by='Class').head()"
      ],
      "execution_count": 68,
      "outputs": [
        {
          "output_type": "execute_result",
          "data": {
            "text/html": [
              "<div>\n",
              "<style scoped>\n",
              "    .dataframe tbody tr th:only-of-type {\n",
              "        vertical-align: middle;\n",
              "    }\n",
              "\n",
              "    .dataframe tbody tr th {\n",
              "        vertical-align: top;\n",
              "    }\n",
              "\n",
              "    .dataframe thead th {\n",
              "        text-align: right;\n",
              "    }\n",
              "</style>\n",
              "<table border=\"1\" class=\"dataframe\">\n",
              "  <thead>\n",
              "    <tr style=\"text-align: right;\">\n",
              "      <th></th>\n",
              "      <th>School</th>\n",
              "      <th>Class</th>\n",
              "      <th>ID</th>\n",
              "      <th>Gender</th>\n",
              "      <th>Address</th>\n",
              "      <th>Height</th>\n",
              "      <th>Weight</th>\n",
              "      <th>Math</th>\n",
              "      <th>Physics</th>\n",
              "    </tr>\n",
              "  </thead>\n",
              "  <tbody>\n",
              "    <tr>\n",
              "      <th>0</th>\n",
              "      <td>S_1</td>\n",
              "      <td>C_1</td>\n",
              "      <td>1101</td>\n",
              "      <td>M</td>\n",
              "      <td>street_1</td>\n",
              "      <td>173</td>\n",
              "      <td>63</td>\n",
              "      <td>34.0</td>\n",
              "      <td>A+</td>\n",
              "    </tr>\n",
              "    <tr>\n",
              "      <th>19</th>\n",
              "      <td>S_2</td>\n",
              "      <td>C_1</td>\n",
              "      <td>2105</td>\n",
              "      <td>M</td>\n",
              "      <td>street_4</td>\n",
              "      <td>170</td>\n",
              "      <td>81</td>\n",
              "      <td>34.2</td>\n",
              "      <td>A</td>\n",
              "    </tr>\n",
              "    <tr>\n",
              "      <th>18</th>\n",
              "      <td>S_2</td>\n",
              "      <td>C_1</td>\n",
              "      <td>2104</td>\n",
              "      <td>F</td>\n",
              "      <td>street_5</td>\n",
              "      <td>159</td>\n",
              "      <td>97</td>\n",
              "      <td>72.2</td>\n",
              "      <td>B+</td>\n",
              "    </tr>\n",
              "    <tr>\n",
              "      <th>16</th>\n",
              "      <td>S_2</td>\n",
              "      <td>C_1</td>\n",
              "      <td>2102</td>\n",
              "      <td>F</td>\n",
              "      <td>street_6</td>\n",
              "      <td>161</td>\n",
              "      <td>61</td>\n",
              "      <td>50.6</td>\n",
              "      <td>B+</td>\n",
              "    </tr>\n",
              "    <tr>\n",
              "      <th>15</th>\n",
              "      <td>S_2</td>\n",
              "      <td>C_1</td>\n",
              "      <td>2101</td>\n",
              "      <td>M</td>\n",
              "      <td>street_7</td>\n",
              "      <td>174</td>\n",
              "      <td>84</td>\n",
              "      <td>83.3</td>\n",
              "      <td>C</td>\n",
              "    </tr>\n",
              "  </tbody>\n",
              "</table>\n",
              "</div>"
            ],
            "text/plain": [
              "   School Class    ID Gender   Address  Height  Weight  Math Physics\n",
              "0     S_1   C_1  1101      M  street_1     173      63  34.0      A+\n",
              "19    S_2   C_1  2105      M  street_4     170      81  34.2       A\n",
              "18    S_2   C_1  2104      F  street_5     159      97  72.2      B+\n",
              "16    S_2   C_1  2102      F  street_6     161      61  50.6      B+\n",
              "15    S_2   C_1  2101      M  street_7     174      84  83.3       C"
            ]
          },
          "metadata": {
            "tags": []
          },
          "execution_count": 68
        }
      ]
    },
    {
      "cell_type": "markdown",
      "metadata": {
        "id": "ONICL3GASaRK",
        "colab_type": "text"
      },
      "source": [
        "#### 多个值排序，即先对第一层排，在第一层相同的情况下对第二层排序"
      ]
    },
    {
      "cell_type": "code",
      "metadata": {
        "id": "TF1GSx3xSaRK",
        "colab_type": "code",
        "outputId": "56936016-4c7f-412a-9026-ac2ffc4fe935",
        "colab": {
          "base_uri": "https://localhost:8080/",
          "height": 0
        }
      },
      "source": [
        "df.sort_values(by=['Address','Height']).head()"
      ],
      "execution_count": 69,
      "outputs": [
        {
          "output_type": "execute_result",
          "data": {
            "text/html": [
              "<div>\n",
              "<style scoped>\n",
              "    .dataframe tbody tr th:only-of-type {\n",
              "        vertical-align: middle;\n",
              "    }\n",
              "\n",
              "    .dataframe tbody tr th {\n",
              "        vertical-align: top;\n",
              "    }\n",
              "\n",
              "    .dataframe thead th {\n",
              "        text-align: right;\n",
              "    }\n",
              "</style>\n",
              "<table border=\"1\" class=\"dataframe\">\n",
              "  <thead>\n",
              "    <tr style=\"text-align: right;\">\n",
              "      <th></th>\n",
              "      <th>School</th>\n",
              "      <th>Class</th>\n",
              "      <th>ID</th>\n",
              "      <th>Gender</th>\n",
              "      <th>Address</th>\n",
              "      <th>Height</th>\n",
              "      <th>Weight</th>\n",
              "      <th>Math</th>\n",
              "      <th>Physics</th>\n",
              "    </tr>\n",
              "  </thead>\n",
              "  <tbody>\n",
              "    <tr>\n",
              "      <th>0</th>\n",
              "      <td>S_1</td>\n",
              "      <td>C_1</td>\n",
              "      <td>1101</td>\n",
              "      <td>M</td>\n",
              "      <td>street_1</td>\n",
              "      <td>173</td>\n",
              "      <td>63</td>\n",
              "      <td>34.0</td>\n",
              "      <td>A+</td>\n",
              "    </tr>\n",
              "    <tr>\n",
              "      <th>11</th>\n",
              "      <td>S_1</td>\n",
              "      <td>C_3</td>\n",
              "      <td>1302</td>\n",
              "      <td>F</td>\n",
              "      <td>street_1</td>\n",
              "      <td>175</td>\n",
              "      <td>57</td>\n",
              "      <td>87.7</td>\n",
              "      <td>A-</td>\n",
              "    </tr>\n",
              "    <tr>\n",
              "      <th>23</th>\n",
              "      <td>S_2</td>\n",
              "      <td>C_2</td>\n",
              "      <td>2204</td>\n",
              "      <td>M</td>\n",
              "      <td>street_1</td>\n",
              "      <td>175</td>\n",
              "      <td>74</td>\n",
              "      <td>47.2</td>\n",
              "      <td>B-</td>\n",
              "    </tr>\n",
              "    <tr>\n",
              "      <th>33</th>\n",
              "      <td>S_2</td>\n",
              "      <td>C_4</td>\n",
              "      <td>2404</td>\n",
              "      <td>F</td>\n",
              "      <td>street_2</td>\n",
              "      <td>160</td>\n",
              "      <td>84</td>\n",
              "      <td>67.7</td>\n",
              "      <td>B</td>\n",
              "    </tr>\n",
              "    <tr>\n",
              "      <th>3</th>\n",
              "      <td>S_1</td>\n",
              "      <td>C_1</td>\n",
              "      <td>1104</td>\n",
              "      <td>F</td>\n",
              "      <td>street_2</td>\n",
              "      <td>167</td>\n",
              "      <td>81</td>\n",
              "      <td>80.4</td>\n",
              "      <td>B-</td>\n",
              "    </tr>\n",
              "  </tbody>\n",
              "</table>\n",
              "</div>"
            ],
            "text/plain": [
              "   School Class    ID Gender   Address  Height  Weight  Math Physics\n",
              "0     S_1   C_1  1101      M  street_1     173      63  34.0      A+\n",
              "11    S_1   C_3  1302      F  street_1     175      57  87.7      A-\n",
              "23    S_2   C_2  2204      M  street_1     175      74  47.2      B-\n",
              "33    S_2   C_4  2404      F  street_2     160      84  67.7       B\n",
              "3     S_1   C_1  1104      F  street_2     167      81  80.4      B-"
            ]
          },
          "metadata": {
            "tags": []
          },
          "execution_count": 69
        }
      ]
    },
    {
      "cell_type": "markdown",
      "metadata": {
        "id": "YVr1aWzDSaRL",
        "colab_type": "text"
      },
      "source": [
        "## 五、问题与练习\n",
        "### 1. 问题\n",
        "#### 【问题一】 Series和DataFrame有哪些常见属性和方法？\n",
        "#### 【问题二】 value_counts会统计缺失值吗？\n",
        "#### 【问题三】 如果有多个索引同时取到最大值，idxmax会返回所有这些索引吗？如果不会，那么怎么返回这些索引？\n",
        "#### 【问题四】 在常用函数一节中，由于一些函数的功能比较简单，因此没有列入，现在将它们列在下面，请分别说明它们的用途并尝试使用。\n",
        "#### sum/mean/median/mad/min/max/abs/std/var/quantile/cummax/cumsum/cumprod\n",
        "#### 【问题五】 df.mean(axis=1)是什么意思？它与df.mean()的结果一样吗？问题四提到的函数也有axis参数吗？怎么使用？"
      ]
    },
    {
      "cell_type": "markdown",
      "metadata": {
        "id": "Jw-UIilLSaRM",
        "colab_type": "text"
      },
      "source": [
        "### 2. 练习\n",
        "#### 【练习一】 现有一份关于美剧《权力的游戏》剧本的数据集，请解决以下问题：\n",
        "#### （a）在所有的数据中，一共出现了多少人物？\n",
        "#### （b）以单元格计数（即简单把一个单元格视作一句），谁说了最多的话？\n",
        "#### （c）以单词计数，谁说了最多的单词？（不是单句单词最多，是指每人说过单词的总数最多，为了简便，只以空格为单词分界点，不考虑其他情况）"
      ]
    },
    {
      "cell_type": "code",
      "metadata": {
        "id": "zmp6p5pJSaRM",
        "colab_type": "code",
        "outputId": "3bea9375-f224-4e55-8c73-5beb4d2d1c9a",
        "colab": {
          "base_uri": "https://localhost:8080/",
          "height": 204
        }
      },
      "source": [
        "pd.read_csv('data/Game_of_Thrones_Script.csv').head()"
      ],
      "execution_count": 70,
      "outputs": [
        {
          "output_type": "execute_result",
          "data": {
            "text/html": [
              "<div>\n",
              "<style scoped>\n",
              "    .dataframe tbody tr th:only-of-type {\n",
              "        vertical-align: middle;\n",
              "    }\n",
              "\n",
              "    .dataframe tbody tr th {\n",
              "        vertical-align: top;\n",
              "    }\n",
              "\n",
              "    .dataframe thead th {\n",
              "        text-align: right;\n",
              "    }\n",
              "</style>\n",
              "<table border=\"1\" class=\"dataframe\">\n",
              "  <thead>\n",
              "    <tr style=\"text-align: right;\">\n",
              "      <th></th>\n",
              "      <th>Release Date</th>\n",
              "      <th>Season</th>\n",
              "      <th>Episode</th>\n",
              "      <th>Episode Title</th>\n",
              "      <th>Name</th>\n",
              "      <th>Sentence</th>\n",
              "    </tr>\n",
              "  </thead>\n",
              "  <tbody>\n",
              "    <tr>\n",
              "      <th>0</th>\n",
              "      <td>2011/4/17</td>\n",
              "      <td>Season 1</td>\n",
              "      <td>Episode 1</td>\n",
              "      <td>Winter is Coming</td>\n",
              "      <td>waymar royce</td>\n",
              "      <td>What do you expect? They're savages. One lot s...</td>\n",
              "    </tr>\n",
              "    <tr>\n",
              "      <th>1</th>\n",
              "      <td>2011/4/17</td>\n",
              "      <td>Season 1</td>\n",
              "      <td>Episode 1</td>\n",
              "      <td>Winter is Coming</td>\n",
              "      <td>will</td>\n",
              "      <td>I've never seen wildlings do a thing like this...</td>\n",
              "    </tr>\n",
              "    <tr>\n",
              "      <th>2</th>\n",
              "      <td>2011/4/17</td>\n",
              "      <td>Season 1</td>\n",
              "      <td>Episode 1</td>\n",
              "      <td>Winter is Coming</td>\n",
              "      <td>waymar royce</td>\n",
              "      <td>How close did you get?</td>\n",
              "    </tr>\n",
              "    <tr>\n",
              "      <th>3</th>\n",
              "      <td>2011/4/17</td>\n",
              "      <td>Season 1</td>\n",
              "      <td>Episode 1</td>\n",
              "      <td>Winter is Coming</td>\n",
              "      <td>will</td>\n",
              "      <td>Close as any man would.</td>\n",
              "    </tr>\n",
              "    <tr>\n",
              "      <th>4</th>\n",
              "      <td>2011/4/17</td>\n",
              "      <td>Season 1</td>\n",
              "      <td>Episode 1</td>\n",
              "      <td>Winter is Coming</td>\n",
              "      <td>gared</td>\n",
              "      <td>We should head back to the wall.</td>\n",
              "    </tr>\n",
              "  </tbody>\n",
              "</table>\n",
              "</div>"
            ],
            "text/plain": [
              "  Release Date  ...                                           Sentence\n",
              "0    2011/4/17  ...  What do you expect? They're savages. One lot s...\n",
              "1    2011/4/17  ...  I've never seen wildlings do a thing like this...\n",
              "2    2011/4/17  ...                             How close did you get?\n",
              "3    2011/4/17  ...                            Close as any man would.\n",
              "4    2011/4/17  ...                   We should head back to the wall.\n",
              "\n",
              "[5 rows x 6 columns]"
            ]
          },
          "metadata": {
            "tags": []
          },
          "execution_count": 70
        }
      ]
    },
    {
      "cell_type": "code",
      "metadata": {
        "id": "Ms4TnGJXU6sl",
        "colab_type": "code",
        "colab": {}
      },
      "source": [
        "game_of_thornes=pd.read_csv('data/Game_of_Thrones_Script.csv')"
      ],
      "execution_count": 0,
      "outputs": []
    },
    {
      "cell_type": "markdown",
      "metadata": {
        "id": "ZY9yvt_pWjmt",
        "colab_type": "text"
      },
      "source": [
        "(a) 一共出现了564个人物"
      ]
    },
    {
      "cell_type": "code",
      "metadata": {
        "id": "z6xKi7pGVLOW",
        "colab_type": "code",
        "outputId": "9825f544-f16f-4315-d6c4-8d54b54cb4b6",
        "colab": {
          "base_uri": "https://localhost:8080/",
          "height": 34
        }
      },
      "source": [
        "game_of_thornes['Name'].nunique()"
      ],
      "execution_count": 72,
      "outputs": [
        {
          "output_type": "execute_result",
          "data": {
            "text/plain": [
              "564"
            ]
          },
          "metadata": {
            "tags": []
          },
          "execution_count": 72
        }
      ]
    },
    {
      "cell_type": "markdown",
      "metadata": {
        "id": "u0mNE1M8XELw",
        "colab_type": "text"
      },
      "source": [
        "(b) 以单元格计数（即简单把一个单元格视作一句），谁说了最多的话？\n",
        "首先将这些句子所对应的人物来比较"
      ]
    },
    {
      "cell_type": "code",
      "metadata": {
        "id": "KsoOi-x-D2sq",
        "colab_type": "code",
        "colab": {
          "base_uri": "https://localhost:8080/",
          "height": 221
        },
        "outputId": "f40e3514-38ad-45db-c6c6-9a9439ae42b7"
      },
      "source": [
        "game_of_thornes['Name'].value_counts()"
      ],
      "execution_count": 73,
      "outputs": [
        {
          "output_type": "execute_result",
          "data": {
            "text/plain": [
              "tyrion lannister      1760\n",
              "jon snow              1133\n",
              "daenerys targaryen    1048\n",
              "cersei lannister      1005\n",
              "jaime lannister        945\n",
              "                      ... \n",
              "mistress                 1\n",
              "merchant                 1\n",
              "mar                      1\n",
              "voices outside           1\n",
              "kevin                    1\n",
              "Name: Name, Length: 564, dtype: int64"
            ]
          },
          "metadata": {
            "tags": []
          },
          "execution_count": 73
        }
      ]
    },
    {
      "cell_type": "markdown",
      "metadata": {
        "id": "SLSPJzUuFjry",
        "colab_type": "text"
      },
      "source": [
        "（c）以单词计数，谁说了最多的单词？（不是单句单词最多，是指每人说过单词的总数最多，为了简便，只以空格为单词分界点，不考虑其他情况）"
      ]
    },
    {
      "cell_type": "code",
      "metadata": {
        "id": "MExakXSaFkx3",
        "colab_type": "code",
        "colab": {
          "base_uri": "https://localhost:8080/",
          "height": 204
        },
        "outputId": "11d17d45-4338-44ef-f860-e8a156e784b6"
      },
      "source": [
        "game_of_thornes_words = game_of_thornes.assign(Words=game_of_thornes['Sentence'].apply(lambda x:len(x.split()))).sort_values(by='Name')\n",
        "game_of_thornes_words.head()"
      ],
      "execution_count": 85,
      "outputs": [
        {
          "output_type": "execute_result",
          "data": {
            "text/html": [
              "<div>\n",
              "<style scoped>\n",
              "    .dataframe tbody tr th:only-of-type {\n",
              "        vertical-align: middle;\n",
              "    }\n",
              "\n",
              "    .dataframe tbody tr th {\n",
              "        vertical-align: top;\n",
              "    }\n",
              "\n",
              "    .dataframe thead th {\n",
              "        text-align: right;\n",
              "    }\n",
              "</style>\n",
              "<table border=\"1\" class=\"dataframe\">\n",
              "  <thead>\n",
              "    <tr style=\"text-align: right;\">\n",
              "      <th></th>\n",
              "      <th>Release Date</th>\n",
              "      <th>Season</th>\n",
              "      <th>Episode</th>\n",
              "      <th>Episode Title</th>\n",
              "      <th>Name</th>\n",
              "      <th>Sentence</th>\n",
              "      <th>Words</th>\n",
              "    </tr>\n",
              "  </thead>\n",
              "  <tbody>\n",
              "    <tr>\n",
              "      <th>276</th>\n",
              "      <td>2011/4/17</td>\n",
              "      <td>Season 1</td>\n",
              "      <td>Episode 1</td>\n",
              "      <td>Winter is Coming</td>\n",
              "      <td>a voice</td>\n",
              "      <td>It's Maester Luwin, my lord.</td>\n",
              "      <td>5</td>\n",
              "    </tr>\n",
              "    <tr>\n",
              "      <th>3012</th>\n",
              "      <td>2011/6/19</td>\n",
              "      <td>Season 1</td>\n",
              "      <td>Episode 10</td>\n",
              "      <td>Fire and Blood</td>\n",
              "      <td>addam marbrand</td>\n",
              "      <td>ls it true about Stannis and Renly?</td>\n",
              "      <td>7</td>\n",
              "    </tr>\n",
              "    <tr>\n",
              "      <th>3017</th>\n",
              "      <td>2011/6/19</td>\n",
              "      <td>Season 1</td>\n",
              "      <td>Episode 10</td>\n",
              "      <td>Fire and Blood</td>\n",
              "      <td>addam marbrand</td>\n",
              "      <td>Kevan Lannister</td>\n",
              "      <td>2</td>\n",
              "    </tr>\n",
              "    <tr>\n",
              "      <th>15465</th>\n",
              "      <td>2015/5/10</td>\n",
              "      <td>Season 5</td>\n",
              "      <td>Episode 5</td>\n",
              "      <td>Kill the Boy</td>\n",
              "      <td>aemon</td>\n",
              "      <td>And she's alone, under siege, no family to gui...</td>\n",
              "      <td>22</td>\n",
              "    </tr>\n",
              "    <tr>\n",
              "      <th>15469</th>\n",
              "      <td>2015/5/10</td>\n",
              "      <td>Season 5</td>\n",
              "      <td>Episode 5</td>\n",
              "      <td>Kill the Boy</td>\n",
              "      <td>aemon</td>\n",
              "      <td>Lord Commander.</td>\n",
              "      <td>2</td>\n",
              "    </tr>\n",
              "  </tbody>\n",
              "</table>\n",
              "</div>"
            ],
            "text/plain": [
              "      Release Date  ... Words\n",
              "276      2011/4/17  ...     5\n",
              "3012     2011/6/19  ...     7\n",
              "3017     2011/6/19  ...     2\n",
              "15465    2015/5/10  ...    22\n",
              "15469    2015/5/10  ...     2\n",
              "\n",
              "[5 rows x 7 columns]"
            ]
          },
          "metadata": {
            "tags": []
          },
          "execution_count": 85
        }
      ]
    },
    {
      "cell_type": "code",
      "metadata": {
        "id": "nxmfTeGAJ_0v",
        "colab_type": "code",
        "colab": {
          "base_uri": "https://localhost:8080/",
          "height": 34
        },
        "outputId": "a13a387e-9c50-4ac9-8191-1b0d9bd87795"
      },
      "source": [
        "L_count = []\n",
        "N_words = list(zip(game_of_thornes['Name'],game_of_thornes['Words']))\n",
        "for i in N_words:\n",
        "    if i == N_words[0]: # special for first case as to get first\n",
        "        L_count.append(i[1])\n",
        "        last = i[0]\n",
        "    else:\n",
        "        L_count.append(L_count[-1]+i[1] if i[0]==last else i[1]) # accumate plus same name, else as new person count\n",
        "        last = i[0]\n",
        "game_of_thornes['Count']=L_count\n",
        "game_of_thornes['Name'][game_of_thornes['Count'].idxmax()]"
      ],
      "execution_count": 87,
      "outputs": [
        {
          "output_type": "execute_result",
          "data": {
            "text/plain": [
              "'tyrion lannister'"
            ]
          },
          "metadata": {
            "tags": []
          },
          "execution_count": 87
        }
      ]
    },
    {
      "cell_type": "markdown",
      "metadata": {
        "id": "pgyCAmqbSaRN",
        "colab_type": "text"
      },
      "source": [
        "#### 【练习二】现有一份关于科比的投篮数据集，请解决如下问题：\n",
        "#### （a）哪种action_type和combined_shot_type的组合是最多的？\n",
        "#### （b）在所有被记录的game_id中，遭遇到最多的opponent是一个支？（由于一场比赛会有许多次投篮，但对阵的对手只有一个，本题相当于问科比和哪个队交锋次数最多）"
      ]
    },
    {
      "cell_type": "code",
      "metadata": {
        "id": "yn7AtfCJSaRN",
        "colab_type": "code",
        "outputId": "2a1c8649-eaad-48bd-de97-0e1fabbff545",
        "colab": {
          "base_uri": "https://localhost:8080/",
          "height": 425
        }
      },
      "source": [
        "df = pd.read_csv('data/Kobe_data.csv',index_col='shot_id')\n",
        "df.head()\n",
        "#index_col的作用是将某一列作为行索引"
      ],
      "execution_count": 88,
      "outputs": [
        {
          "output_type": "execute_result",
          "data": {
            "text/html": [
              "<div>\n",
              "<style scoped>\n",
              "    .dataframe tbody tr th:only-of-type {\n",
              "        vertical-align: middle;\n",
              "    }\n",
              "\n",
              "    .dataframe tbody tr th {\n",
              "        vertical-align: top;\n",
              "    }\n",
              "\n",
              "    .dataframe thead th {\n",
              "        text-align: right;\n",
              "    }\n",
              "</style>\n",
              "<table border=\"1\" class=\"dataframe\">\n",
              "  <thead>\n",
              "    <tr style=\"text-align: right;\">\n",
              "      <th></th>\n",
              "      <th>action_type</th>\n",
              "      <th>combined_shot_type</th>\n",
              "      <th>game_event_id</th>\n",
              "      <th>game_id</th>\n",
              "      <th>lat</th>\n",
              "      <th>loc_x</th>\n",
              "      <th>loc_y</th>\n",
              "      <th>lon</th>\n",
              "      <th>minutes_remaining</th>\n",
              "      <th>period</th>\n",
              "      <th>playoffs</th>\n",
              "      <th>season</th>\n",
              "      <th>seconds_remaining</th>\n",
              "      <th>shot_distance</th>\n",
              "      <th>shot_made_flag</th>\n",
              "      <th>shot_type</th>\n",
              "      <th>shot_zone_area</th>\n",
              "      <th>shot_zone_basic</th>\n",
              "      <th>shot_zone_range</th>\n",
              "      <th>team_id</th>\n",
              "      <th>team_name</th>\n",
              "      <th>game_date</th>\n",
              "      <th>matchup</th>\n",
              "      <th>opponent</th>\n",
              "    </tr>\n",
              "    <tr>\n",
              "      <th>shot_id</th>\n",
              "      <th></th>\n",
              "      <th></th>\n",
              "      <th></th>\n",
              "      <th></th>\n",
              "      <th></th>\n",
              "      <th></th>\n",
              "      <th></th>\n",
              "      <th></th>\n",
              "      <th></th>\n",
              "      <th></th>\n",
              "      <th></th>\n",
              "      <th></th>\n",
              "      <th></th>\n",
              "      <th></th>\n",
              "      <th></th>\n",
              "      <th></th>\n",
              "      <th></th>\n",
              "      <th></th>\n",
              "      <th></th>\n",
              "      <th></th>\n",
              "      <th></th>\n",
              "      <th></th>\n",
              "      <th></th>\n",
              "      <th></th>\n",
              "    </tr>\n",
              "  </thead>\n",
              "  <tbody>\n",
              "    <tr>\n",
              "      <th>1</th>\n",
              "      <td>Jump Shot</td>\n",
              "      <td>Jump Shot</td>\n",
              "      <td>10</td>\n",
              "      <td>20000012</td>\n",
              "      <td>33.9723</td>\n",
              "      <td>167</td>\n",
              "      <td>72</td>\n",
              "      <td>-118.1028</td>\n",
              "      <td>10</td>\n",
              "      <td>1</td>\n",
              "      <td>0</td>\n",
              "      <td>Jan-00</td>\n",
              "      <td>27</td>\n",
              "      <td>18</td>\n",
              "      <td>NaN</td>\n",
              "      <td>2PT Field Goal</td>\n",
              "      <td>Right Side(R)</td>\n",
              "      <td>Mid-Range</td>\n",
              "      <td>16-24 ft.</td>\n",
              "      <td>1610612747</td>\n",
              "      <td>Los Angeles Lakers</td>\n",
              "      <td>2000/10/31</td>\n",
              "      <td>LAL @ POR</td>\n",
              "      <td>POR</td>\n",
              "    </tr>\n",
              "    <tr>\n",
              "      <th>2</th>\n",
              "      <td>Jump Shot</td>\n",
              "      <td>Jump Shot</td>\n",
              "      <td>12</td>\n",
              "      <td>20000012</td>\n",
              "      <td>34.0443</td>\n",
              "      <td>-157</td>\n",
              "      <td>0</td>\n",
              "      <td>-118.4268</td>\n",
              "      <td>10</td>\n",
              "      <td>1</td>\n",
              "      <td>0</td>\n",
              "      <td>Jan-00</td>\n",
              "      <td>22</td>\n",
              "      <td>15</td>\n",
              "      <td>0.0</td>\n",
              "      <td>2PT Field Goal</td>\n",
              "      <td>Left Side(L)</td>\n",
              "      <td>Mid-Range</td>\n",
              "      <td>8-16 ft.</td>\n",
              "      <td>1610612747</td>\n",
              "      <td>Los Angeles Lakers</td>\n",
              "      <td>2000/10/31</td>\n",
              "      <td>LAL @ POR</td>\n",
              "      <td>POR</td>\n",
              "    </tr>\n",
              "    <tr>\n",
              "      <th>3</th>\n",
              "      <td>Jump Shot</td>\n",
              "      <td>Jump Shot</td>\n",
              "      <td>35</td>\n",
              "      <td>20000012</td>\n",
              "      <td>33.9093</td>\n",
              "      <td>-101</td>\n",
              "      <td>135</td>\n",
              "      <td>-118.3708</td>\n",
              "      <td>7</td>\n",
              "      <td>1</td>\n",
              "      <td>0</td>\n",
              "      <td>Jan-00</td>\n",
              "      <td>45</td>\n",
              "      <td>16</td>\n",
              "      <td>1.0</td>\n",
              "      <td>2PT Field Goal</td>\n",
              "      <td>Left Side Center(LC)</td>\n",
              "      <td>Mid-Range</td>\n",
              "      <td>16-24 ft.</td>\n",
              "      <td>1610612747</td>\n",
              "      <td>Los Angeles Lakers</td>\n",
              "      <td>2000/10/31</td>\n",
              "      <td>LAL @ POR</td>\n",
              "      <td>POR</td>\n",
              "    </tr>\n",
              "    <tr>\n",
              "      <th>4</th>\n",
              "      <td>Jump Shot</td>\n",
              "      <td>Jump Shot</td>\n",
              "      <td>43</td>\n",
              "      <td>20000012</td>\n",
              "      <td>33.8693</td>\n",
              "      <td>138</td>\n",
              "      <td>175</td>\n",
              "      <td>-118.1318</td>\n",
              "      <td>6</td>\n",
              "      <td>1</td>\n",
              "      <td>0</td>\n",
              "      <td>Jan-00</td>\n",
              "      <td>52</td>\n",
              "      <td>22</td>\n",
              "      <td>0.0</td>\n",
              "      <td>2PT Field Goal</td>\n",
              "      <td>Right Side Center(RC)</td>\n",
              "      <td>Mid-Range</td>\n",
              "      <td>16-24 ft.</td>\n",
              "      <td>1610612747</td>\n",
              "      <td>Los Angeles Lakers</td>\n",
              "      <td>2000/10/31</td>\n",
              "      <td>LAL @ POR</td>\n",
              "      <td>POR</td>\n",
              "    </tr>\n",
              "    <tr>\n",
              "      <th>5</th>\n",
              "      <td>Driving Dunk Shot</td>\n",
              "      <td>Dunk</td>\n",
              "      <td>155</td>\n",
              "      <td>20000012</td>\n",
              "      <td>34.0443</td>\n",
              "      <td>0</td>\n",
              "      <td>0</td>\n",
              "      <td>-118.2698</td>\n",
              "      <td>6</td>\n",
              "      <td>2</td>\n",
              "      <td>0</td>\n",
              "      <td>Jan-00</td>\n",
              "      <td>19</td>\n",
              "      <td>0</td>\n",
              "      <td>1.0</td>\n",
              "      <td>2PT Field Goal</td>\n",
              "      <td>Center(C)</td>\n",
              "      <td>Restricted Area</td>\n",
              "      <td>Less Than 8 ft.</td>\n",
              "      <td>1610612747</td>\n",
              "      <td>Los Angeles Lakers</td>\n",
              "      <td>2000/10/31</td>\n",
              "      <td>LAL @ POR</td>\n",
              "      <td>POR</td>\n",
              "    </tr>\n",
              "  </tbody>\n",
              "</table>\n",
              "</div>"
            ],
            "text/plain": [
              "               action_type combined_shot_type  ...    matchup  opponent\n",
              "shot_id                                        ...                     \n",
              "1                Jump Shot          Jump Shot  ...  LAL @ POR       POR\n",
              "2                Jump Shot          Jump Shot  ...  LAL @ POR       POR\n",
              "3                Jump Shot          Jump Shot  ...  LAL @ POR       POR\n",
              "4                Jump Shot          Jump Shot  ...  LAL @ POR       POR\n",
              "5        Driving Dunk Shot               Dunk  ...  LAL @ POR       POR\n",
              "\n",
              "[5 rows x 24 columns]"
            ]
          },
          "metadata": {
            "tags": []
          },
          "execution_count": 88
        }
      ]
    },
    {
      "cell_type": "markdown",
      "metadata": {
        "id": "hMZ2-sLvRvQP",
        "colab_type": "text"
      },
      "source": [
        "（a）哪种action_type和combined_shot_type的组合是最多的？"
      ]
    },
    {
      "cell_type": "code",
      "metadata": {
        "id": "Fy-824GKRyZ0",
        "colab_type": "code",
        "colab": {}
      },
      "source": [
        "comined_series = pd.Series(list(zip(df['action_type'], df['combined_shot_type'])))"
      ],
      "execution_count": 0,
      "outputs": []
    },
    {
      "cell_type": "code",
      "metadata": {
        "id": "SCmVL_2XSd3g",
        "colab_type": "code",
        "colab": {
          "base_uri": "https://localhost:8080/",
          "height": 34
        },
        "outputId": "ffb660ec-43b6-48f8-d7a7-4ca8476f7d52"
      },
      "source": [
        "comined_series.value_counts().index[0]"
      ],
      "execution_count": 100,
      "outputs": [
        {
          "output_type": "execute_result",
          "data": {
            "text/plain": [
              "('Jump Shot', 'Jump Shot')"
            ]
          },
          "metadata": {
            "tags": []
          },
          "execution_count": 100
        }
      ]
    },
    {
      "cell_type": "markdown",
      "metadata": {
        "id": "jgt-AuO_cLuA",
        "colab_type": "text"
      },
      "source": [
        "（b）在所有被记录的game_id中，遭遇到最多的opponent是一个支？（由于一场比赛会有许多次投篮，但对阵的对手只有一个，本题相当于问科比和哪个队交锋次数最多）"
      ]
    },
    {
      "cell_type": "code",
      "metadata": {
        "id": "GeN1DkTqSgcY",
        "colab_type": "code",
        "colab": {}
      },
      "source": [
        "pd.Series(list(list(zip(*(pd.Series(list(zip(df['game_id'],df['opponent'])))\n",
        "                          .unique()).tolist()))[1])).value_counts().index[0]"
      ],
      "execution_count": 0,
      "outputs": []
    },
    {
      "cell_type": "code",
      "metadata": {
        "id": "c6xyXPpNWo97",
        "colab_type": "code",
        "colab": {
          "base_uri": "https://localhost:8080/",
          "height": 1000
        },
        "outputId": "2535e63b-87f3-41ea-8fee-934b6c51aa92"
      },
      "source": [
        "list(zip(*(pd.Series(list(zip(df['game_id'],df['opponent'])))\n",
        "                          .unique()).tolist()))"
      ],
      "execution_count": 105,
      "outputs": [
        {
          "output_type": "execute_result",
          "data": {
            "text/plain": [
              "[(20000012,\n",
              "  20000019,\n",
              "  20000047,\n",
              "  20000049,\n",
              "  20000058,\n",
              "  20000068,\n",
              "  20000098,\n",
              "  20000108,\n",
              "  20000124,\n",
              "  20000140,\n",
              "  20000147,\n",
              "  20000168,\n",
              "  20000180,\n",
              "  20000198,\n",
              "  20000206,\n",
              "  20000222,\n",
              "  20000230,\n",
              "  20000246,\n",
              "  20000258,\n",
              "  20000267,\n",
              "  20000280,\n",
              "  20000297,\n",
              "  20000309,\n",
              "  20000320,\n",
              "  20000334,\n",
              "  20000347,\n",
              "  20000352,\n",
              "  20000373,\n",
              "  20000379,\n",
              "  20000397,\n",
              "  20000420,\n",
              "  20000434,\n",
              "  20000456,\n",
              "  20000484,\n",
              "  20000519,\n",
              "  20000529,\n",
              "  20000545,\n",
              "  20000571,\n",
              "  20000583,\n",
              "  20000599,\n",
              "  20000616,\n",
              "  20000629,\n",
              "  20000641,\n",
              "  20000651,\n",
              "  20000666,\n",
              "  20000682,\n",
              "  20000702,\n",
              "  20000710,\n",
              "  20000723,\n",
              "  20000739,\n",
              "  20000753,\n",
              "  20000767,\n",
              "  20000828,\n",
              "  20000852,\n",
              "  20000860,\n",
              "  20000871,\n",
              "  20000884,\n",
              "  20000896,\n",
              "  20000936,\n",
              "  20000942,\n",
              "  20000958,\n",
              "  20000965,\n",
              "  20000981,\n",
              "  20001059,\n",
              "  20001121,\n",
              "  20001136,\n",
              "  20001162,\n",
              "  20001177,\n",
              "  20100012,\n",
              "  20100023,\n",
              "  20100033,\n",
              "  20100051,\n",
              "  20100083,\n",
              "  20100097,\n",
              "  20100119,\n",
              "  20100127,\n",
              "  20100143,\n",
              "  20100152,\n",
              "  20100161,\n",
              "  20100178,\n",
              "  20100192,\n",
              "  20100204,\n",
              "  20100225,\n",
              "  20100235,\n",
              "  20100259,\n",
              "  20100271,\n",
              "  20100301,\n",
              "  20100320,\n",
              "  20100336,\n",
              "  20100360,\n",
              "  20100367,\n",
              "  20100387,\n",
              "  20100399,\n",
              "  20100413,\n",
              "  20100428,\n",
              "  20100440,\n",
              "  20100456,\n",
              "  20100468,\n",
              "  20100482,\n",
              "  20100490,\n",
              "  20100506,\n",
              "  20100514,\n",
              "  20100525,\n",
              "  20100542,\n",
              "  20100558,\n",
              "  20100588,\n",
              "  20100595,\n",
              "  20100609,\n",
              "  20100622,\n",
              "  20100628,\n",
              "  20100639,\n",
              "  20100653,\n",
              "  20100668,\n",
              "  20100691,\n",
              "  20100707,\n",
              "  20100720,\n",
              "  20100730,\n",
              "  20100741,\n",
              "  20100758,\n",
              "  20100768,\n",
              "  20100778,\n",
              "  20100790,\n",
              "  20100803,\n",
              "  20100816,\n",
              "  20100830,\n",
              "  20100865,\n",
              "  20100898,\n",
              "  20100914,\n",
              "  20100926,\n",
              "  20100934,\n",
              "  20100950,\n",
              "  20100962,\n",
              "  20100970,\n",
              "  20100986,\n",
              "  20101000,\n",
              "  20101016,\n",
              "  20101022,\n",
              "  20101040,\n",
              "  20101055,\n",
              "  20101057,\n",
              "  20101069,\n",
              "  20101084,\n",
              "  20101100,\n",
              "  20101121,\n",
              "  20101136,\n",
              "  20101159,\n",
              "  20101164,\n",
              "  20101188,\n",
              "  20200003,\n",
              "  20200014,\n",
              "  20200029,\n",
              "  20200045,\n",
              "  20200053,\n",
              "  20200069,\n",
              "  20200076,\n",
              "  20200106,\n",
              "  20200127,\n",
              "  20200142,\n",
              "  20200151,\n",
              "  20200160,\n",
              "  20200178,\n",
              "  20200194,\n",
              "  20200199,\n",
              "  20200206,\n",
              "  20200223,\n",
              "  20200243,\n",
              "  20200254,\n",
              "  20200262,\n",
              "  20200278,\n",
              "  20200292,\n",
              "  20200305,\n",
              "  20200326,\n",
              "  20200341,\n",
              "  20200352,\n",
              "  20200367,\n",
              "  20200372,\n",
              "  20200392,\n",
              "  20200404,\n",
              "  20200425,\n",
              "  20200431,\n",
              "  20200471,\n",
              "  20200476,\n",
              "  20200490,\n",
              "  20200516,\n",
              "  20200530,\n",
              "  20200546,\n",
              "  20200563,\n",
              "  20200587,\n",
              "  20200602,\n",
              "  20200616,\n",
              "  20200651,\n",
              "  20200667,\n",
              "  20200676,\n",
              "  20200691,\n",
              "  20200705,\n",
              "  20200719,\n",
              "  20200727,\n",
              "  20200743,\n",
              "  20200757,\n",
              "  20200769,\n",
              "  20200774,\n",
              "  20200790,\n",
              "  20200806,\n",
              "  20200820,\n",
              "  20200833,\n",
              "  20200842,\n",
              "  20200880,\n",
              "  20200890,\n",
              "  20200901,\n",
              "  20200917,\n",
              "  20200925,\n",
              "  20200938,\n",
              "  20200946,\n",
              "  20200960,\n",
              "  20200983,\n",
              "  20200993,\n",
              "  20201003,\n",
              "  20201017,\n",
              "  20201028,\n",
              "  20201046,\n",
              "  20201062,\n",
              "  20201066,\n",
              "  20201086,\n",
              "  20201093,\n",
              "  20201113,\n",
              "  20201123,\n",
              "  20201136,\n",
              "  20201159,\n",
              "  20201176,\n",
              "  20201189,\n",
              "  20300037,\n",
              "  20300040,\n",
              "  20300050,\n",
              "  20300064,\n",
              "  20300070,\n",
              "  20300091,\n",
              "  20300111,\n",
              "  20300124,\n",
              "  20300138,\n",
              "  20300146,\n",
              "  20300156,\n",
              "  20300172,\n",
              "  20300187,\n",
              "  20300208,\n",
              "  20300222,\n",
              "  20300234,\n",
              "  20300251,\n",
              "  20300258,\n",
              "  20300284,\n",
              "  20300298,\n",
              "  20300318,\n",
              "  20300326,\n",
              "  20300369,\n",
              "  20300385,\n",
              "  20300400,\n",
              "  20300403,\n",
              "  20300429,\n",
              "  20300462,\n",
              "  20300476,\n",
              "  20300488,\n",
              "  20300500,\n",
              "  20300515,\n",
              "  20300531,\n",
              "  20300625,\n",
              "  20300655,\n",
              "  20300756,\n",
              "  20300772,\n",
              "  20300780,\n",
              "  20300793,\n",
              "  20300808,\n",
              "  20300831,\n",
              "  20300836,\n",
              "  20300848,\n",
              "  20300858,\n",
              "  20300881,\n",
              "  20300926,\n",
              "  20300943,\n",
              "  20300952,\n",
              "  20300966,\n",
              "  20300981,\n",
              "  20300995,\n",
              "  20301012,\n",
              "  20301033,\n",
              "  20301046,\n",
              "  20301063,\n",
              "  20301075,\n",
              "  20301088,\n",
              "  20301100,\n",
              "  20301110,\n",
              "  20301121,\n",
              "  20301145,\n",
              "  20301157,\n",
              "  20301175,\n",
              "  20301187,\n",
              "  20400003,\n",
              "  20400014,\n",
              "  20400027,\n",
              "  20400044,\n",
              "  20400053,\n",
              "  20400065,\n",
              "  20400073,\n",
              "  20400087,\n",
              "  20400115,\n",
              "  20400126,\n",
              "  20400145,\n",
              "  20400158,\n",
              "  20400181,\n",
              "  20400198,\n",
              "  20400205,\n",
              "  20400216,\n",
              "  20400231,\n",
              "  20400272,\n",
              "  20400294,\n",
              "  20400301,\n",
              "  20400315,\n",
              "  20400328,\n",
              "  20400338,\n",
              "  20400358,\n",
              "  20400377,\n",
              "  20400382,\n",
              "  20400407,\n",
              "  20400439,\n",
              "  20400452,\n",
              "  20400461,\n",
              "  20400477,\n",
              "  20400494,\n",
              "  20400512,\n",
              "  20400518,\n",
              "  20400746,\n",
              "  20400767,\n",
              "  20400789,\n",
              "  20400799,\n",
              "  20400811,\n",
              "  20400819,\n",
              "  20400831,\n",
              "  20400845,\n",
              "  20400864,\n",
              "  20400880,\n",
              "  20400895,\n",
              "  20400903,\n",
              "  20400915,\n",
              "  20400930,\n",
              "  20400937,\n",
              "  20400954,\n",
              "  20400960,\n",
              "  20400984,\n",
              "  20400994,\n",
              "  20401009,\n",
              "  20401035,\n",
              "  20401051,\n",
              "  20401065,\n",
              "  20401082,\n",
              "  20401092,\n",
              "  20401118,\n",
              "  20401130,\n",
              "  20401142,\n",
              "  20401154,\n",
              "  20401196,\n",
              "  20401208,\n",
              "  20401228,\n",
              "  20500016,\n",
              "  20500019,\n",
              "  20500045,\n",
              "  20500051,\n",
              "  20500064,\n",
              "  20500077,\n",
              "  20500095,\n",
              "  20500114,\n",
              "  20500130,\n",
              "  20500145,\n",
              "  20500168,\n",
              "  20500192,\n",
              "  20500203,\n",
              "  20500218,\n",
              "  20500228,\n",
              "  20500244,\n",
              "  20500251,\n",
              "  20500258,\n",
              "  20500274,\n",
              "  20500286,\n",
              "  20500297,\n",
              "  20500314,\n",
              "  20500332,\n",
              "  20500346,\n",
              "  20500359,\n",
              "  20500372,\n",
              "  20500386,\n",
              "  20500387,\n",
              "  20500412,\n",
              "  20500471,\n",
              "  20500480,\n",
              "  20500490,\n",
              "  20500507,\n",
              "  20500512,\n",
              "  20500532,\n",
              "  20500547,\n",
              "  20500563,\n",
              "  20500573,\n",
              "  20500591,\n",
              "  20500631,\n",
              "  20500646,\n",
              "  20500658,\n",
              "  20500664,\n",
              "  20500679,\n",
              "  20500689,\n",
              "  20500709,\n",
              "  20500720,\n",
              "  20500741,\n",
              "  20500756,\n",
              "  20500775,\n",
              "  20500790,\n",
              "  20500802,\n",
              "  20500813,\n",
              "  20500826,\n",
              "  20500841,\n",
              "  20500852,\n",
              "  20500865,\n",
              "  20500873,\n",
              "  20500888,\n",
              "  20500903,\n",
              "  20500916,\n",
              "  20500930,\n",
              "  20500948,\n",
              "  20500959,\n",
              "  20500968,\n",
              "  20500981,\n",
              "  20500988,\n",
              "  20501010,\n",
              "  20501026,\n",
              "  20501042,\n",
              "  20501066,\n",
              "  20501078,\n",
              "  20501089,\n",
              "  20501120,\n",
              "  20501130,\n",
              "  20501148,\n",
              "  20501161,\n",
              "  20501185,\n",
              "  20501196,\n",
              "  20501229,\n",
              "  20600029,\n",
              "  20600044,\n",
              "  20600057,\n",
              "  20600066,\n",
              "  20600081,\n",
              "  20600096,\n",
              "  20600127,\n",
              "  20600142,\n",
              "  20600157,\n",
              "  20600181,\n",
              "  20600199,\n",
              "  20600212,\n",
              "  20600223,\n",
              "  20600242,\n",
              "  20600254,\n",
              "  20600270,\n",
              "  20600299,\n",
              "  20600311,\n",
              "  20600324,\n",
              "  20600340,\n",
              "  20600355,\n",
              "  20600362,\n",
              "  20600372,\n",
              "  20600381,\n",
              "  20600403,\n",
              "  20600418,\n",
              "  20600431,\n",
              "  20600456,\n",
              "  20600478,\n",
              "  20600489,\n",
              "  20600504,\n",
              "  20600511,\n",
              "  20600523,\n",
              "  20600539,\n",
              "  20600564,\n",
              "  20600576,\n",
              "  20600580,\n",
              "  20600598,\n",
              "  20600614,\n",
              "  20600644,\n",
              "  20600657,\n",
              "  20600678,\n",
              "  20600691,\n",
              "  20600699,\n",
              "  20600714,\n",
              "  20600735,\n",
              "  20600738,\n",
              "  20600759,\n",
              "  20600774,\n",
              "  20600789,\n",
              "  20600809,\n",
              "  20600825,\n",
              "  20600838,\n",
              "  20600847,\n",
              "  20600878,\n",
              "  20600890,\n",
              "  20600902,\n",
              "  20600919,\n",
              "  20600941,\n",
              "  20600969,\n",
              "  20600977,\n",
              "  20600994,\n",
              "  20601016,\n",
              "  20601027,\n",
              "  20601044,\n",
              "  20601057,\n",
              "  20601081,\n",
              "  20601099,\n",
              "  20601107,\n",
              "  20601118,\n",
              "  20601133,\n",
              "  20601144,\n",
              "  20601154,\n",
              "  20601174,\n",
              "  20601185,\n",
              "  20601202,\n",
              "  20601227,\n",
              "  20700002,\n",
              "  20700026,\n",
              "  20700042,\n",
              "  20700052,\n",
              "  20700076,\n",
              "  20700101,\n",
              "  20700113,\n",
              "  20700129,\n",
              "  20700144,\n",
              "  20700152,\n",
              "  20700162,\n",
              "  20700172,\n",
              "  20700196,\n",
              "  20700210,\n",
              "  20700222,\n",
              "  20700231,\n",
              "  20700249,\n",
              "  20700259,\n",
              "  20700270,\n",
              "  20700300,\n",
              "  20700326,\n",
              "  20700338,\n",
              "  20700353,\n",
              "  20700363,\n",
              "  20700379,\n",
              "  20700382,\n",
              "  20700400,\n",
              "  20700406,\n",
              "  20700432,\n",
              "  20700448,\n",
              "  20700482,\n",
              "  20700497,\n",
              "  20700504,\n",
              "  20700515,\n",
              "  20700531,\n",
              "  20700546,\n",
              "  20700553,\n",
              "  20700572,\n",
              "  20700607,\n",
              "  20700618,\n",
              "  20700633,\n",
              "  20700643,\n",
              "  20700664,\n",
              "  20700675,\n",
              "  20700679,\n",
              "  20700696,\n",
              "  20700710,\n",
              "  20700713,\n",
              "  20700728,\n",
              "  20700745,\n",
              "  20700753,\n",
              "  20700772,\n",
              "  20700789,\n",
              "  20700796,\n",
              "  20700822,\n",
              "  20700830,\n",
              "  20700843,\n",
              "  20700857,\n",
              "  20700868,\n",
              "  20700876,\n",
              "  20700895,\n",
              "  20700923,\n",
              "  20700938,\n",
              "  20700951,\n",
              "  20700970,\n",
              "  20700988,\n",
              "  20701003,\n",
              "  20701018,\n",
              "  20701027,\n",
              "  20701043,\n",
              "  20701051,\n",
              "  20701069,\n",
              "  20701082,\n",
              "  20701098,\n",
              "  20701122,\n",
              "  20701135,\n",
              "  20701150,\n",
              "  20701161,\n",
              "  20701175,\n",
              "  20701187,\n",
              "  20701198,\n",
              "  20701216,\n",
              "  20800003,\n",
              "  20800015,\n",
              "  20800037,\n",
              "  20800063,\n",
              "  20800092,\n",
              "  20800102,\n",
              "  20800112,\n",
              "  20800131,\n",
              "  20800158,\n",
              "  20800170,\n",
              "  20800183,\n",
              "  20800197,\n",
              "  20800209,\n",
              "  20800235,\n",
              "  20800251,\n",
              "  20800255,\n",
              "  20800267,\n",
              "  20800277,\n",
              "  20800300,\n",
              "  20800313,\n",
              "  20800322,\n",
              "  20800336,\n",
              "  20800350,\n",
              "  20800365,\n",
              "  20800385,\n",
              "  20800390,\n",
              "  20800405,\n",
              "  20800417,\n",
              "  20800423,\n",
              "  20800449,\n",
              "  20800487,\n",
              "  20800500,\n",
              "  20800513,\n",
              "  20800525,\n",
              "  20800538,\n",
              "  20800552,\n",
              "  20800562,\n",
              "  20800574,\n",
              "  20800589,\n",
              "  20800612,\n",
              "  20800627,\n",
              "  20800629,\n",
              "  20800647,\n",
              "  20800666,\n",
              "  20800687,\n",
              "  20800695,\n",
              "  20800709,\n",
              "  20800721,\n",
              "  20800732,\n",
              "  20800751,\n",
              "  20800772,\n",
              "  20800782,\n",
              "  20800797,\n",
              "  20800807,\n",
              "  20800821,\n",
              "  20800834,\n",
              "  20800846,\n",
              "  20800862,\n",
              "  20800871,\n",
              "  20800884,\n",
              "  20800904,\n",
              "  20800925,\n",
              "  20800948,\n",
              "  20800962,\n",
              "  20800966,\n",
              "  20800991,\n",
              "  20801008,\n",
              "  20801022,\n",
              "  20801038,\n",
              "  20801056,\n",
              "  20801070,\n",
              "  20801078,\n",
              "  20801092,\n",
              "  20801104,\n",
              "  20801117,\n",
              "  20801134,\n",
              "  20801152,\n",
              "  20801160,\n",
              "  20801175,\n",
              "  20801186,\n",
              "  20801201,\n",
              "  20801216,\n",
              "  20900004,\n",
              "  20900031,\n",
              "  20900045,\n",
              "  20900057,\n",
              "  20900066,\n",
              "  20900083,\n",
              "  20900097,\n",
              "  20900123,\n",
              "  20900131,\n",
              "  20900146,\n",
              "  20900157,\n",
              "  20900172,\n",
              "  20900197,\n",
              "  20900207,\n",
              "  20900238,\n",
              "  20900248,\n",
              "  20900258,\n",
              "  20900281,\n",
              "  20900295,\n",
              "  20900316,\n",
              "  20900329,\n",
              "  20900337,\n",
              "  20900354,\n",
              "  20900363,\n",
              "  20900388,\n",
              "  20900396,\n",
              "  20900413,\n",
              "  20900426,\n",
              "  20900437,\n",
              "  20900448,\n",
              "  20900458,\n",
              "  20900476,\n",
              "  20900493,\n",
              "  20900506,\n",
              "  20900516,\n",
              "  20900527,\n",
              "  20900543,\n",
              "  20900556,\n",
              "  20900564,\n",
              "  20900582,\n",
              "  20900605,\n",
              "  20900621,\n",
              "  20900632,\n",
              "  20900648,\n",
              "  20900658,\n",
              "  20900664,\n",
              "  20900678,\n",
              "  20900696,\n",
              "  20900706,\n",
              "  20900727,\n",
              "  20900740,\n",
              "  20900841,\n",
              "  20900852,\n",
              "  20900869,\n",
              "  20900879,\n",
              "  20900898,\n",
              "  20900912,\n",
              "  20900914,\n",
              "  20900935,\n",
              "  20900952,\n",
              "  20900974,\n",
              "  20900995,\n",
              "  20901004,\n",
              "  20901028,\n",
              "  20901041,\n",
              "  20901066,\n",
              "  20901078,\n",
              "  20901085,\n",
              "  20901099,\n",
              "  20901107,\n",
              "  20901131,\n",
              "  20901142,\n",
              "  20901196,\n",
              "  21000003,\n",
              "  21000030,\n",
              "  21000043,\n",
              "  21000053,\n",
              "  21000065,\n",
              "  21000079,\n",
              "  21000094,\n",
              "  21000107,\n",
              "  21000120,\n",
              "  21000143,\n",
              "  21000155,\n",
              "  21000161,\n",
              "  21000176,\n",
              "  21000194,\n",
              "  21000208,\n",
              "  21000231,\n",
              "  21000249,\n",
              "  21000258,\n",
              "  21000269,\n",
              "  21000287,\n",
              "  21000315,\n",
              "  21000326,\n",
              "  21000333,\n",
              "  21000351,\n",
              "  21000362,\n",
              "  21000367,\n",
              "  21000383,\n",
              "  21000402,\n",
              "  21000420,\n",
              "  21000435,\n",
              "  21000460,\n",
              "  21000467,\n",
              "  21000483,\n",
              "  21000498,\n",
              "  21000511,\n",
              "  21000521,\n",
              "  21000535,\n",
              "  21000550,\n",
              "  21000560,\n",
              "  21000571,\n",
              "  21000586,\n",
              "  21000596,\n",
              "  21000610,\n",
              "  21000621,\n",
              "  21000637,\n",
              "  21000667,\n",
              "  21000692,\n",
              "  21000702,\n",
              "  21000718,\n",
              "  21000732,\n",
              "  21000748,\n",
              "  21000759,\n",
              "  21000783,\n",
              "  21000793,\n",
              "  21000805,\n",
              "  21000812,\n",
              "  21000827,\n",
              "  21000846,\n",
              "  21000858,\n",
              "  21000871,\n",
              "  21000880,\n",
              "  21000900,\n",
              "  21000924,\n",
              "  21000932,\n",
              "  21000947,\n",
              "  21000964,\n",
              "  21000982,\n",
              "  21000999,\n",
              "  21001028,\n",
              "  21001043,\n",
              "  21001053,\n",
              "  21001080,\n",
              "  21001094,\n",
              "  21001119,\n",
              "  21001132,\n",
              "  21001139,\n",
              "  21001161,\n",
              "  21001173,\n",
              "  21001187,\n",
              "  21001201,\n",
              "  21001215,\n",
              "  21001230,\n",
              "  21100003,\n",
              "  21100015,\n",
              "  21100022,\n",
              "  21100038,\n",
              "  21100050,\n",
              "  21100063,\n",
              "  21100081,\n",
              "  21100097,\n",
              "  21100109,\n",
              "  21100125,\n",
              "  21100141,\n",
              "  21100151,\n",
              "  21100169,\n",
              "  21100180,\n",
              "  21100194,\n",
              "  21100213,\n",
              "  21100223,\n",
              "  21100241,\n",
              "  21100268,\n",
              "  21100288,\n",
              "  21100297,\n",
              "  21100313,\n",
              "  21100341,\n",
              "  21100351,\n",
              "  21100357,\n",
              "  21100384,\n",
              "  21100395,\n",
              "  21100408,\n",
              "  21100428,\n",
              "  21100455,\n",
              "  21100469,\n",
              "  21100479,\n",
              "  21100497,\n",
              "  21100502,\n",
              "  21100523,\n",
              "  21100538,\n",
              "  21100547,\n",
              "  21100567,\n",
              "  21100571,\n",
              "  21100589,\n",
              "  21100604,\n",
              "  21100621,\n",
              "  21100631,\n",
              "  21100652,\n",
              "  21100669,\n",
              "  21100679,\n",
              "  21100692,\n",
              "  21100709,\n",
              "  21100726,\n",
              "  21100742,\n",
              "  21100756,\n",
              "  21100769,\n",
              "  21100784,\n",
              "  21100798,\n",
              "  21100810,\n",
              "  21100825,\n",
              "  21100941,\n",
              "  21100952,\n",
              "  21200003,\n",
              "  21200012,\n",
              "  21200025,\n",
              "  21200041,\n",
              "  21200062,\n",
              "  21200080,\n",
              "  21200094,\n",
              "  21200108,\n",
              "  21200130,\n",
              "  21200146,\n",
              "  21200156,\n",
              "  21200169,\n",
              "  21200177,\n",
              "  21200187,\n",
              "  21200208,\n",
              "  21200232,\n",
              "  21200244,\n",
              "  21200256,\n",
              "  21200263,\n",
              "  21200280,\n",
              "  21200297,\n",
              "  21200305,\n",
              "  21200323,\n",
              "  21200326,\n",
              "  21200347,\n",
              "  21200364,\n",
              "  21200398,\n",
              "  21200406,\n",
              "  21200419,\n",
              "  21200435,\n",
              "  21200463,\n",
              "  21200488,\n",
              "  21200503,\n",
              "  21200514,\n",
              "  21200522,\n",
              "  21200539,\n",
              "  21200555,\n",
              "  21200569,\n",
              "  21200583,\n",
              "  21200601,\n",
              "  21200612,\n",
              "  21200621,\n",
              "  21200641,\n",
              "  21200653,\n",
              "  21200669,\n",
              "  21200681,\n",
              "  21200695,\n",
              "  21200706,\n",
              "  21200716,\n",
              "  21200733,\n",
              "  21200736,\n",
              "  21200753,\n",
              "  21200773,\n",
              "  21200788,\n",
              "  21200807,\n",
              "  21200821,\n",
              "  21200830,\n",
              "  21200841,\n",
              "  21200863,\n",
              "  21200888,\n",
              "  21200897,\n",
              "  21200906,\n",
              "  21200925,\n",
              "  21200935,\n",
              "  21200949,\n",
              "  21200960,\n",
              "  21200971,\n",
              "  21201032,\n",
              "  21201053,\n",
              "  21201066,\n",
              "  21201071,\n",
              "  21201093,\n",
              "  21201110,\n",
              "  21201137,\n",
              "  21201146,\n",
              "  21201162,\n",
              "  21201171,\n",
              "  21201189,\n",
              "  21300303,\n",
              "  21300317,\n",
              "  21300336,\n",
              "  21300342,\n",
              "  21300357,\n",
              "  21300366,\n",
              "  21400003,\n",
              "  21400013,\n",
              "  21400026,\n",
              "  21400038,\n",
              "  21400056,\n",
              "  21400097,\n",
              "  21400104,\n",
              "  21400114,\n",
              "  21400131,\n",
              "  21400145,\n",
              "  21400155,\n",
              "  21400169,\n",
              "  21400180,\n",
              "  21400197,\n",
              "  21400222,\n",
              "  21400234,\n",
              "  21400248,\n",
              "  21400255,\n",
              "  21400264,\n",
              "  21400279,\n",
              "  21400300,\n",
              "  21400315,\n",
              "  ...),\n",
              " ('POR',\n",
              "  'UTA',\n",
              "  'VAN',\n",
              "  'LAC',\n",
              "  'HOU',\n",
              "  'SAS',\n",
              "  'HOU',\n",
              "  'DEN',\n",
              "  'SAC',\n",
              "  'DEN',\n",
              "  'CHI',\n",
              "  'GSW',\n",
              "  'MIN',\n",
              "  'LAC',\n",
              "  'IND',\n",
              "  'SEA',\n",
              "  'SAS',\n",
              "  'DAL',\n",
              "  'PHI',\n",
              "  'GSW',\n",
              "  'SEA',\n",
              "  'DET',\n",
              "  'MIL',\n",
              "  'POR',\n",
              "  'VAN',\n",
              "  'TOR',\n",
              "  'MIA',\n",
              "  'HOU',\n",
              "  'DAL',\n",
              "  'POR',\n",
              "  'PHX',\n",
              "  'LAC',\n",
              "  'UTA',\n",
              "  'LAC',\n",
              "  'CLE',\n",
              "  'UTA',\n",
              "  'VAN',\n",
              "  'HOU',\n",
              "  'MIA',\n",
              "  'SEA',\n",
              "  'NJN',\n",
              "  'NYK',\n",
              "  'CLE',\n",
              "  'MIN',\n",
              "  'CHA',\n",
              "  'SAC',\n",
              "  'PHX',\n",
              "  'NJN',\n",
              "  'PHI',\n",
              "  'CHA',\n",
              "  'IND',\n",
              "  'DAL',\n",
              "  'DEN',\n",
              "  'VAN',\n",
              "  'GSW',\n",
              "  'GSW',\n",
              "  'TOR',\n",
              "  'SAS',\n",
              "  'DET',\n",
              "  'WAS',\n",
              "  'ORL',\n",
              "  'ATL',\n",
              "  'MIL',\n",
              "  'NYK',\n",
              "  'PHX',\n",
              "  'MIN',\n",
              "  'POR',\n",
              "  'DEN',\n",
              "  'POR',\n",
              "  'UTA',\n",
              "  'PHX',\n",
              "  'UTA',\n",
              "  'MEM',\n",
              "  'ORL',\n",
              "  'HOU',\n",
              "  'PHX',\n",
              "  'SAC',\n",
              "  'LAC',\n",
              "  'DEN',\n",
              "  'GSW',\n",
              "  'DEN',\n",
              "  'MIL',\n",
              "  'SEA',\n",
              "  'MIN',\n",
              "  'DAL',\n",
              "  'SAC',\n",
              "  'SEA',\n",
              "  'LAC',\n",
              "  'GSW',\n",
              "  'HOU',\n",
              "  'MEM',\n",
              "  'PHI',\n",
              "  'GSW',\n",
              "  'TOR',\n",
              "  'HOU',\n",
              "  'DEN',\n",
              "  'PHX',\n",
              "  'TOR',\n",
              "  'DET',\n",
              "  'IND',\n",
              "  'MIN',\n",
              "  'CHI',\n",
              "  'MEM',\n",
              "  'MIA',\n",
              "  'SAS',\n",
              "  'DEN',\n",
              "  'LAC',\n",
              "  'SAS',\n",
              "  'PHI',\n",
              "  'ATL',\n",
              "  'ORL',\n",
              "  'MEM',\n",
              "  'DAL',\n",
              "  'CHI',\n",
              "  'WAS',\n",
              "  'SEA',\n",
              "  'ATL',\n",
              "  'POR',\n",
              "  'BOS',\n",
              "  'CLE',\n",
              "  'CHA',\n",
              "  'NYK',\n",
              "  'MIL',\n",
              "  'MIN',\n",
              "  'IND',\n",
              "  'UTA',\n",
              "  'NYK',\n",
              "  'CHA',\n",
              "  'GSW',\n",
              "  'LAC',\n",
              "  'DAL',\n",
              "  'DAL',\n",
              "  'SAS',\n",
              "  'DET',\n",
              "  'SAC',\n",
              "  'CLE',\n",
              "  'PHX',\n",
              "  'POR',\n",
              "  'SAS',\n",
              "  'WAS',\n",
              "  'NJN',\n",
              "  'BOS',\n",
              "  'MIA',\n",
              "  'UTA',\n",
              "  'MIN',\n",
              "  'POR',\n",
              "  'SEA',\n",
              "  'SAC',\n",
              "  'SAS',\n",
              "  'POR',\n",
              "  'LAC',\n",
              "  'POR',\n",
              "  'CLE',\n",
              "  'BOS',\n",
              "  'WAS',\n",
              "  'ATL',\n",
              "  'GSW',\n",
              "  'HOU',\n",
              "  'DAL',\n",
              "  'SAS',\n",
              "  'CHI',\n",
              "  'MIL',\n",
              "  'MIA',\n",
              "  'ORL',\n",
              "  'MEM',\n",
              "  'MIN',\n",
              "  'MEM',\n",
              "  'UTA',\n",
              "  'DAL',\n",
              "  'UTA',\n",
              "  'GSW',\n",
              "  'NOH',\n",
              "  'ORL',\n",
              "  'MIN',\n",
              "  'NJN',\n",
              "  'PHI',\n",
              "  'TOR',\n",
              "  'SAC',\n",
              "  'DEN',\n",
              "  'TOR',\n",
              "  'PHX',\n",
              "  'PHX',\n",
              "  'SEA',\n",
              "  'CLE',\n",
              "  'MIA',\n",
              "  'NOH',\n",
              "  'HOU',\n",
              "  'LAC',\n",
              "  'GSW',\n",
              "  'NJN',\n",
              "  'PHX',\n",
              "  'SAC',\n",
              "  'UTA',\n",
              "  'IND',\n",
              "  'NYK',\n",
              "  'DEN',\n",
              "  'DEN',\n",
              "  'SAS',\n",
              "  'NYK',\n",
              "  'HOU',\n",
              "  'UTA',\n",
              "  'POR',\n",
              "  'SEA',\n",
              "  'LAC',\n",
              "  'DET',\n",
              "  'SEA',\n",
              "  'IND',\n",
              "  'MIN',\n",
              "  'PHI',\n",
              "  'CHI',\n",
              "  'DET',\n",
              "  'MIN',\n",
              "  'MIL',\n",
              "  'LAC',\n",
              "  'SAC',\n",
              "  'BOS',\n",
              "  'SAS',\n",
              "  'ATL',\n",
              "  'HOU',\n",
              "  'WAS',\n",
              "  'SEA',\n",
              "  'MEM',\n",
              "  'DAL',\n",
              "  'MEM',\n",
              "  'PHX',\n",
              "  'DAL',\n",
              "  'SAC',\n",
              "  'POR',\n",
              "  'DEN',\n",
              "  'GSW',\n",
              "  'PHX',\n",
              "  'GSW',\n",
              "  'MIL',\n",
              "  'SAS',\n",
              "  'NOH',\n",
              "  'MEM',\n",
              "  'TOR',\n",
              "  'DET',\n",
              "  'MIA',\n",
              "  'DET',\n",
              "  'NYK',\n",
              "  'CHI',\n",
              "  'MEM',\n",
              "  'WAS',\n",
              "  'SAS',\n",
              "  'IND',\n",
              "  'SAS',\n",
              "  'DAL',\n",
              "  'UTA',\n",
              "  'NYK',\n",
              "  'DAL',\n",
              "  'POR',\n",
              "  'DEN',\n",
              "  'PHX',\n",
              "  'GSW',\n",
              "  'HOU',\n",
              "  'BOS',\n",
              "  'SEA',\n",
              "  'LAC',\n",
              "  'MIN',\n",
              "  'DEN',\n",
              "  'ATL',\n",
              "  'CLE',\n",
              "  'UTA',\n",
              "  'SEA',\n",
              "  'HOU',\n",
              "  'POR',\n",
              "  'GSW',\n",
              "  'PHI',\n",
              "  'PHX',\n",
              "  'DEN',\n",
              "  'SAC',\n",
              "  'WAS',\n",
              "  'NJN',\n",
              "  'HOU',\n",
              "  'BOS',\n",
              "  'MIN',\n",
              "  'CHI',\n",
              "  'ORL',\n",
              "  'LAC',\n",
              "  'LAC',\n",
              "  'MIL',\n",
              "  'SAC',\n",
              "  'MIN',\n",
              "  'UTA',\n",
              "  'NOH',\n",
              "  'HOU',\n",
              "  'SEA',\n",
              "  'SAS',\n",
              "  'POR',\n",
              "  'MEM',\n",
              "  'SAC',\n",
              "  'GSW',\n",
              "  'POR',\n",
              "  'DEN',\n",
              "  'UTA',\n",
              "  'SAS',\n",
              "  'ATL',\n",
              "  'NOP',\n",
              "  'MEM',\n",
              "  'ORL',\n",
              "  'HOU',\n",
              "  'LAC',\n",
              "  'PHX',\n",
              "  'CHI',\n",
              "  'MIL',\n",
              "  'SAC',\n",
              "  'NOP',\n",
              "  'MIL',\n",
              "  'CHI',\n",
              "  'GSW',\n",
              "  'PHX',\n",
              "  'LAC',\n",
              "  'ORL',\n",
              "  'SEA',\n",
              "  'SAC',\n",
              "  'WAS',\n",
              "  'MEM',\n",
              "  'NOP',\n",
              "  'MIA',\n",
              "  'TOR',\n",
              "  'DEN',\n",
              "  'SAS',\n",
              "  'DAL',\n",
              "  'HOU',\n",
              "  'MIN',\n",
              "  'DEN',\n",
              "  'CLE',\n",
              "  'CLE',\n",
              "  'UTA',\n",
              "  'BOS',\n",
              "  'POR',\n",
              "  'DET',\n",
              "  'TOR',\n",
              "  'NYK',\n",
              "  'BOS',\n",
              "  'DAL',\n",
              "  'IND',\n",
              "  'LAC',\n",
              "  'DAL',\n",
              "  'CHA',\n",
              "  'WAS',\n",
              "  'PHI',\n",
              "  'MIA',\n",
              "  'IND',\n",
              "  'SEA',\n",
              "  'UTA',\n",
              "  'DEN',\n",
              "  'PHI',\n",
              "  'NYK',\n",
              "  'MIN',\n",
              "  'SAS',\n",
              "  'MEM',\n",
              "  'HOU',\n",
              "  'SEA',\n",
              "  'SAC',\n",
              "  'PHX',\n",
              "  'DAL',\n",
              "  'GSW',\n",
              "  'POR',\n",
              "  'DEN',\n",
              "  'PHX',\n",
              "  'DEN',\n",
              "  'ATL',\n",
              "  'MIN',\n",
              "  'PHI',\n",
              "  'MEM',\n",
              "  'NYK',\n",
              "  'LAC',\n",
              "  'CHI',\n",
              "  'SEA',\n",
              "  'NJN',\n",
              "  'SAS',\n",
              "  'UTA',\n",
              "  'MIN',\n",
              "  'CHA',\n",
              "  'MIL',\n",
              "  'TOR',\n",
              "  'CHI',\n",
              "  'MIN',\n",
              "  'DAL',\n",
              "  'MEM',\n",
              "  'WAS',\n",
              "  'HOU',\n",
              "  'DAL',\n",
              "  'ORL',\n",
              "  'MIA',\n",
              "  'WAS',\n",
              "  'MEM',\n",
              "  'PHI',\n",
              "  'LAC',\n",
              "  'IND',\n",
              "  'POR',\n",
              "  'CLE',\n",
              "  'GSW',\n",
              "  'MIA',\n",
              "  'SAC',\n",
              "  'PHX',\n",
              "  'TOR',\n",
              "  'GSW',\n",
              "  'DET',\n",
              "  'NYK',\n",
              "  'IND',\n",
              "  'CHA',\n",
              "  'NOP',\n",
              "  'DAL',\n",
              "  'HOU',\n",
              "  'MEM',\n",
              "  'UTA',\n",
              "  'ATL',\n",
              "  'POR',\n",
              "  'SAC',\n",
              "  'LAC',\n",
              "  'BOS',\n",
              "  'ORL',\n",
              "  'POR',\n",
              "  'GSW',\n",
              "  'DET',\n",
              "  'SAS',\n",
              "  'NOP',\n",
              "  'SAS',\n",
              "  'SEA',\n",
              "  'SAC',\n",
              "  'MIN',\n",
              "  'NJN',\n",
              "  'CLE',\n",
              "  'BOS',\n",
              "  'SAC',\n",
              "  'MIL',\n",
              "  'NOP',\n",
              "  'SAS',\n",
              "  'SEA',\n",
              "  'HOU',\n",
              "  'DEN',\n",
              "  'PHX',\n",
              "  'LAC',\n",
              "  'GSW',\n",
              "  'POR',\n",
              "  'PHX',\n",
              "  'NOP',\n",
              "  'SEA',\n",
              "  'SEA',\n",
              "  'MIN',\n",
              "  'POR',\n",
              "  'DET',\n",
              "  'MEM',\n",
              "  'TOR',\n",
              "  'CHI',\n",
              "  'LAC',\n",
              "  'UTA',\n",
              "  'NJN',\n",
              "  'MIL',\n",
              "  'UTA',\n",
              "  'LAC',\n",
              "  'IND',\n",
              "  'NOP',\n",
              "  'SAS',\n",
              "  'HOU',\n",
              "  'DAL',\n",
              "  'HOU',\n",
              "  'WAS',\n",
              "  'CHI',\n",
              "  'MIN',\n",
              "  'NJN',\n",
              "  'MIA',\n",
              "  'ORL',\n",
              "  'CHA',\n",
              "  'PHI',\n",
              "  'SAC',\n",
              "  'DEN',\n",
              "  'DAL',\n",
              "  'MEM',\n",
              "  'HOU',\n",
              "  'ORL',\n",
              "  'MIA',\n",
              "  'SAS',\n",
              "  'DAL',\n",
              "  'NOP',\n",
              "  'GSW',\n",
              "  'CHA',\n",
              "  'SAS',\n",
              "  'BOS',\n",
              "  'IND',\n",
              "  'WAS',\n",
              "  'ATL',\n",
              "  'DET',\n",
              "  'TOR',\n",
              "  'CLE',\n",
              "  'NYK',\n",
              "  'CLE',\n",
              "  'POR',\n",
              "  'BOS',\n",
              "  'GSW',\n",
              "  'UTA',\n",
              "  'SAC',\n",
              "  'PHX',\n",
              "  'MIN',\n",
              "  'PHI',\n",
              "  'DAL',\n",
              "  'DEN',\n",
              "  'POR',\n",
              "  'MIN',\n",
              "  'MEM',\n",
              "  'NOP',\n",
              "  'GSW',\n",
              "  'MEM',\n",
              "  'HOU',\n",
              "  'SAC',\n",
              "  'DEN',\n",
              "  'LAC',\n",
              "  'SEA',\n",
              "  'PHX',\n",
              "  'DEN',\n",
              "  'LAC',\n",
              "  'PHX',\n",
              "  'SEA',\n",
              "  'SAC',\n",
              "  'HOU',\n",
              "  'PHX',\n",
              "  'UTA',\n",
              "  'NOH',\n",
              "  'MIN',\n",
              "  'SAS',\n",
              "  'HOU',\n",
              "  'DET',\n",
              "  'CHI',\n",
              "  'IND',\n",
              "  'MIL',\n",
              "  'BOS',\n",
              "  'NJN',\n",
              "  'SEA',\n",
              "  'DEN',\n",
              "  'UTA',\n",
              "  'ORL',\n",
              "  'MIN',\n",
              "  'DEN',\n",
              "  'GSW',\n",
              "  'SAS',\n",
              "  'GSW',\n",
              "  'LAC',\n",
              "  'CHI',\n",
              "  'CLE',\n",
              "  'PHI',\n",
              "  'NYK',\n",
              "  'PHX',\n",
              "  'UTA',\n",
              "  'BOS',\n",
              "  'PHI',\n",
              "  'IND',\n",
              "  'MEM',\n",
              "  'NOH',\n",
              "  'MIL',\n",
              "  'MEM',\n",
              "  'SEA',\n",
              "  'PHX',\n",
              "  'DEN',\n",
              "  'SAS',\n",
              "  'DAL',\n",
              "  'CLE',\n",
              "  'NYK',\n",
              "  'DET',\n",
              "  'TOR',\n",
              "  'WAS',\n",
              "  'NJN',\n",
              "  'ATL',\n",
              "  'ORL',\n",
              "  'MIA',\n",
              "  'CHA',\n",
              "  'MIN',\n",
              "  'ATL',\n",
              "  'PHX',\n",
              "  'LAC',\n",
              "  'SEA',\n",
              "  'POR',\n",
              "  'MIA',\n",
              "  'POR',\n",
              "  'DAL',\n",
              "  'SAC',\n",
              "  'LAC',\n",
              "  'SAC',\n",
              "  'TOR',\n",
              "  'NOH',\n",
              "  'HOU',\n",
              "  'DAL',\n",
              "  'UTA',\n",
              "  'SEA',\n",
              "  'GSW',\n",
              "  'GSW',\n",
              "  'CHA',\n",
              "  'MEM',\n",
              "  'WAS',\n",
              "  'POR',\n",
              "  'DAL',\n",
              "  'SAC',\n",
              "  'POR',\n",
              "  'LAC',\n",
              "  'NOH',\n",
              "  'SAS',\n",
              "  'SAC',\n",
              "  'POR',\n",
              "  'LAC',\n",
              "  'DEN',\n",
              "  'LAC',\n",
              "  'HOU',\n",
              "  'DAL',\n",
              "  'NOH',\n",
              "  'DET',\n",
              "  'CHI',\n",
              "  'PHX',\n",
              "  'DEN',\n",
              "  'SAC',\n",
              "  'NJN',\n",
              "  'DAL',\n",
              "  'TOR',\n",
              "  'IND',\n",
              "  'PHI',\n",
              "  'WAS',\n",
              "  'MIL',\n",
              "  'SAC',\n",
              "  'PHX',\n",
              "  'SAC',\n",
              "  'MIN',\n",
              "  'NYK',\n",
              "  'MIA',\n",
              "  'ORL',\n",
              "  'MEM',\n",
              "  'NOH',\n",
              "  'BOS',\n",
              "  'GSW',\n",
              "  'UTA',\n",
              "  'POR',\n",
              "  'NOH',\n",
              "  'GSW',\n",
              "  'IND',\n",
              "  'MIA',\n",
              "  'HOU',\n",
              "  'SAS',\n",
              "  'ORL',\n",
              "  'CLE',\n",
              "  'LAC',\n",
              "  'WAS',\n",
              "  'SAS',\n",
              "  'CHA',\n",
              "  'MIN',\n",
              "  'MEM',\n",
              "  'NYK',\n",
              "  'TOR',\n",
              "  'BOS',\n",
              "  'CLE',\n",
              "  'OKC',\n",
              "  'UTA',\n",
              "  'ATL',\n",
              "  'GSW',\n",
              "  'NOH',\n",
              "  'MIN',\n",
              "  'OKC',\n",
              "  'PHX',\n",
              "  'DEN',\n",
              "  'PHX',\n",
              "  'MEM',\n",
              "  'MIN',\n",
              "  'POR',\n",
              "  'HOU',\n",
              "  'SAS',\n",
              "  'DAL',\n",
              "  'PHI',\n",
              "  'GSW',\n",
              "  'CHI',\n",
              "  'OKC',\n",
              "  'DET',\n",
              "  'NJN',\n",
              "  'ATL',\n",
              "  'CHA',\n",
              "  'MIL',\n",
              "  'HOU',\n",
              "  'LAC',\n",
              "  'SAC',\n",
              "  'DEN',\n",
              "  'POR',\n",
              "  'MEM',\n",
              "  'UTA',\n",
              "  'LAC',\n",
              "  'DAL',\n",
              "  'ATL',\n",
              "  'OKC',\n",
              "  'HOU',\n",
              "  'MEM',\n",
              "  'NOH',\n",
              "  'PHX',\n",
              "  'DEN',\n",
              "  'HOU',\n",
              "  'DET',\n",
              "  'CHI',\n",
              "  'OKC',\n",
              "  'NYK',\n",
              "  'GSW',\n",
              "  'NJN',\n",
              "  'NOH',\n",
              "  'MIA',\n",
              "  'PHX',\n",
              "  'UTA',\n",
              "  'MIN',\n",
              "  'UTA',\n",
              "  'CHI',\n",
              "  'MIL',\n",
              "  'NJN',\n",
              "  'DET',\n",
              "  'OKC',\n",
              "  'CLE',\n",
              "  'SAC',\n",
              "  'PHX',\n",
              "  'GSW',\n",
              "  'SAC',\n",
              "  'DAL',\n",
              "  'HOU',\n",
              "  'LAC',\n",
              "  'POR',\n",
              "  'MIL',\n",
              "  'SAS',\n",
              "  'DAL',\n",
              "  'LAC',\n",
              "  'ORL',\n",
              "  'CLE',\n",
              "  'NYK',\n",
              "  'TOR',\n",
              "  'WAS',\n",
              "  'IND',\n",
              "  'PHI',\n",
              "  'BOS',\n",
              "  'MEM',\n",
              "  'CHA',\n",
              "  'DEN',\n",
              "  'MEM',\n",
              "  'DAL',\n",
              "  'PHI',\n",
              "  'DEN',\n",
              "  'IND',\n",
              "  'MIA',\n",
              "  'CHA',\n",
              "  'ORL',\n",
              "  'TOR',\n",
              "  'PHX',\n",
              "  'GSW',\n",
              "  'SAC',\n",
              "  'MIN',\n",
              "  'WAS',\n",
              "  'SAS',\n",
              "  'OKC',\n",
              "  'HOU',\n",
              "  'NOH',\n",
              "  'ATL',\n",
              "  'UTA',\n",
              "  'SAS',\n",
              "  'POR',\n",
              "  'HOU',\n",
              "  'PHX',\n",
              "  'GSW',\n",
              "  'MEM',\n",
              "  'SAC',\n",
              "  'TOR',\n",
              "  'POR',\n",
              "  'MIN',\n",
              "  'DEN',\n",
              "  'PHX',\n",
              "  'MIL',\n",
              "  'DET',\n",
              "  'MIN',\n",
              "  'GSW',\n",
              "  'CHI',\n",
              "  'UTA',\n",
              "  'IND',\n",
              "  'MEM',\n",
              "  'HOU',\n",
              "  'SAC',\n",
              "  'WAS',\n",
              "  'LAC',\n",
              "  'CHI',\n",
              "  'NJN',\n",
              "  'WAS',\n",
              "  'IND',\n",
              "  'PHI',\n",
              "  'TOR',\n",
              "  'MIL',\n",
              "  'MIA',\n",
              "  'SAS',\n",
              "  'NOH',\n",
              "  'PHI',\n",
              "  'MEM',\n",
              "  'DET',\n",
              "  'PHX',\n",
              "  'NOH',\n",
              "  'NYK',\n",
              "  'CLE',\n",
              "  'GSW',\n",
              "  'NJN',\n",
              "  'LAC',\n",
              "  'OKC',\n",
              "  'DAL',\n",
              "  'DEN',\n",
              "  'UTA',\n",
              "  'SAC',\n",
              "  'BOS',\n",
              "  'HOU',\n",
              "  'SAS',\n",
              "  'NOH',\n",
              "  'MEM',\n",
              "  'BOS',\n",
              "  'NYK',\n",
              "  'ORL',\n",
              "  'CHA',\n",
              "  'CLE',\n",
              "  'ATL',\n",
              "  'POR',\n",
              "  'LAC',\n",
              "  'OKC',\n",
              "  'MIN',\n",
              "  'CHA',\n",
              "  'SAS',\n",
              "  'ATL',\n",
              "  'MIA',\n",
              "  'DAL',\n",
              "  'ORL',\n",
              "  'MIN',\n",
              "  'POR',\n",
              "  'PHX',\n",
              "  'LAC',\n",
              "  'NOH',\n",
              "  'DAL',\n",
              "  'UTA',\n",
              "  'DEN',\n",
              "  'UTA',\n",
              "  'GSW',\n",
              "  'POR',\n",
              "  'OKC',\n",
              "  'SAS',\n",
              "  'SAC',\n",
              "  'CHI',\n",
              "  'SAC',\n",
              "  'UTA',\n",
              "  'NYK',\n",
              "  'DEN',\n",
              "  'DEN',\n",
              "  'HOU',\n",
              "  'POR',\n",
              "  'GSW',\n",
              "  'MEM',\n",
              "  'PHX',\n",
              "  'UTA',\n",
              "  'CLE',\n",
              "  'LAC',\n",
              "  'DAL',\n",
              "  'MIA',\n",
              "  'ORL',\n",
              "  'IND',\n",
              "  'LAC',\n",
              "  'MIL',\n",
              "  'MIN',\n",
              "  'CHA',\n",
              "  'DEN',\n",
              "  'UTA',\n",
              "  'PHI',\n",
              "  'BOS',\n",
              "  'NYK',\n",
              "  'TOR',\n",
              "  'ATL',\n",
              "  'PHX',\n",
              "  'PHX',\n",
              "  'POR',\n",
              "  'DAL',\n",
              "  'OKC',\n",
              "  'MIN',\n",
              "  'SAC',\n",
              "  'MIA',\n",
              "  'DET',\n",
              "  'WAS',\n",
              "  'MIN',\n",
              "  'BOS',\n",
              "  'MEM',\n",
              "  'NOH',\n",
              "  'MIN',\n",
              "  'UTA',\n",
              "  'HOU',\n",
              "  'DAL',\n",
              "  'POR',\n",
              "  'MEM',\n",
              "  'GSW',\n",
              "  'OKC',\n",
              "  'NOH',\n",
              "  'GSW',\n",
              "  'NJN',\n",
              "  'LAC',\n",
              "  'HOU',\n",
              "  'SAS',\n",
              "  'OKC',\n",
              "  'DAL',\n",
              "  'POR',\n",
              "  'LAC',\n",
              "  'DET',\n",
              "  'UTA',\n",
              "  'GSW',\n",
              "  'SAC',\n",
              "  'SAS',\n",
              "  'PHX',\n",
              "  'HOU',\n",
              "  'BKN',\n",
              "  'SAC',\n",
              "  'MEM',\n",
              "  'DAL',\n",
              "  'IND',\n",
              "  'DEN',\n",
              "  'ORL',\n",
              "  'HOU',\n",
              "  'NOH',\n",
              "  'OKC',\n",
              "  'UTA',\n",
              "  'CLE',\n",
              "  'NYK',\n",
              "  'WAS',\n",
              "  'PHI',\n",
              "  'CHA',\n",
              "  'GSW',\n",
              "  'NYK',\n",
              "  'DEN',\n",
              "  'POR',\n",
              "  'PHI',\n",
              "  'LAC',\n",
              "  'DEN',\n",
              "  'HOU',\n",
              "  'SAS',\n",
              "  'OKC',\n",
              "  'CLE',\n",
              "  'MIL',\n",
              "  'MIA',\n",
              "  'TOR',\n",
              "  'CHI',\n",
              "  'MEM',\n",
              "  'UTA',\n",
              "  'OKC',\n",
              "  'NOH',\n",
              "  'PHX',\n",
              "  'MIN',\n",
              "  'DET',\n",
              "  'BKN',\n",
              "  'BOS',\n",
              "  'CHA',\n",
              "  'MIA',\n",
              "  'PHX',\n",
              "  'LAC',\n",
              "  'BOS',\n",
              "  'POR',\n",
              "  'DAL',\n",
              "  'DEN',\n",
              "  'MIN',\n",
              "  'ATL',\n",
              "  'OKC',\n",
              "  'NOH',\n",
              "  'TOR',\n",
              "  'CHI',\n",
              "  'ORL',\n",
              "  'ATL',\n",
              "  'IND',\n",
              "  'WAS',\n",
              "  'GSW',\n",
              "  'MIN',\n",
              "  'MIL',\n",
              "  'SAC',\n",
              "  'DAL',\n",
              "  'MEM',\n",
              "  'LAC',\n",
              "  'NOH',\n",
              "  'POR',\n",
              "  'GSW',\n",
              "  'TOR',\n",
              "  'PHX',\n",
              "  'OKC',\n",
              "  'CHA',\n",
              "  'ATL',\n",
              "  'MEM',\n",
              "  'HOU',\n",
              "  'PHX',\n",
              "  'LAC',\n",
              "  'GSW',\n",
              "  'PHX',\n",
              "  'CHA',\n",
              "  'MEM',\n",
              "  'NOP',\n",
              "  'SAS',\n",
              "  'GSW',\n",
              "  'ATL',\n",
              "  'HOU',\n",
              "  'DAL',\n",
              "  'DEN',\n",
              "  'MEM',\n",
              "  'MIN',\n",
              "  'TOR',\n",
              "  'DET',\n",
              "  'WAS',\n",
              "  'BOS',\n",
              "  'NOP',\n",
              "  'SAC',\n",
              "  ...)]"
            ]
          },
          "metadata": {
            "tags": []
          },
          "execution_count": 105
        }
      ]
    },
    {
      "cell_type": "code",
      "metadata": {
        "id": "RK-pm12ebYby",
        "colab_type": "code",
        "colab": {
          "base_uri": "https://localhost:8080/",
          "height": 68
        },
        "outputId": "425f1852-9e8b-4f89-e48f-78e1f3839309"
      },
      "source": [
        "pd.Series(list(zip(df['game_id'],df['opponent']))).unique()"
      ],
      "execution_count": 110,
      "outputs": [
        {
          "output_type": "execute_result",
          "data": {
            "text/plain": [
              "array([(20000012, 'POR'), (20000019, 'UTA'), (20000047, 'VAN'), ...,\n",
              "       (49900086, 'IND'), (49900087, 'IND'), (49900088, 'IND')],\n",
              "      dtype=object)"
            ]
          },
          "metadata": {
            "tags": []
          },
          "execution_count": 110
        }
      ]
    }
  ]
}
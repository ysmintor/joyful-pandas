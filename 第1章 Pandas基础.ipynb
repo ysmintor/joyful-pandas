{
  "nbformat": 4,
  "nbformat_minor": 0,
  "metadata": {
    "kernelspec": {
      "display_name": "Python 3",
      "language": "python",
      "name": "python3"
    },
    "language_info": {
      "codemirror_mode": {
        "name": "ipython",
        "version": 3
      },
      "file_extension": ".py",
      "mimetype": "text/x-python",
      "name": "python",
      "nbconvert_exporter": "python",
      "pygments_lexer": "ipython3",
      "version": "3.7.6"
    },
    "colab": {
      "name": "第1章 Pandas基础.ipynb",
      "provenance": [],
      "toc_visible": true,
      "include_colab_link": true
    }
  },
  "cells": [
    {
      "cell_type": "markdown",
      "metadata": {
        "id": "view-in-github",
        "colab_type": "text"
      },
      "source": [
        "<a href=\"https://colab.research.google.com/github/ysmintor/joyful-pandas/blob/master/%E7%AC%AC1%E7%AB%A0%20Pandas%E5%9F%BA%E7%A1%80.ipynb\" target=\"_parent\"><img src=\"https://colab.research.google.com/assets/colab-badge.svg\" alt=\"Open In Colab\"/></a>"
      ]
    },
    {
      "cell_type": "code",
      "metadata": {
        "id": "Wcjg74KtSjDt",
        "colab_type": "code",
        "colab": {
          "base_uri": "https://localhost:8080/",
          "height": 122
        },
        "outputId": "be48cbbf-acf0-4732-81e8-5ef446b4c677"
      },
      "source": [
        "from google.colab import drive\n",
        "drive.mount('/content/drive')"
      ],
      "execution_count": 1,
      "outputs": [
        {
          "output_type": "stream",
          "text": [
            "Go to this URL in a browser: https://accounts.google.com/o/oauth2/auth?client_id=947318989803-6bn6qk8qdgf4n4g3pfee6491hc0brc4i.apps.googleusercontent.com&redirect_uri=urn%3aietf%3awg%3aoauth%3a2.0%3aoob&response_type=code&scope=email%20https%3a%2f%2fwww.googleapis.com%2fauth%2fdocs.test%20https%3a%2f%2fwww.googleapis.com%2fauth%2fdrive%20https%3a%2f%2fwww.googleapis.com%2fauth%2fdrive.photos.readonly%20https%3a%2f%2fwww.googleapis.com%2fauth%2fpeopleapi.readonly\n",
            "\n",
            "Enter your authorization code:\n",
            "··········\n",
            "Mounted at /content/drive\n"
          ],
          "name": "stdout"
        }
      ]
    },
    {
      "cell_type": "code",
      "metadata": {
        "id": "pN5588YeS5FE",
        "colab_type": "code",
        "colab": {
          "base_uri": "https://localhost:8080/",
          "height": 136
        },
        "outputId": "32fa2d4e-6a2d-454d-9aa3-31eb08772b64"
      },
      "source": [
        "!git clone https://github.com/ysmintor/joyful-pandas"
      ],
      "execution_count": 2,
      "outputs": [
        {
          "output_type": "stream",
          "text": [
            "Cloning into 'joyful-pandas'...\n",
            "remote: Enumerating objects: 124, done.\u001b[K\n",
            "remote: Counting objects: 100% (124/124), done.\u001b[K\n",
            "remote: Compressing objects: 100% (78/78), done.\u001b[K\n",
            "remote: Total 124 (delta 69), reused 101 (delta 46), pack-reused 0\u001b[K\n",
            "Receiving objects: 100% (124/124), 9.78 MiB | 17.19 MiB/s, done.\n",
            "Resolving deltas: 100% (69/69), done.\n"
          ],
          "name": "stdout"
        }
      ]
    },
    {
      "cell_type": "code",
      "metadata": {
        "id": "Pk4740BpTDCA",
        "colab_type": "code",
        "colab": {
          "base_uri": "https://localhost:8080/",
          "height": 34
        },
        "outputId": "3bb35adc-3489-409c-c50c-5619cad6e24c"
      },
      "source": [
        "import os\n",
        "os.getcwd()"
      ],
      "execution_count": 6,
      "outputs": [
        {
          "output_type": "execute_result",
          "data": {
            "text/plain": [
              "'/content'"
            ]
          },
          "metadata": {
            "tags": []
          },
          "execution_count": 6
        }
      ]
    },
    {
      "cell_type": "code",
      "metadata": {
        "id": "v2MUXhgQTZww",
        "colab_type": "code",
        "colab": {
          "base_uri": "https://localhost:8080/",
          "height": 34
        },
        "outputId": "24c4b83f-0d6d-41f8-b395-6a3b677c2106"
      },
      "source": [
        "os.chdir('/content/joyful-pandas')\n",
        "os.getcwd()"
      ],
      "execution_count": 10,
      "outputs": [
        {
          "output_type": "execute_result",
          "data": {
            "text/plain": [
              "'/content/joyful-pandas'"
            ]
          },
          "metadata": {
            "tags": []
          },
          "execution_count": 10
        }
      ]
    },
    {
      "cell_type": "markdown",
      "metadata": {
        "id": "fHnTfOAnSaO2",
        "colab_type": "text"
      },
      "source": [
        "# 第1章 Pandas基础"
      ]
    },
    {
      "cell_type": "code",
      "metadata": {
        "id": "buUvR9h6SaO3",
        "colab_type": "code",
        "colab": {}
      },
      "source": [
        "import pandas as pd\n",
        "import numpy as np"
      ],
      "execution_count": 0,
      "outputs": []
    },
    {
      "cell_type": "markdown",
      "metadata": {
        "id": "WD_FqCbDSaO7",
        "colab_type": "text"
      },
      "source": [
        "#### 查看Pandas版本"
      ]
    },
    {
      "cell_type": "code",
      "metadata": {
        "id": "M8Xu6QsISaO8",
        "colab_type": "code",
        "colab": {
          "base_uri": "https://localhost:8080/",
          "height": 34
        },
        "outputId": "79a63618-ccef-4873-d906-3e2c8c4892e0"
      },
      "source": [
        "pd.__version__"
      ],
      "execution_count": 12,
      "outputs": [
        {
          "output_type": "execute_result",
          "data": {
            "text/plain": [
              "'1.0.3'"
            ]
          },
          "metadata": {
            "tags": []
          },
          "execution_count": 12
        }
      ]
    },
    {
      "cell_type": "markdown",
      "metadata": {
        "id": "rNgGXHEfSaPA",
        "colab_type": "text"
      },
      "source": [
        "## 一、文件读取与写入\n",
        "### 1. 读取\n",
        "#### （a）csv格式"
      ]
    },
    {
      "cell_type": "code",
      "metadata": {
        "id": "LtKvWywsSaPA",
        "colab_type": "code",
        "colab": {
          "base_uri": "https://localhost:8080/",
          "height": 204
        },
        "outputId": "c5c67d39-fd6d-40aa-984a-24d6a827b260"
      },
      "source": [
        "df = pd.read_csv('data/table.csv')\n",
        "df.head()"
      ],
      "execution_count": 13,
      "outputs": [
        {
          "output_type": "execute_result",
          "data": {
            "text/html": [
              "<div>\n",
              "<style scoped>\n",
              "    .dataframe tbody tr th:only-of-type {\n",
              "        vertical-align: middle;\n",
              "    }\n",
              "\n",
              "    .dataframe tbody tr th {\n",
              "        vertical-align: top;\n",
              "    }\n",
              "\n",
              "    .dataframe thead th {\n",
              "        text-align: right;\n",
              "    }\n",
              "</style>\n",
              "<table border=\"1\" class=\"dataframe\">\n",
              "  <thead>\n",
              "    <tr style=\"text-align: right;\">\n",
              "      <th></th>\n",
              "      <th>School</th>\n",
              "      <th>Class</th>\n",
              "      <th>ID</th>\n",
              "      <th>Gender</th>\n",
              "      <th>Address</th>\n",
              "      <th>Height</th>\n",
              "      <th>Weight</th>\n",
              "      <th>Math</th>\n",
              "      <th>Physics</th>\n",
              "    </tr>\n",
              "  </thead>\n",
              "  <tbody>\n",
              "    <tr>\n",
              "      <th>0</th>\n",
              "      <td>S_1</td>\n",
              "      <td>C_1</td>\n",
              "      <td>1101</td>\n",
              "      <td>M</td>\n",
              "      <td>street_1</td>\n",
              "      <td>173</td>\n",
              "      <td>63</td>\n",
              "      <td>34.0</td>\n",
              "      <td>A+</td>\n",
              "    </tr>\n",
              "    <tr>\n",
              "      <th>1</th>\n",
              "      <td>S_1</td>\n",
              "      <td>C_1</td>\n",
              "      <td>1102</td>\n",
              "      <td>F</td>\n",
              "      <td>street_2</td>\n",
              "      <td>192</td>\n",
              "      <td>73</td>\n",
              "      <td>32.5</td>\n",
              "      <td>B+</td>\n",
              "    </tr>\n",
              "    <tr>\n",
              "      <th>2</th>\n",
              "      <td>S_1</td>\n",
              "      <td>C_1</td>\n",
              "      <td>1103</td>\n",
              "      <td>M</td>\n",
              "      <td>street_2</td>\n",
              "      <td>186</td>\n",
              "      <td>82</td>\n",
              "      <td>87.2</td>\n",
              "      <td>B+</td>\n",
              "    </tr>\n",
              "    <tr>\n",
              "      <th>3</th>\n",
              "      <td>S_1</td>\n",
              "      <td>C_1</td>\n",
              "      <td>1104</td>\n",
              "      <td>F</td>\n",
              "      <td>street_2</td>\n",
              "      <td>167</td>\n",
              "      <td>81</td>\n",
              "      <td>80.4</td>\n",
              "      <td>B-</td>\n",
              "    </tr>\n",
              "    <tr>\n",
              "      <th>4</th>\n",
              "      <td>S_1</td>\n",
              "      <td>C_1</td>\n",
              "      <td>1105</td>\n",
              "      <td>F</td>\n",
              "      <td>street_4</td>\n",
              "      <td>159</td>\n",
              "      <td>64</td>\n",
              "      <td>84.8</td>\n",
              "      <td>B+</td>\n",
              "    </tr>\n",
              "  </tbody>\n",
              "</table>\n",
              "</div>"
            ],
            "text/plain": [
              "  School Class    ID Gender   Address  Height  Weight  Math Physics\n",
              "0    S_1   C_1  1101      M  street_1     173      63  34.0      A+\n",
              "1    S_1   C_1  1102      F  street_2     192      73  32.5      B+\n",
              "2    S_1   C_1  1103      M  street_2     186      82  87.2      B+\n",
              "3    S_1   C_1  1104      F  street_2     167      81  80.4      B-\n",
              "4    S_1   C_1  1105      F  street_4     159      64  84.8      B+"
            ]
          },
          "metadata": {
            "tags": []
          },
          "execution_count": 13
        }
      ]
    },
    {
      "cell_type": "markdown",
      "metadata": {
        "id": "fZ8BueK5SaPD",
        "colab_type": "text"
      },
      "source": [
        "#### （b）txt格式"
      ]
    },
    {
      "cell_type": "code",
      "metadata": {
        "id": "gp2JLJPqSaPE",
        "colab_type": "code",
        "colab": {
          "base_uri": "https://localhost:8080/",
          "height": 173
        },
        "outputId": "eccae103-94fc-4831-8c59-c13b094c71a6"
      },
      "source": [
        "df_txt = pd.read_table('data/table.txt') #可设置sep分隔符参数\n",
        "df_txt"
      ],
      "execution_count": 14,
      "outputs": [
        {
          "output_type": "execute_result",
          "data": {
            "text/html": [
              "<div>\n",
              "<style scoped>\n",
              "    .dataframe tbody tr th:only-of-type {\n",
              "        vertical-align: middle;\n",
              "    }\n",
              "\n",
              "    .dataframe tbody tr th {\n",
              "        vertical-align: top;\n",
              "    }\n",
              "\n",
              "    .dataframe thead th {\n",
              "        text-align: right;\n",
              "    }\n",
              "</style>\n",
              "<table border=\"1\" class=\"dataframe\">\n",
              "  <thead>\n",
              "    <tr style=\"text-align: right;\">\n",
              "      <th></th>\n",
              "      <th>col1</th>\n",
              "      <th>col2</th>\n",
              "      <th>col3</th>\n",
              "      <th>col4</th>\n",
              "    </tr>\n",
              "  </thead>\n",
              "  <tbody>\n",
              "    <tr>\n",
              "      <th>0</th>\n",
              "      <td>2</td>\n",
              "      <td>a</td>\n",
              "      <td>1.4</td>\n",
              "      <td>apple</td>\n",
              "    </tr>\n",
              "    <tr>\n",
              "      <th>1</th>\n",
              "      <td>3</td>\n",
              "      <td>b</td>\n",
              "      <td>3.4</td>\n",
              "      <td>banana</td>\n",
              "    </tr>\n",
              "    <tr>\n",
              "      <th>2</th>\n",
              "      <td>6</td>\n",
              "      <td>c</td>\n",
              "      <td>2.5</td>\n",
              "      <td>orange</td>\n",
              "    </tr>\n",
              "    <tr>\n",
              "      <th>3</th>\n",
              "      <td>5</td>\n",
              "      <td>d</td>\n",
              "      <td>3.2</td>\n",
              "      <td>lemon</td>\n",
              "    </tr>\n",
              "  </tbody>\n",
              "</table>\n",
              "</div>"
            ],
            "text/plain": [
              "   col1 col2  col3    col4\n",
              "0     2    a   1.4   apple\n",
              "1     3    b   3.4  banana\n",
              "2     6    c   2.5  orange\n",
              "3     5    d   3.2   lemon"
            ]
          },
          "metadata": {
            "tags": []
          },
          "execution_count": 14
        }
      ]
    },
    {
      "cell_type": "markdown",
      "metadata": {
        "id": "9g9aIjmOSaPH",
        "colab_type": "text"
      },
      "source": [
        "#### （c）xls或xlsx格式"
      ]
    },
    {
      "cell_type": "code",
      "metadata": {
        "id": "lmZuuOjvSaPI",
        "colab_type": "code",
        "colab": {
          "base_uri": "https://localhost:8080/",
          "height": 204
        },
        "outputId": "f42278c1-e43d-4ec2-ff9f-2f47d2f7c513"
      },
      "source": [
        "#需要安装xlrd包\n",
        "df_excel = pd.read_excel('data/table.xlsx')\n",
        "df_excel.head()"
      ],
      "execution_count": 15,
      "outputs": [
        {
          "output_type": "execute_result",
          "data": {
            "text/html": [
              "<div>\n",
              "<style scoped>\n",
              "    .dataframe tbody tr th:only-of-type {\n",
              "        vertical-align: middle;\n",
              "    }\n",
              "\n",
              "    .dataframe tbody tr th {\n",
              "        vertical-align: top;\n",
              "    }\n",
              "\n",
              "    .dataframe thead th {\n",
              "        text-align: right;\n",
              "    }\n",
              "</style>\n",
              "<table border=\"1\" class=\"dataframe\">\n",
              "  <thead>\n",
              "    <tr style=\"text-align: right;\">\n",
              "      <th></th>\n",
              "      <th>School</th>\n",
              "      <th>Class</th>\n",
              "      <th>ID</th>\n",
              "      <th>Gender</th>\n",
              "      <th>Address</th>\n",
              "      <th>Height</th>\n",
              "      <th>Weight</th>\n",
              "      <th>Math</th>\n",
              "      <th>Physics</th>\n",
              "    </tr>\n",
              "  </thead>\n",
              "  <tbody>\n",
              "    <tr>\n",
              "      <th>0</th>\n",
              "      <td>S_1</td>\n",
              "      <td>C_1</td>\n",
              "      <td>1101</td>\n",
              "      <td>M</td>\n",
              "      <td>street_1</td>\n",
              "      <td>173</td>\n",
              "      <td>63</td>\n",
              "      <td>34.0</td>\n",
              "      <td>A+</td>\n",
              "    </tr>\n",
              "    <tr>\n",
              "      <th>1</th>\n",
              "      <td>S_1</td>\n",
              "      <td>C_1</td>\n",
              "      <td>1102</td>\n",
              "      <td>F</td>\n",
              "      <td>street_2</td>\n",
              "      <td>192</td>\n",
              "      <td>73</td>\n",
              "      <td>32.5</td>\n",
              "      <td>B+</td>\n",
              "    </tr>\n",
              "    <tr>\n",
              "      <th>2</th>\n",
              "      <td>S_1</td>\n",
              "      <td>C_1</td>\n",
              "      <td>1103</td>\n",
              "      <td>M</td>\n",
              "      <td>street_2</td>\n",
              "      <td>186</td>\n",
              "      <td>82</td>\n",
              "      <td>87.2</td>\n",
              "      <td>B+</td>\n",
              "    </tr>\n",
              "    <tr>\n",
              "      <th>3</th>\n",
              "      <td>S_1</td>\n",
              "      <td>C_1</td>\n",
              "      <td>1104</td>\n",
              "      <td>F</td>\n",
              "      <td>street_2</td>\n",
              "      <td>167</td>\n",
              "      <td>81</td>\n",
              "      <td>80.4</td>\n",
              "      <td>B-</td>\n",
              "    </tr>\n",
              "    <tr>\n",
              "      <th>4</th>\n",
              "      <td>S_1</td>\n",
              "      <td>C_1</td>\n",
              "      <td>1105</td>\n",
              "      <td>F</td>\n",
              "      <td>street_4</td>\n",
              "      <td>159</td>\n",
              "      <td>64</td>\n",
              "      <td>84.8</td>\n",
              "      <td>B+</td>\n",
              "    </tr>\n",
              "  </tbody>\n",
              "</table>\n",
              "</div>"
            ],
            "text/plain": [
              "  School Class    ID Gender   Address  Height  Weight  Math Physics\n",
              "0    S_1   C_1  1101      M  street_1     173      63  34.0      A+\n",
              "1    S_1   C_1  1102      F  street_2     192      73  32.5      B+\n",
              "2    S_1   C_1  1103      M  street_2     186      82  87.2      B+\n",
              "3    S_1   C_1  1104      F  street_2     167      81  80.4      B-\n",
              "4    S_1   C_1  1105      F  street_4     159      64  84.8      B+"
            ]
          },
          "metadata": {
            "tags": []
          },
          "execution_count": 15
        }
      ]
    },
    {
      "cell_type": "markdown",
      "metadata": {
        "id": "0Hu7M8yHSaPK",
        "colab_type": "text"
      },
      "source": [
        "### 2. 写入"
      ]
    },
    {
      "cell_type": "markdown",
      "metadata": {
        "id": "ruqoJU8JSaPL",
        "colab_type": "text"
      },
      "source": [
        "#### （a）csv格式"
      ]
    },
    {
      "cell_type": "code",
      "metadata": {
        "id": "DQOIjv6bSaPL",
        "colab_type": "code",
        "colab": {}
      },
      "source": [
        "df.to_csv('data/new_table.csv')\n",
        "#df.to_csv('data/new_table.csv', index=False) #保存时除去行索引"
      ],
      "execution_count": 0,
      "outputs": []
    },
    {
      "cell_type": "markdown",
      "metadata": {
        "id": "raImmAB1SaPO",
        "colab_type": "text"
      },
      "source": [
        "#### （b）xls或xlsx格式"
      ]
    },
    {
      "cell_type": "code",
      "metadata": {
        "id": "Uk4BiQ5DSaPP",
        "colab_type": "code",
        "colab": {}
      },
      "source": [
        "#需要安装openpyxl\n",
        "df.to_excel('data/new_table2.xlsx', sheet_name='Sheet1')"
      ],
      "execution_count": 0,
      "outputs": []
    },
    {
      "cell_type": "markdown",
      "metadata": {
        "id": "u99gDavISaPR",
        "colab_type": "text"
      },
      "source": [
        "## 二、基本数据结构\n",
        "### 1. Series\n",
        "#### （a）创建一个Series"
      ]
    },
    {
      "cell_type": "markdown",
      "metadata": {
        "id": "2hMp2cypSaPS",
        "colab_type": "text"
      },
      "source": [
        "#### 对于一个Series，其中最常用的属性为值（values），索引（index），名字（name），类型（dtype）"
      ]
    },
    {
      "cell_type": "code",
      "metadata": {
        "id": "5gZypGQkSaPS",
        "colab_type": "code",
        "colab": {
          "base_uri": "https://localhost:8080/",
          "height": 119
        },
        "outputId": "e7e2a407-eb60-40b5-c2b0-3dafe5bd99b2"
      },
      "source": [
        "s = pd.Series(np.random.randn(5),index=['a','b','c','d','e'],name='这是一个Series',dtype='float64')\n",
        "s"
      ],
      "execution_count": 18,
      "outputs": [
        {
          "output_type": "execute_result",
          "data": {
            "text/plain": [
              "a   -0.454444\n",
              "b    0.257382\n",
              "c    0.225986\n",
              "d    0.899770\n",
              "e    1.454453\n",
              "Name: 这是一个Series, dtype: float64"
            ]
          },
          "metadata": {
            "tags": []
          },
          "execution_count": 18
        }
      ]
    },
    {
      "cell_type": "markdown",
      "metadata": {
        "id": "yuvK0Up-SaPV",
        "colab_type": "text"
      },
      "source": [
        "#### （b）访问Series属性"
      ]
    },
    {
      "cell_type": "code",
      "metadata": {
        "id": "UR_esUOTSaPV",
        "colab_type": "code",
        "colab": {
          "base_uri": "https://localhost:8080/",
          "height": 34
        },
        "outputId": "692c33e8-f055-4b5a-8735-fde34030b96a"
      },
      "source": [
        "s.values"
      ],
      "execution_count": 19,
      "outputs": [
        {
          "output_type": "execute_result",
          "data": {
            "text/plain": [
              "array([-0.4544439 ,  0.25738219,  0.22598646,  0.89976968,  1.45445267])"
            ]
          },
          "metadata": {
            "tags": []
          },
          "execution_count": 19
        }
      ]
    },
    {
      "cell_type": "code",
      "metadata": {
        "id": "EU2wo25XSaPY",
        "colab_type": "code",
        "colab": {
          "base_uri": "https://localhost:8080/",
          "height": 34
        },
        "outputId": "eb4907bd-6f4b-4b30-ccdd-6fee9180d697"
      },
      "source": [
        "s.name"
      ],
      "execution_count": 20,
      "outputs": [
        {
          "output_type": "execute_result",
          "data": {
            "text/plain": [
              "'这是一个Series'"
            ]
          },
          "metadata": {
            "tags": []
          },
          "execution_count": 20
        }
      ]
    },
    {
      "cell_type": "code",
      "metadata": {
        "id": "OHJfrbyWSaPb",
        "colab_type": "code",
        "colab": {
          "base_uri": "https://localhost:8080/",
          "height": 34
        },
        "outputId": "efd9a8e1-0436-4060-bf8a-d306c1528e06"
      },
      "source": [
        "s.index"
      ],
      "execution_count": 21,
      "outputs": [
        {
          "output_type": "execute_result",
          "data": {
            "text/plain": [
              "Index(['a', 'b', 'c', 'd', 'e'], dtype='object')"
            ]
          },
          "metadata": {
            "tags": []
          },
          "execution_count": 21
        }
      ]
    },
    {
      "cell_type": "code",
      "metadata": {
        "id": "_vtOr4fuSaPd",
        "colab_type": "code",
        "colab": {
          "base_uri": "https://localhost:8080/",
          "height": 34
        },
        "outputId": "f6d8e03f-a93e-4f8d-8e8b-d79360aeaf5d"
      },
      "source": [
        "s.dtype"
      ],
      "execution_count": 22,
      "outputs": [
        {
          "output_type": "execute_result",
          "data": {
            "text/plain": [
              "dtype('float64')"
            ]
          },
          "metadata": {
            "tags": []
          },
          "execution_count": 22
        }
      ]
    },
    {
      "cell_type": "markdown",
      "metadata": {
        "id": "852wQStwSaPf",
        "colab_type": "text"
      },
      "source": [
        "#### （c）取出某一个元素\n",
        "#### 将在第2章详细讨论索引的应用，这里先大致了解"
      ]
    },
    {
      "cell_type": "code",
      "metadata": {
        "id": "4uMv0L0fSaPf",
        "colab_type": "code",
        "colab": {
          "base_uri": "https://localhost:8080/",
          "height": 34
        },
        "outputId": "6f4b0628-df7a-4ade-c440-423f96b567b7"
      },
      "source": [
        "s['a']"
      ],
      "execution_count": 23,
      "outputs": [
        {
          "output_type": "execute_result",
          "data": {
            "text/plain": [
              "-0.45444390417842023"
            ]
          },
          "metadata": {
            "tags": []
          },
          "execution_count": 23
        }
      ]
    },
    {
      "cell_type": "markdown",
      "metadata": {
        "id": "QWo96IZqSaPh",
        "colab_type": "text"
      },
      "source": [
        "#### （d）调用方法"
      ]
    },
    {
      "cell_type": "code",
      "metadata": {
        "id": "xGkYs8CFSaPi",
        "colab_type": "code",
        "colab": {
          "base_uri": "https://localhost:8080/",
          "height": 34
        },
        "outputId": "9663610e-4b84-4db9-dcaa-22afb7f54e3b"
      },
      "source": [
        "s.mean()"
      ],
      "execution_count": 24,
      "outputs": [
        {
          "output_type": "execute_result",
          "data": {
            "text/plain": [
              "0.476629419747353"
            ]
          },
          "metadata": {
            "tags": []
          },
          "execution_count": 24
        }
      ]
    },
    {
      "cell_type": "markdown",
      "metadata": {
        "id": "3EynEb2qSaPk",
        "colab_type": "text"
      },
      "source": [
        "#### Series有相当多的方法可以调用："
      ]
    },
    {
      "cell_type": "code",
      "metadata": {
        "id": "icXMfRe3SaPl",
        "colab_type": "code",
        "colab": {
          "base_uri": "https://localhost:8080/",
          "height": 54
        },
        "outputId": "b41f82b3-48c7-4aa7-9c5f-5446863773ad"
      },
      "source": [
        "print([attr for attr in dir(s) if not attr.startswith('_')])"
      ],
      "execution_count": 25,
      "outputs": [
        {
          "output_type": "stream",
          "text": [
            "['T', 'a', 'abs', 'add', 'add_prefix', 'add_suffix', 'agg', 'aggregate', 'align', 'all', 'any', 'append', 'apply', 'argmax', 'argmin', 'argsort', 'array', 'asfreq', 'asof', 'astype', 'at', 'at_time', 'attrs', 'autocorr', 'axes', 'b', 'between', 'between_time', 'bfill', 'bool', 'c', 'clip', 'combine', 'combine_first', 'convert_dtypes', 'copy', 'corr', 'count', 'cov', 'cummax', 'cummin', 'cumprod', 'cumsum', 'd', 'describe', 'diff', 'div', 'divide', 'divmod', 'dot', 'drop', 'drop_duplicates', 'droplevel', 'dropna', 'dtype', 'dtypes', 'duplicated', 'e', 'empty', 'eq', 'equals', 'ewm', 'expanding', 'explode', 'factorize', 'ffill', 'fillna', 'filter', 'first', 'first_valid_index', 'floordiv', 'ge', 'get', 'groupby', 'gt', 'hasnans', 'head', 'hist', 'iat', 'idxmax', 'idxmin', 'iloc', 'index', 'infer_objects', 'interpolate', 'is_monotonic', 'is_monotonic_decreasing', 'is_monotonic_increasing', 'is_unique', 'isin', 'isna', 'isnull', 'item', 'items', 'iteritems', 'keys', 'kurt', 'kurtosis', 'last', 'last_valid_index', 'le', 'loc', 'lt', 'mad', 'map', 'mask', 'max', 'mean', 'median', 'memory_usage', 'min', 'mod', 'mode', 'mul', 'multiply', 'name', 'nbytes', 'ndim', 'ne', 'nlargest', 'notna', 'notnull', 'nsmallest', 'nunique', 'pct_change', 'pipe', 'plot', 'pop', 'pow', 'prod', 'product', 'quantile', 'radd', 'rank', 'ravel', 'rdiv', 'rdivmod', 'reindex', 'reindex_like', 'rename', 'rename_axis', 'reorder_levels', 'repeat', 'replace', 'resample', 'reset_index', 'rfloordiv', 'rmod', 'rmul', 'rolling', 'round', 'rpow', 'rsub', 'rtruediv', 'sample', 'searchsorted', 'sem', 'set_axis', 'shape', 'shift', 'size', 'skew', 'slice_shift', 'sort_index', 'sort_values', 'squeeze', 'std', 'sub', 'subtract', 'sum', 'swapaxes', 'swaplevel', 'tail', 'take', 'to_clipboard', 'to_csv', 'to_dict', 'to_excel', 'to_frame', 'to_hdf', 'to_json', 'to_latex', 'to_list', 'to_markdown', 'to_numpy', 'to_period', 'to_pickle', 'to_sql', 'to_string', 'to_timestamp', 'to_xarray', 'transform', 'transpose', 'truediv', 'truncate', 'tshift', 'tz_convert', 'tz_localize', 'unique', 'unstack', 'update', 'value_counts', 'values', 'var', 'view', 'where', 'xs']\n"
          ],
          "name": "stdout"
        }
      ]
    },
    {
      "cell_type": "markdown",
      "metadata": {
        "id": "463dgOsDSaPn",
        "colab_type": "text"
      },
      "source": [
        "### 2. DataFrame\n",
        "#### （a）创建一个DataFrame"
      ]
    },
    {
      "cell_type": "code",
      "metadata": {
        "id": "SmzmsNaySaPn",
        "colab_type": "code",
        "colab": {
          "base_uri": "https://localhost:8080/",
          "height": 204
        },
        "outputId": "614625cf-1e03-4a12-91fc-dc58b87a7f64"
      },
      "source": [
        "df = pd.DataFrame({'col1':list('abcde'),'col2':range(5,10),'col3':[1.3,2.5,3.6,4.6,5.8]},\n",
        "                 index=list('一二三四五'))\n",
        "df"
      ],
      "execution_count": 26,
      "outputs": [
        {
          "output_type": "execute_result",
          "data": {
            "text/html": [
              "<div>\n",
              "<style scoped>\n",
              "    .dataframe tbody tr th:only-of-type {\n",
              "        vertical-align: middle;\n",
              "    }\n",
              "\n",
              "    .dataframe tbody tr th {\n",
              "        vertical-align: top;\n",
              "    }\n",
              "\n",
              "    .dataframe thead th {\n",
              "        text-align: right;\n",
              "    }\n",
              "</style>\n",
              "<table border=\"1\" class=\"dataframe\">\n",
              "  <thead>\n",
              "    <tr style=\"text-align: right;\">\n",
              "      <th></th>\n",
              "      <th>col1</th>\n",
              "      <th>col2</th>\n",
              "      <th>col3</th>\n",
              "    </tr>\n",
              "  </thead>\n",
              "  <tbody>\n",
              "    <tr>\n",
              "      <th>一</th>\n",
              "      <td>a</td>\n",
              "      <td>5</td>\n",
              "      <td>1.3</td>\n",
              "    </tr>\n",
              "    <tr>\n",
              "      <th>二</th>\n",
              "      <td>b</td>\n",
              "      <td>6</td>\n",
              "      <td>2.5</td>\n",
              "    </tr>\n",
              "    <tr>\n",
              "      <th>三</th>\n",
              "      <td>c</td>\n",
              "      <td>7</td>\n",
              "      <td>3.6</td>\n",
              "    </tr>\n",
              "    <tr>\n",
              "      <th>四</th>\n",
              "      <td>d</td>\n",
              "      <td>8</td>\n",
              "      <td>4.6</td>\n",
              "    </tr>\n",
              "    <tr>\n",
              "      <th>五</th>\n",
              "      <td>e</td>\n",
              "      <td>9</td>\n",
              "      <td>5.8</td>\n",
              "    </tr>\n",
              "  </tbody>\n",
              "</table>\n",
              "</div>"
            ],
            "text/plain": [
              "  col1  col2  col3\n",
              "一    a     5   1.3\n",
              "二    b     6   2.5\n",
              "三    c     7   3.6\n",
              "四    d     8   4.6\n",
              "五    e     9   5.8"
            ]
          },
          "metadata": {
            "tags": []
          },
          "execution_count": 26
        }
      ]
    },
    {
      "cell_type": "markdown",
      "metadata": {
        "id": "VXdyAjCOSaPq",
        "colab_type": "text"
      },
      "source": [
        "#### （b）从DataFrame取出一列为Series"
      ]
    },
    {
      "cell_type": "code",
      "metadata": {
        "id": "gYIbhGMWSaPq",
        "colab_type": "code",
        "colab": {
          "base_uri": "https://localhost:8080/",
          "height": 119
        },
        "outputId": "fa6a78f6-316a-487b-bd89-2b6ff6024407"
      },
      "source": [
        "df['col1']"
      ],
      "execution_count": 27,
      "outputs": [
        {
          "output_type": "execute_result",
          "data": {
            "text/plain": [
              "一    a\n",
              "二    b\n",
              "三    c\n",
              "四    d\n",
              "五    e\n",
              "Name: col1, dtype: object"
            ]
          },
          "metadata": {
            "tags": []
          },
          "execution_count": 27
        }
      ]
    },
    {
      "cell_type": "code",
      "metadata": {
        "id": "PW_VobXASaPs",
        "colab_type": "code",
        "colab": {
          "base_uri": "https://localhost:8080/",
          "height": 34
        },
        "outputId": "04989bce-3d1f-4b8b-8131-ea5b93914c87"
      },
      "source": [
        "type(df)"
      ],
      "execution_count": 28,
      "outputs": [
        {
          "output_type": "execute_result",
          "data": {
            "text/plain": [
              "pandas.core.frame.DataFrame"
            ]
          },
          "metadata": {
            "tags": []
          },
          "execution_count": 28
        }
      ]
    },
    {
      "cell_type": "code",
      "metadata": {
        "id": "41VaOPJUSaPu",
        "colab_type": "code",
        "colab": {
          "base_uri": "https://localhost:8080/",
          "height": 34
        },
        "outputId": "458d42ea-f1e3-45de-fd72-b187973d397a"
      },
      "source": [
        "type(df['col1'])"
      ],
      "execution_count": 29,
      "outputs": [
        {
          "output_type": "execute_result",
          "data": {
            "text/plain": [
              "pandas.core.series.Series"
            ]
          },
          "metadata": {
            "tags": []
          },
          "execution_count": 29
        }
      ]
    },
    {
      "cell_type": "markdown",
      "metadata": {
        "id": "zETttsvlSaPv",
        "colab_type": "text"
      },
      "source": [
        "#### （c）修改行或列名"
      ]
    },
    {
      "cell_type": "code",
      "metadata": {
        "id": "_22fhTwPSaPw",
        "colab_type": "code",
        "colab": {
          "base_uri": "https://localhost:8080/",
          "height": 204
        },
        "outputId": "689c81a9-0f7c-4436-9c5f-b7473b722d7e"
      },
      "source": [
        "df.rename(index={'一':'one'},columns={'col1':'new_col1'})"
      ],
      "execution_count": 31,
      "outputs": [
        {
          "output_type": "execute_result",
          "data": {
            "text/html": [
              "<div>\n",
              "<style scoped>\n",
              "    .dataframe tbody tr th:only-of-type {\n",
              "        vertical-align: middle;\n",
              "    }\n",
              "\n",
              "    .dataframe tbody tr th {\n",
              "        vertical-align: top;\n",
              "    }\n",
              "\n",
              "    .dataframe thead th {\n",
              "        text-align: right;\n",
              "    }\n",
              "</style>\n",
              "<table border=\"1\" class=\"dataframe\">\n",
              "  <thead>\n",
              "    <tr style=\"text-align: right;\">\n",
              "      <th></th>\n",
              "      <th>new_col1</th>\n",
              "      <th>col2</th>\n",
              "      <th>col3</th>\n",
              "    </tr>\n",
              "  </thead>\n",
              "  <tbody>\n",
              "    <tr>\n",
              "      <th>one</th>\n",
              "      <td>a</td>\n",
              "      <td>5</td>\n",
              "      <td>1.3</td>\n",
              "    </tr>\n",
              "    <tr>\n",
              "      <th>二</th>\n",
              "      <td>b</td>\n",
              "      <td>6</td>\n",
              "      <td>2.5</td>\n",
              "    </tr>\n",
              "    <tr>\n",
              "      <th>三</th>\n",
              "      <td>c</td>\n",
              "      <td>7</td>\n",
              "      <td>3.6</td>\n",
              "    </tr>\n",
              "    <tr>\n",
              "      <th>四</th>\n",
              "      <td>d</td>\n",
              "      <td>8</td>\n",
              "      <td>4.6</td>\n",
              "    </tr>\n",
              "    <tr>\n",
              "      <th>五</th>\n",
              "      <td>e</td>\n",
              "      <td>9</td>\n",
              "      <td>5.8</td>\n",
              "    </tr>\n",
              "  </tbody>\n",
              "</table>\n",
              "</div>"
            ],
            "text/plain": [
              "    new_col1  col2  col3\n",
              "one        a     5   1.3\n",
              "二          b     6   2.5\n",
              "三          c     7   3.6\n",
              "四          d     8   4.6\n",
              "五          e     9   5.8"
            ]
          },
          "metadata": {
            "tags": []
          },
          "execution_count": 31
        }
      ]
    },
    {
      "cell_type": "markdown",
      "metadata": {
        "id": "w3FR7zgnSaPy",
        "colab_type": "text"
      },
      "source": [
        "#### （d）调用属性和方法"
      ]
    },
    {
      "cell_type": "code",
      "metadata": {
        "id": "FHz0EwzWSaPy",
        "colab_type": "code",
        "colab": {
          "base_uri": "https://localhost:8080/",
          "height": 34
        },
        "outputId": "71ecc2fe-bf1f-46ba-adab-7694a8a82dd3"
      },
      "source": [
        "df.index"
      ],
      "execution_count": 32,
      "outputs": [
        {
          "output_type": "execute_result",
          "data": {
            "text/plain": [
              "Index(['一', '二', '三', '四', '五'], dtype='object')"
            ]
          },
          "metadata": {
            "tags": []
          },
          "execution_count": 32
        }
      ]
    },
    {
      "cell_type": "code",
      "metadata": {
        "id": "PZn6rqpKSaP0",
        "colab_type": "code",
        "colab": {
          "base_uri": "https://localhost:8080/",
          "height": 34
        },
        "outputId": "efcbae9e-ad83-4954-a8b1-c1572b1936e2"
      },
      "source": [
        "df.columns"
      ],
      "execution_count": 33,
      "outputs": [
        {
          "output_type": "execute_result",
          "data": {
            "text/plain": [
              "Index(['col1', 'col2', 'col3'], dtype='object')"
            ]
          },
          "metadata": {
            "tags": []
          },
          "execution_count": 33
        }
      ]
    },
    {
      "cell_type": "code",
      "metadata": {
        "id": "In36XWCTSaP1",
        "colab_type": "code",
        "colab": {
          "base_uri": "https://localhost:8080/",
          "height": 102
        },
        "outputId": "7d85b3c7-888c-4966-cc84-4052ccc20807"
      },
      "source": [
        "df.values"
      ],
      "execution_count": 34,
      "outputs": [
        {
          "output_type": "execute_result",
          "data": {
            "text/plain": [
              "array([['a', 5, 1.3],\n",
              "       ['b', 6, 2.5],\n",
              "       ['c', 7, 3.6],\n",
              "       ['d', 8, 4.6],\n",
              "       ['e', 9, 5.8]], dtype=object)"
            ]
          },
          "metadata": {
            "tags": []
          },
          "execution_count": 34
        }
      ]
    },
    {
      "cell_type": "code",
      "metadata": {
        "id": "zx8T20GGSaP3",
        "colab_type": "code",
        "colab": {
          "base_uri": "https://localhost:8080/",
          "height": 34
        },
        "outputId": "dc23432b-3cb2-42c0-d1de-de211a95812c"
      },
      "source": [
        "df.shape"
      ],
      "execution_count": 35,
      "outputs": [
        {
          "output_type": "execute_result",
          "data": {
            "text/plain": [
              "(5, 3)"
            ]
          },
          "metadata": {
            "tags": []
          },
          "execution_count": 35
        }
      ]
    },
    {
      "cell_type": "code",
      "metadata": {
        "id": "smeKfJ9jSaP4",
        "colab_type": "code",
        "colab": {
          "base_uri": "https://localhost:8080/",
          "height": 68
        },
        "outputId": "9a6de238-f476-4f6a-f60a-40c9583413b2"
      },
      "source": [
        "df.mean() #本质上是一种Aggregation操作，将在第3章详细介绍"
      ],
      "execution_count": 36,
      "outputs": [
        {
          "output_type": "execute_result",
          "data": {
            "text/plain": [
              "col2    7.00\n",
              "col3    3.56\n",
              "dtype: float64"
            ]
          },
          "metadata": {
            "tags": []
          },
          "execution_count": 36
        }
      ]
    },
    {
      "cell_type": "markdown",
      "metadata": {
        "id": "UVK6WlJCSaP6",
        "colab_type": "text"
      },
      "source": [
        "#### （e）索引对齐特性\n",
        "#### 这是Pandas中非常强大的特性，不理解这一特性有时就会造成一些麻烦"
      ]
    },
    {
      "cell_type": "code",
      "metadata": {
        "id": "t_5zAbKWSaP7",
        "colab_type": "code",
        "colab": {
          "base_uri": "https://localhost:8080/",
          "height": 142
        },
        "outputId": "c39ed1b2-8c58-45ea-ec8a-d334cc1c8dc7"
      },
      "source": [
        "df1 = pd.DataFrame({'A':[1,2,3]},index=[1,2,3])\n",
        "df2 = pd.DataFrame({'A':[1,2,3]},index=[3,1,2])\n",
        "df1-df2 #由于索引对齐，因此结果不是0"
      ],
      "execution_count": 37,
      "outputs": [
        {
          "output_type": "execute_result",
          "data": {
            "text/html": [
              "<div>\n",
              "<style scoped>\n",
              "    .dataframe tbody tr th:only-of-type {\n",
              "        vertical-align: middle;\n",
              "    }\n",
              "\n",
              "    .dataframe tbody tr th {\n",
              "        vertical-align: top;\n",
              "    }\n",
              "\n",
              "    .dataframe thead th {\n",
              "        text-align: right;\n",
              "    }\n",
              "</style>\n",
              "<table border=\"1\" class=\"dataframe\">\n",
              "  <thead>\n",
              "    <tr style=\"text-align: right;\">\n",
              "      <th></th>\n",
              "      <th>A</th>\n",
              "    </tr>\n",
              "  </thead>\n",
              "  <tbody>\n",
              "    <tr>\n",
              "      <th>1</th>\n",
              "      <td>-1</td>\n",
              "    </tr>\n",
              "    <tr>\n",
              "      <th>2</th>\n",
              "      <td>-1</td>\n",
              "    </tr>\n",
              "    <tr>\n",
              "      <th>3</th>\n",
              "      <td>2</td>\n",
              "    </tr>\n",
              "  </tbody>\n",
              "</table>\n",
              "</div>"
            ],
            "text/plain": [
              "   A\n",
              "1 -1\n",
              "2 -1\n",
              "3  2"
            ]
          },
          "metadata": {
            "tags": []
          },
          "execution_count": 37
        }
      ]
    },
    {
      "cell_type": "markdown",
      "metadata": {
        "id": "qsvDbu2tSaP9",
        "colab_type": "text"
      },
      "source": [
        "#### （f）列的删除与添加\n",
        "#### 对于删除而言，可以使用drop函数或del或pop"
      ]
    },
    {
      "cell_type": "code",
      "metadata": {
        "id": "5FMvDtGVSaP9",
        "colab_type": "code",
        "colab": {
          "base_uri": "https://localhost:8080/",
          "height": 173
        },
        "outputId": "8f61adce-deda-437a-994a-6027468b4588"
      },
      "source": [
        "df.drop(index='五',columns='col1') #设置inplace=True后会直接在原DataFrame中改动"
      ],
      "execution_count": 38,
      "outputs": [
        {
          "output_type": "execute_result",
          "data": {
            "text/html": [
              "<div>\n",
              "<style scoped>\n",
              "    .dataframe tbody tr th:only-of-type {\n",
              "        vertical-align: middle;\n",
              "    }\n",
              "\n",
              "    .dataframe tbody tr th {\n",
              "        vertical-align: top;\n",
              "    }\n",
              "\n",
              "    .dataframe thead th {\n",
              "        text-align: right;\n",
              "    }\n",
              "</style>\n",
              "<table border=\"1\" class=\"dataframe\">\n",
              "  <thead>\n",
              "    <tr style=\"text-align: right;\">\n",
              "      <th></th>\n",
              "      <th>col2</th>\n",
              "      <th>col3</th>\n",
              "    </tr>\n",
              "  </thead>\n",
              "  <tbody>\n",
              "    <tr>\n",
              "      <th>一</th>\n",
              "      <td>5</td>\n",
              "      <td>1.3</td>\n",
              "    </tr>\n",
              "    <tr>\n",
              "      <th>二</th>\n",
              "      <td>6</td>\n",
              "      <td>2.5</td>\n",
              "    </tr>\n",
              "    <tr>\n",
              "      <th>三</th>\n",
              "      <td>7</td>\n",
              "      <td>3.6</td>\n",
              "    </tr>\n",
              "    <tr>\n",
              "      <th>四</th>\n",
              "      <td>8</td>\n",
              "      <td>4.6</td>\n",
              "    </tr>\n",
              "  </tbody>\n",
              "</table>\n",
              "</div>"
            ],
            "text/plain": [
              "   col2  col3\n",
              "一     5   1.3\n",
              "二     6   2.5\n",
              "三     7   3.6\n",
              "四     8   4.6"
            ]
          },
          "metadata": {
            "tags": []
          },
          "execution_count": 38
        }
      ]
    },
    {
      "cell_type": "code",
      "metadata": {
        "id": "tYvvEWYhSaQB",
        "colab_type": "code",
        "colab": {
          "base_uri": "https://localhost:8080/",
          "height": 204
        },
        "outputId": "c84e46f4-e5aa-4f16-bf0c-b94a18dd70d0"
      },
      "source": [
        "df['col1']=[1,2,3,4,5]\n",
        "del df['col1']\n",
        "df"
      ],
      "execution_count": 39,
      "outputs": [
        {
          "output_type": "execute_result",
          "data": {
            "text/html": [
              "<div>\n",
              "<style scoped>\n",
              "    .dataframe tbody tr th:only-of-type {\n",
              "        vertical-align: middle;\n",
              "    }\n",
              "\n",
              "    .dataframe tbody tr th {\n",
              "        vertical-align: top;\n",
              "    }\n",
              "\n",
              "    .dataframe thead th {\n",
              "        text-align: right;\n",
              "    }\n",
              "</style>\n",
              "<table border=\"1\" class=\"dataframe\">\n",
              "  <thead>\n",
              "    <tr style=\"text-align: right;\">\n",
              "      <th></th>\n",
              "      <th>col2</th>\n",
              "      <th>col3</th>\n",
              "    </tr>\n",
              "  </thead>\n",
              "  <tbody>\n",
              "    <tr>\n",
              "      <th>一</th>\n",
              "      <td>5</td>\n",
              "      <td>1.3</td>\n",
              "    </tr>\n",
              "    <tr>\n",
              "      <th>二</th>\n",
              "      <td>6</td>\n",
              "      <td>2.5</td>\n",
              "    </tr>\n",
              "    <tr>\n",
              "      <th>三</th>\n",
              "      <td>7</td>\n",
              "      <td>3.6</td>\n",
              "    </tr>\n",
              "    <tr>\n",
              "      <th>四</th>\n",
              "      <td>8</td>\n",
              "      <td>4.6</td>\n",
              "    </tr>\n",
              "    <tr>\n",
              "      <th>五</th>\n",
              "      <td>9</td>\n",
              "      <td>5.8</td>\n",
              "    </tr>\n",
              "  </tbody>\n",
              "</table>\n",
              "</div>"
            ],
            "text/plain": [
              "   col2  col3\n",
              "一     5   1.3\n",
              "二     6   2.5\n",
              "三     7   3.6\n",
              "四     8   4.6\n",
              "五     9   5.8"
            ]
          },
          "metadata": {
            "tags": []
          },
          "execution_count": 39
        }
      ]
    },
    {
      "cell_type": "markdown",
      "metadata": {
        "id": "nUrzWrZgSaQD",
        "colab_type": "text"
      },
      "source": [
        "#### pop方法直接在原来的DataFrame上操作，且返回被删除的列，与python中的pop函数类似"
      ]
    },
    {
      "cell_type": "code",
      "metadata": {
        "id": "e6ldbzKiSaQD",
        "colab_type": "code",
        "colab": {
          "base_uri": "https://localhost:8080/",
          "height": 119
        },
        "outputId": "1a0ece71-d446-4617-bab7-d8cb6324abef"
      },
      "source": [
        "df['col1']=[1,2,3,4,5]\n",
        "df.pop('col1')"
      ],
      "execution_count": 40,
      "outputs": [
        {
          "output_type": "execute_result",
          "data": {
            "text/plain": [
              "一    1\n",
              "二    2\n",
              "三    3\n",
              "四    4\n",
              "五    5\n",
              "Name: col1, dtype: int64"
            ]
          },
          "metadata": {
            "tags": []
          },
          "execution_count": 40
        }
      ]
    },
    {
      "cell_type": "code",
      "metadata": {
        "id": "nxJMQrmSSaQF",
        "colab_type": "code",
        "colab": {
          "base_uri": "https://localhost:8080/",
          "height": 204
        },
        "outputId": "1dd1442a-aff2-4e46-ec4a-aff07c30a348"
      },
      "source": [
        "df"
      ],
      "execution_count": 41,
      "outputs": [
        {
          "output_type": "execute_result",
          "data": {
            "text/html": [
              "<div>\n",
              "<style scoped>\n",
              "    .dataframe tbody tr th:only-of-type {\n",
              "        vertical-align: middle;\n",
              "    }\n",
              "\n",
              "    .dataframe tbody tr th {\n",
              "        vertical-align: top;\n",
              "    }\n",
              "\n",
              "    .dataframe thead th {\n",
              "        text-align: right;\n",
              "    }\n",
              "</style>\n",
              "<table border=\"1\" class=\"dataframe\">\n",
              "  <thead>\n",
              "    <tr style=\"text-align: right;\">\n",
              "      <th></th>\n",
              "      <th>col2</th>\n",
              "      <th>col3</th>\n",
              "    </tr>\n",
              "  </thead>\n",
              "  <tbody>\n",
              "    <tr>\n",
              "      <th>一</th>\n",
              "      <td>5</td>\n",
              "      <td>1.3</td>\n",
              "    </tr>\n",
              "    <tr>\n",
              "      <th>二</th>\n",
              "      <td>6</td>\n",
              "      <td>2.5</td>\n",
              "    </tr>\n",
              "    <tr>\n",
              "      <th>三</th>\n",
              "      <td>7</td>\n",
              "      <td>3.6</td>\n",
              "    </tr>\n",
              "    <tr>\n",
              "      <th>四</th>\n",
              "      <td>8</td>\n",
              "      <td>4.6</td>\n",
              "    </tr>\n",
              "    <tr>\n",
              "      <th>五</th>\n",
              "      <td>9</td>\n",
              "      <td>5.8</td>\n",
              "    </tr>\n",
              "  </tbody>\n",
              "</table>\n",
              "</div>"
            ],
            "text/plain": [
              "   col2  col3\n",
              "一     5   1.3\n",
              "二     6   2.5\n",
              "三     7   3.6\n",
              "四     8   4.6\n",
              "五     9   5.8"
            ]
          },
          "metadata": {
            "tags": []
          },
          "execution_count": 41
        }
      ]
    },
    {
      "cell_type": "markdown",
      "metadata": {
        "id": "wPRsYpRVSaQH",
        "colab_type": "text"
      },
      "source": [
        "#### 可以直接增加新的列，也可以使用assign方法"
      ]
    },
    {
      "cell_type": "code",
      "metadata": {
        "id": "qmtxzqVqSaQH",
        "colab_type": "code",
        "colab": {
          "base_uri": "https://localhost:8080/",
          "height": 142
        },
        "outputId": "f0f248ac-56a3-4b82-8a6a-eded70edcae0"
      },
      "source": [
        "df1['B']=list('abc')\n",
        "df1"
      ],
      "execution_count": 42,
      "outputs": [
        {
          "output_type": "execute_result",
          "data": {
            "text/html": [
              "<div>\n",
              "<style scoped>\n",
              "    .dataframe tbody tr th:only-of-type {\n",
              "        vertical-align: middle;\n",
              "    }\n",
              "\n",
              "    .dataframe tbody tr th {\n",
              "        vertical-align: top;\n",
              "    }\n",
              "\n",
              "    .dataframe thead th {\n",
              "        text-align: right;\n",
              "    }\n",
              "</style>\n",
              "<table border=\"1\" class=\"dataframe\">\n",
              "  <thead>\n",
              "    <tr style=\"text-align: right;\">\n",
              "      <th></th>\n",
              "      <th>A</th>\n",
              "      <th>B</th>\n",
              "    </tr>\n",
              "  </thead>\n",
              "  <tbody>\n",
              "    <tr>\n",
              "      <th>1</th>\n",
              "      <td>1</td>\n",
              "      <td>a</td>\n",
              "    </tr>\n",
              "    <tr>\n",
              "      <th>2</th>\n",
              "      <td>2</td>\n",
              "      <td>b</td>\n",
              "    </tr>\n",
              "    <tr>\n",
              "      <th>3</th>\n",
              "      <td>3</td>\n",
              "      <td>c</td>\n",
              "    </tr>\n",
              "  </tbody>\n",
              "</table>\n",
              "</div>"
            ],
            "text/plain": [
              "   A  B\n",
              "1  1  a\n",
              "2  2  b\n",
              "3  3  c"
            ]
          },
          "metadata": {
            "tags": []
          },
          "execution_count": 42
        }
      ]
    },
    {
      "cell_type": "code",
      "metadata": {
        "id": "0g942hS6SaQJ",
        "colab_type": "code",
        "colab": {
          "base_uri": "https://localhost:8080/",
          "height": 142
        },
        "outputId": "2151f064-3028-41df-aad0-35b2496be202"
      },
      "source": [
        "df1.assign(C=pd.Series(list('def')))"
      ],
      "execution_count": 43,
      "outputs": [
        {
          "output_type": "execute_result",
          "data": {
            "text/html": [
              "<div>\n",
              "<style scoped>\n",
              "    .dataframe tbody tr th:only-of-type {\n",
              "        vertical-align: middle;\n",
              "    }\n",
              "\n",
              "    .dataframe tbody tr th {\n",
              "        vertical-align: top;\n",
              "    }\n",
              "\n",
              "    .dataframe thead th {\n",
              "        text-align: right;\n",
              "    }\n",
              "</style>\n",
              "<table border=\"1\" class=\"dataframe\">\n",
              "  <thead>\n",
              "    <tr style=\"text-align: right;\">\n",
              "      <th></th>\n",
              "      <th>A</th>\n",
              "      <th>B</th>\n",
              "      <th>C</th>\n",
              "    </tr>\n",
              "  </thead>\n",
              "  <tbody>\n",
              "    <tr>\n",
              "      <th>1</th>\n",
              "      <td>1</td>\n",
              "      <td>a</td>\n",
              "      <td>e</td>\n",
              "    </tr>\n",
              "    <tr>\n",
              "      <th>2</th>\n",
              "      <td>2</td>\n",
              "      <td>b</td>\n",
              "      <td>f</td>\n",
              "    </tr>\n",
              "    <tr>\n",
              "      <th>3</th>\n",
              "      <td>3</td>\n",
              "      <td>c</td>\n",
              "      <td>NaN</td>\n",
              "    </tr>\n",
              "  </tbody>\n",
              "</table>\n",
              "</div>"
            ],
            "text/plain": [
              "   A  B    C\n",
              "1  1  a    e\n",
              "2  2  b    f\n",
              "3  3  c  NaN"
            ]
          },
          "metadata": {
            "tags": []
          },
          "execution_count": 43
        }
      ]
    },
    {
      "cell_type": "markdown",
      "metadata": {
        "id": "OFD4nykQSaQL",
        "colab_type": "text"
      },
      "source": [
        "#### 但assign方法不会对原DataFrame做修改"
      ]
    },
    {
      "cell_type": "code",
      "metadata": {
        "id": "dN08ynvmSaQL",
        "colab_type": "code",
        "colab": {
          "base_uri": "https://localhost:8080/",
          "height": 142
        },
        "outputId": "64ecc299-462f-4165-a9c7-2c57c6cf3773"
      },
      "source": [
        "df1"
      ],
      "execution_count": 44,
      "outputs": [
        {
          "output_type": "execute_result",
          "data": {
            "text/html": [
              "<div>\n",
              "<style scoped>\n",
              "    .dataframe tbody tr th:only-of-type {\n",
              "        vertical-align: middle;\n",
              "    }\n",
              "\n",
              "    .dataframe tbody tr th {\n",
              "        vertical-align: top;\n",
              "    }\n",
              "\n",
              "    .dataframe thead th {\n",
              "        text-align: right;\n",
              "    }\n",
              "</style>\n",
              "<table border=\"1\" class=\"dataframe\">\n",
              "  <thead>\n",
              "    <tr style=\"text-align: right;\">\n",
              "      <th></th>\n",
              "      <th>A</th>\n",
              "      <th>B</th>\n",
              "    </tr>\n",
              "  </thead>\n",
              "  <tbody>\n",
              "    <tr>\n",
              "      <th>1</th>\n",
              "      <td>1</td>\n",
              "      <td>a</td>\n",
              "    </tr>\n",
              "    <tr>\n",
              "      <th>2</th>\n",
              "      <td>2</td>\n",
              "      <td>b</td>\n",
              "    </tr>\n",
              "    <tr>\n",
              "      <th>3</th>\n",
              "      <td>3</td>\n",
              "      <td>c</td>\n",
              "    </tr>\n",
              "  </tbody>\n",
              "</table>\n",
              "</div>"
            ],
            "text/plain": [
              "   A  B\n",
              "1  1  a\n",
              "2  2  b\n",
              "3  3  c"
            ]
          },
          "metadata": {
            "tags": []
          },
          "execution_count": 44
        }
      ]
    },
    {
      "cell_type": "markdown",
      "metadata": {
        "id": "CZEHrK-hSaQN",
        "colab_type": "text"
      },
      "source": [
        "#### （g）根据类型选择列"
      ]
    },
    {
      "cell_type": "code",
      "metadata": {
        "id": "9kqjBRW1SaQN",
        "colab_type": "code",
        "colab": {
          "base_uri": "https://localhost:8080/",
          "height": 204
        },
        "outputId": "d6178fd9-b10e-4a41-cbf0-26a5d9bfb630"
      },
      "source": [
        "df.select_dtypes(include=['number']).head()"
      ],
      "execution_count": 45,
      "outputs": [
        {
          "output_type": "execute_result",
          "data": {
            "text/html": [
              "<div>\n",
              "<style scoped>\n",
              "    .dataframe tbody tr th:only-of-type {\n",
              "        vertical-align: middle;\n",
              "    }\n",
              "\n",
              "    .dataframe tbody tr th {\n",
              "        vertical-align: top;\n",
              "    }\n",
              "\n",
              "    .dataframe thead th {\n",
              "        text-align: right;\n",
              "    }\n",
              "</style>\n",
              "<table border=\"1\" class=\"dataframe\">\n",
              "  <thead>\n",
              "    <tr style=\"text-align: right;\">\n",
              "      <th></th>\n",
              "      <th>col2</th>\n",
              "      <th>col3</th>\n",
              "    </tr>\n",
              "  </thead>\n",
              "  <tbody>\n",
              "    <tr>\n",
              "      <th>一</th>\n",
              "      <td>5</td>\n",
              "      <td>1.3</td>\n",
              "    </tr>\n",
              "    <tr>\n",
              "      <th>二</th>\n",
              "      <td>6</td>\n",
              "      <td>2.5</td>\n",
              "    </tr>\n",
              "    <tr>\n",
              "      <th>三</th>\n",
              "      <td>7</td>\n",
              "      <td>3.6</td>\n",
              "    </tr>\n",
              "    <tr>\n",
              "      <th>四</th>\n",
              "      <td>8</td>\n",
              "      <td>4.6</td>\n",
              "    </tr>\n",
              "    <tr>\n",
              "      <th>五</th>\n",
              "      <td>9</td>\n",
              "      <td>5.8</td>\n",
              "    </tr>\n",
              "  </tbody>\n",
              "</table>\n",
              "</div>"
            ],
            "text/plain": [
              "   col2  col3\n",
              "一     5   1.3\n",
              "二     6   2.5\n",
              "三     7   3.6\n",
              "四     8   4.6\n",
              "五     9   5.8"
            ]
          },
          "metadata": {
            "tags": []
          },
          "execution_count": 45
        }
      ]
    },
    {
      "cell_type": "code",
      "metadata": {
        "id": "BjWK1NK1SaQQ",
        "colab_type": "code",
        "colab": {
          "base_uri": "https://localhost:8080/",
          "height": 204
        },
        "outputId": "2fdb12c3-d496-4aa9-eedd-b821fb55764b"
      },
      "source": [
        "df.select_dtypes(include=['float']).head()"
      ],
      "execution_count": 46,
      "outputs": [
        {
          "output_type": "execute_result",
          "data": {
            "text/html": [
              "<div>\n",
              "<style scoped>\n",
              "    .dataframe tbody tr th:only-of-type {\n",
              "        vertical-align: middle;\n",
              "    }\n",
              "\n",
              "    .dataframe tbody tr th {\n",
              "        vertical-align: top;\n",
              "    }\n",
              "\n",
              "    .dataframe thead th {\n",
              "        text-align: right;\n",
              "    }\n",
              "</style>\n",
              "<table border=\"1\" class=\"dataframe\">\n",
              "  <thead>\n",
              "    <tr style=\"text-align: right;\">\n",
              "      <th></th>\n",
              "      <th>col3</th>\n",
              "    </tr>\n",
              "  </thead>\n",
              "  <tbody>\n",
              "    <tr>\n",
              "      <th>一</th>\n",
              "      <td>1.3</td>\n",
              "    </tr>\n",
              "    <tr>\n",
              "      <th>二</th>\n",
              "      <td>2.5</td>\n",
              "    </tr>\n",
              "    <tr>\n",
              "      <th>三</th>\n",
              "      <td>3.6</td>\n",
              "    </tr>\n",
              "    <tr>\n",
              "      <th>四</th>\n",
              "      <td>4.6</td>\n",
              "    </tr>\n",
              "    <tr>\n",
              "      <th>五</th>\n",
              "      <td>5.8</td>\n",
              "    </tr>\n",
              "  </tbody>\n",
              "</table>\n",
              "</div>"
            ],
            "text/plain": [
              "   col3\n",
              "一   1.3\n",
              "二   2.5\n",
              "三   3.6\n",
              "四   4.6\n",
              "五   5.8"
            ]
          },
          "metadata": {
            "tags": []
          },
          "execution_count": 46
        }
      ]
    },
    {
      "cell_type": "markdown",
      "metadata": {
        "id": "UB4mbTdNSaQS",
        "colab_type": "text"
      },
      "source": [
        "#### （h）将Series转换为DataFrame"
      ]
    },
    {
      "cell_type": "code",
      "metadata": {
        "id": "g4DFHHa4SaQS",
        "colab_type": "code",
        "colab": {
          "base_uri": "https://localhost:8080/",
          "height": 68
        },
        "outputId": "5516fc41-398c-4e86-9ec9-f804efee6c2d"
      },
      "source": [
        "s = df.mean()\n",
        "s.name='to_DataFrame'\n",
        "s"
      ],
      "execution_count": 47,
      "outputs": [
        {
          "output_type": "execute_result",
          "data": {
            "text/plain": [
              "col2    7.00\n",
              "col3    3.56\n",
              "Name: to_DataFrame, dtype: float64"
            ]
          },
          "metadata": {
            "tags": []
          },
          "execution_count": 47
        }
      ]
    },
    {
      "cell_type": "code",
      "metadata": {
        "id": "_-LQyJEbSaQU",
        "colab_type": "code",
        "colab": {
          "base_uri": "https://localhost:8080/",
          "height": 111
        },
        "outputId": "7c8faa72-4e70-4902-d81b-3467fa92a75b"
      },
      "source": [
        "s.to_frame()"
      ],
      "execution_count": 48,
      "outputs": [
        {
          "output_type": "execute_result",
          "data": {
            "text/html": [
              "<div>\n",
              "<style scoped>\n",
              "    .dataframe tbody tr th:only-of-type {\n",
              "        vertical-align: middle;\n",
              "    }\n",
              "\n",
              "    .dataframe tbody tr th {\n",
              "        vertical-align: top;\n",
              "    }\n",
              "\n",
              "    .dataframe thead th {\n",
              "        text-align: right;\n",
              "    }\n",
              "</style>\n",
              "<table border=\"1\" class=\"dataframe\">\n",
              "  <thead>\n",
              "    <tr style=\"text-align: right;\">\n",
              "      <th></th>\n",
              "      <th>to_DataFrame</th>\n",
              "    </tr>\n",
              "  </thead>\n",
              "  <tbody>\n",
              "    <tr>\n",
              "      <th>col2</th>\n",
              "      <td>7.00</td>\n",
              "    </tr>\n",
              "    <tr>\n",
              "      <th>col3</th>\n",
              "      <td>3.56</td>\n",
              "    </tr>\n",
              "  </tbody>\n",
              "</table>\n",
              "</div>"
            ],
            "text/plain": [
              "      to_DataFrame\n",
              "col2          7.00\n",
              "col3          3.56"
            ]
          },
          "metadata": {
            "tags": []
          },
          "execution_count": 48
        }
      ]
    },
    {
      "cell_type": "markdown",
      "metadata": {
        "id": "xou8DPJGSaQV",
        "colab_type": "text"
      },
      "source": [
        "#### 使用T符号可以转置"
      ]
    },
    {
      "cell_type": "code",
      "metadata": {
        "id": "1LZlAtwbSaQW",
        "colab_type": "code",
        "colab": {
          "base_uri": "https://localhost:8080/",
          "height": 80
        },
        "outputId": "aabfc7be-1d30-4b63-933e-673f30d7b583"
      },
      "source": [
        "s.to_frame().T"
      ],
      "execution_count": 49,
      "outputs": [
        {
          "output_type": "execute_result",
          "data": {
            "text/html": [
              "<div>\n",
              "<style scoped>\n",
              "    .dataframe tbody tr th:only-of-type {\n",
              "        vertical-align: middle;\n",
              "    }\n",
              "\n",
              "    .dataframe tbody tr th {\n",
              "        vertical-align: top;\n",
              "    }\n",
              "\n",
              "    .dataframe thead th {\n",
              "        text-align: right;\n",
              "    }\n",
              "</style>\n",
              "<table border=\"1\" class=\"dataframe\">\n",
              "  <thead>\n",
              "    <tr style=\"text-align: right;\">\n",
              "      <th></th>\n",
              "      <th>col2</th>\n",
              "      <th>col3</th>\n",
              "    </tr>\n",
              "  </thead>\n",
              "  <tbody>\n",
              "    <tr>\n",
              "      <th>to_DataFrame</th>\n",
              "      <td>7.0</td>\n",
              "      <td>3.56</td>\n",
              "    </tr>\n",
              "  </tbody>\n",
              "</table>\n",
              "</div>"
            ],
            "text/plain": [
              "              col2  col3\n",
              "to_DataFrame   7.0  3.56"
            ]
          },
          "metadata": {
            "tags": []
          },
          "execution_count": 49
        }
      ]
    },
    {
      "cell_type": "markdown",
      "metadata": {
        "id": "p9QVvttsSaQY",
        "colab_type": "text"
      },
      "source": [
        "## 三、常用基本函数\n",
        "#### 从下面开始，包括后面所有章节，我们都会用到这份虚拟的数据集"
      ]
    },
    {
      "cell_type": "code",
      "metadata": {
        "id": "fPUeeKw7SaQZ",
        "colab_type": "code",
        "colab": {}
      },
      "source": [
        "df = pd.read_csv('data/table.csv')"
      ],
      "execution_count": 0,
      "outputs": []
    },
    {
      "cell_type": "markdown",
      "metadata": {
        "id": "wNCFQLyhSaQa",
        "colab_type": "text"
      },
      "source": [
        "### 1. head和tail"
      ]
    },
    {
      "cell_type": "code",
      "metadata": {
        "id": "ywBna99BSaQb",
        "colab_type": "code",
        "colab": {
          "base_uri": "https://localhost:8080/",
          "height": 204
        },
        "outputId": "ed9a9c98-bd6d-493f-b8e5-b452ba8534e9"
      },
      "source": [
        "df.head()"
      ],
      "execution_count": 51,
      "outputs": [
        {
          "output_type": "execute_result",
          "data": {
            "text/html": [
              "<div>\n",
              "<style scoped>\n",
              "    .dataframe tbody tr th:only-of-type {\n",
              "        vertical-align: middle;\n",
              "    }\n",
              "\n",
              "    .dataframe tbody tr th {\n",
              "        vertical-align: top;\n",
              "    }\n",
              "\n",
              "    .dataframe thead th {\n",
              "        text-align: right;\n",
              "    }\n",
              "</style>\n",
              "<table border=\"1\" class=\"dataframe\">\n",
              "  <thead>\n",
              "    <tr style=\"text-align: right;\">\n",
              "      <th></th>\n",
              "      <th>School</th>\n",
              "      <th>Class</th>\n",
              "      <th>ID</th>\n",
              "      <th>Gender</th>\n",
              "      <th>Address</th>\n",
              "      <th>Height</th>\n",
              "      <th>Weight</th>\n",
              "      <th>Math</th>\n",
              "      <th>Physics</th>\n",
              "    </tr>\n",
              "  </thead>\n",
              "  <tbody>\n",
              "    <tr>\n",
              "      <th>0</th>\n",
              "      <td>S_1</td>\n",
              "      <td>C_1</td>\n",
              "      <td>1101</td>\n",
              "      <td>M</td>\n",
              "      <td>street_1</td>\n",
              "      <td>173</td>\n",
              "      <td>63</td>\n",
              "      <td>34.0</td>\n",
              "      <td>A+</td>\n",
              "    </tr>\n",
              "    <tr>\n",
              "      <th>1</th>\n",
              "      <td>S_1</td>\n",
              "      <td>C_1</td>\n",
              "      <td>1102</td>\n",
              "      <td>F</td>\n",
              "      <td>street_2</td>\n",
              "      <td>192</td>\n",
              "      <td>73</td>\n",
              "      <td>32.5</td>\n",
              "      <td>B+</td>\n",
              "    </tr>\n",
              "    <tr>\n",
              "      <th>2</th>\n",
              "      <td>S_1</td>\n",
              "      <td>C_1</td>\n",
              "      <td>1103</td>\n",
              "      <td>M</td>\n",
              "      <td>street_2</td>\n",
              "      <td>186</td>\n",
              "      <td>82</td>\n",
              "      <td>87.2</td>\n",
              "      <td>B+</td>\n",
              "    </tr>\n",
              "    <tr>\n",
              "      <th>3</th>\n",
              "      <td>S_1</td>\n",
              "      <td>C_1</td>\n",
              "      <td>1104</td>\n",
              "      <td>F</td>\n",
              "      <td>street_2</td>\n",
              "      <td>167</td>\n",
              "      <td>81</td>\n",
              "      <td>80.4</td>\n",
              "      <td>B-</td>\n",
              "    </tr>\n",
              "    <tr>\n",
              "      <th>4</th>\n",
              "      <td>S_1</td>\n",
              "      <td>C_1</td>\n",
              "      <td>1105</td>\n",
              "      <td>F</td>\n",
              "      <td>street_4</td>\n",
              "      <td>159</td>\n",
              "      <td>64</td>\n",
              "      <td>84.8</td>\n",
              "      <td>B+</td>\n",
              "    </tr>\n",
              "  </tbody>\n",
              "</table>\n",
              "</div>"
            ],
            "text/plain": [
              "  School Class    ID Gender   Address  Height  Weight  Math Physics\n",
              "0    S_1   C_1  1101      M  street_1     173      63  34.0      A+\n",
              "1    S_1   C_1  1102      F  street_2     192      73  32.5      B+\n",
              "2    S_1   C_1  1103      M  street_2     186      82  87.2      B+\n",
              "3    S_1   C_1  1104      F  street_2     167      81  80.4      B-\n",
              "4    S_1   C_1  1105      F  street_4     159      64  84.8      B+"
            ]
          },
          "metadata": {
            "tags": []
          },
          "execution_count": 51
        }
      ]
    },
    {
      "cell_type": "code",
      "metadata": {
        "id": "31FgWcBDSaQc",
        "colab_type": "code",
        "colab": {
          "base_uri": "https://localhost:8080/",
          "height": 204
        },
        "outputId": "62beb2ba-9b97-4b34-8b19-edba6b412096"
      },
      "source": [
        "df.tail()"
      ],
      "execution_count": 52,
      "outputs": [
        {
          "output_type": "execute_result",
          "data": {
            "text/html": [
              "<div>\n",
              "<style scoped>\n",
              "    .dataframe tbody tr th:only-of-type {\n",
              "        vertical-align: middle;\n",
              "    }\n",
              "\n",
              "    .dataframe tbody tr th {\n",
              "        vertical-align: top;\n",
              "    }\n",
              "\n",
              "    .dataframe thead th {\n",
              "        text-align: right;\n",
              "    }\n",
              "</style>\n",
              "<table border=\"1\" class=\"dataframe\">\n",
              "  <thead>\n",
              "    <tr style=\"text-align: right;\">\n",
              "      <th></th>\n",
              "      <th>School</th>\n",
              "      <th>Class</th>\n",
              "      <th>ID</th>\n",
              "      <th>Gender</th>\n",
              "      <th>Address</th>\n",
              "      <th>Height</th>\n",
              "      <th>Weight</th>\n",
              "      <th>Math</th>\n",
              "      <th>Physics</th>\n",
              "    </tr>\n",
              "  </thead>\n",
              "  <tbody>\n",
              "    <tr>\n",
              "      <th>30</th>\n",
              "      <td>S_2</td>\n",
              "      <td>C_4</td>\n",
              "      <td>2401</td>\n",
              "      <td>F</td>\n",
              "      <td>street_2</td>\n",
              "      <td>192</td>\n",
              "      <td>62</td>\n",
              "      <td>45.3</td>\n",
              "      <td>A</td>\n",
              "    </tr>\n",
              "    <tr>\n",
              "      <th>31</th>\n",
              "      <td>S_2</td>\n",
              "      <td>C_4</td>\n",
              "      <td>2402</td>\n",
              "      <td>M</td>\n",
              "      <td>street_7</td>\n",
              "      <td>166</td>\n",
              "      <td>82</td>\n",
              "      <td>48.7</td>\n",
              "      <td>B</td>\n",
              "    </tr>\n",
              "    <tr>\n",
              "      <th>32</th>\n",
              "      <td>S_2</td>\n",
              "      <td>C_4</td>\n",
              "      <td>2403</td>\n",
              "      <td>F</td>\n",
              "      <td>street_6</td>\n",
              "      <td>158</td>\n",
              "      <td>60</td>\n",
              "      <td>59.7</td>\n",
              "      <td>B+</td>\n",
              "    </tr>\n",
              "    <tr>\n",
              "      <th>33</th>\n",
              "      <td>S_2</td>\n",
              "      <td>C_4</td>\n",
              "      <td>2404</td>\n",
              "      <td>F</td>\n",
              "      <td>street_2</td>\n",
              "      <td>160</td>\n",
              "      <td>84</td>\n",
              "      <td>67.7</td>\n",
              "      <td>B</td>\n",
              "    </tr>\n",
              "    <tr>\n",
              "      <th>34</th>\n",
              "      <td>S_2</td>\n",
              "      <td>C_4</td>\n",
              "      <td>2405</td>\n",
              "      <td>F</td>\n",
              "      <td>street_6</td>\n",
              "      <td>193</td>\n",
              "      <td>54</td>\n",
              "      <td>47.6</td>\n",
              "      <td>B</td>\n",
              "    </tr>\n",
              "  </tbody>\n",
              "</table>\n",
              "</div>"
            ],
            "text/plain": [
              "   School Class    ID Gender   Address  Height  Weight  Math Physics\n",
              "30    S_2   C_4  2401      F  street_2     192      62  45.3       A\n",
              "31    S_2   C_4  2402      M  street_7     166      82  48.7       B\n",
              "32    S_2   C_4  2403      F  street_6     158      60  59.7      B+\n",
              "33    S_2   C_4  2404      F  street_2     160      84  67.7       B\n",
              "34    S_2   C_4  2405      F  street_6     193      54  47.6       B"
            ]
          },
          "metadata": {
            "tags": []
          },
          "execution_count": 52
        }
      ]
    },
    {
      "cell_type": "markdown",
      "metadata": {
        "id": "3n7DH--dSaQf",
        "colab_type": "text"
      },
      "source": [
        "#### 可以指定n参数显示多少行"
      ]
    },
    {
      "cell_type": "code",
      "metadata": {
        "id": "DTJHsJFNSaQf",
        "colab_type": "code",
        "colab": {
          "base_uri": "https://localhost:8080/",
          "height": 142
        },
        "outputId": "54e1a13b-7efc-4a54-877c-c28384330ef7"
      },
      "source": [
        "df.head(3)"
      ],
      "execution_count": 53,
      "outputs": [
        {
          "output_type": "execute_result",
          "data": {
            "text/html": [
              "<div>\n",
              "<style scoped>\n",
              "    .dataframe tbody tr th:only-of-type {\n",
              "        vertical-align: middle;\n",
              "    }\n",
              "\n",
              "    .dataframe tbody tr th {\n",
              "        vertical-align: top;\n",
              "    }\n",
              "\n",
              "    .dataframe thead th {\n",
              "        text-align: right;\n",
              "    }\n",
              "</style>\n",
              "<table border=\"1\" class=\"dataframe\">\n",
              "  <thead>\n",
              "    <tr style=\"text-align: right;\">\n",
              "      <th></th>\n",
              "      <th>School</th>\n",
              "      <th>Class</th>\n",
              "      <th>ID</th>\n",
              "      <th>Gender</th>\n",
              "      <th>Address</th>\n",
              "      <th>Height</th>\n",
              "      <th>Weight</th>\n",
              "      <th>Math</th>\n",
              "      <th>Physics</th>\n",
              "    </tr>\n",
              "  </thead>\n",
              "  <tbody>\n",
              "    <tr>\n",
              "      <th>0</th>\n",
              "      <td>S_1</td>\n",
              "      <td>C_1</td>\n",
              "      <td>1101</td>\n",
              "      <td>M</td>\n",
              "      <td>street_1</td>\n",
              "      <td>173</td>\n",
              "      <td>63</td>\n",
              "      <td>34.0</td>\n",
              "      <td>A+</td>\n",
              "    </tr>\n",
              "    <tr>\n",
              "      <th>1</th>\n",
              "      <td>S_1</td>\n",
              "      <td>C_1</td>\n",
              "      <td>1102</td>\n",
              "      <td>F</td>\n",
              "      <td>street_2</td>\n",
              "      <td>192</td>\n",
              "      <td>73</td>\n",
              "      <td>32.5</td>\n",
              "      <td>B+</td>\n",
              "    </tr>\n",
              "    <tr>\n",
              "      <th>2</th>\n",
              "      <td>S_1</td>\n",
              "      <td>C_1</td>\n",
              "      <td>1103</td>\n",
              "      <td>M</td>\n",
              "      <td>street_2</td>\n",
              "      <td>186</td>\n",
              "      <td>82</td>\n",
              "      <td>87.2</td>\n",
              "      <td>B+</td>\n",
              "    </tr>\n",
              "  </tbody>\n",
              "</table>\n",
              "</div>"
            ],
            "text/plain": [
              "  School Class    ID Gender   Address  Height  Weight  Math Physics\n",
              "0    S_1   C_1  1101      M  street_1     173      63  34.0      A+\n",
              "1    S_1   C_1  1102      F  street_2     192      73  32.5      B+\n",
              "2    S_1   C_1  1103      M  street_2     186      82  87.2      B+"
            ]
          },
          "metadata": {
            "tags": []
          },
          "execution_count": 53
        }
      ]
    },
    {
      "cell_type": "markdown",
      "metadata": {
        "id": "y9z5uv4DSaQg",
        "colab_type": "text"
      },
      "source": [
        "### 2. unique和nunique"
      ]
    },
    {
      "cell_type": "markdown",
      "metadata": {
        "id": "k7BdPoeYSaQh",
        "colab_type": "text"
      },
      "source": [
        "#### nunique显示有多少个唯一值"
      ]
    },
    {
      "cell_type": "code",
      "metadata": {
        "id": "0ntdq9FISaQh",
        "colab_type": "code",
        "colab": {
          "base_uri": "https://localhost:8080/",
          "height": 34
        },
        "outputId": "9ac01e41-3a36-4f00-e1b4-f6205091a791"
      },
      "source": [
        "df['Physics'].nunique()"
      ],
      "execution_count": 54,
      "outputs": [
        {
          "output_type": "execute_result",
          "data": {
            "text/plain": [
              "7"
            ]
          },
          "metadata": {
            "tags": []
          },
          "execution_count": 54
        }
      ]
    },
    {
      "cell_type": "markdown",
      "metadata": {
        "id": "8rjtI4l6SaQi",
        "colab_type": "text"
      },
      "source": [
        "#### unique显示所有的唯一值"
      ]
    },
    {
      "cell_type": "code",
      "metadata": {
        "id": "-s1LxukZSaQj",
        "colab_type": "code",
        "colab": {
          "base_uri": "https://localhost:8080/",
          "height": 34
        },
        "outputId": "4246183b-893c-4f15-84c4-d61256ca8afd"
      },
      "source": [
        "df['Physics'].unique()"
      ],
      "execution_count": 55,
      "outputs": [
        {
          "output_type": "execute_result",
          "data": {
            "text/plain": [
              "array(['A+', 'B+', 'B-', 'A-', 'B', 'A', 'C'], dtype=object)"
            ]
          },
          "metadata": {
            "tags": []
          },
          "execution_count": 55
        }
      ]
    },
    {
      "cell_type": "markdown",
      "metadata": {
        "id": "UlLLfMihSaQk",
        "colab_type": "text"
      },
      "source": [
        "### 3. count和value_counts"
      ]
    },
    {
      "cell_type": "markdown",
      "metadata": {
        "id": "NGWcrhUsSaQl",
        "colab_type": "text"
      },
      "source": [
        "#### count返回非缺失值元素个数"
      ]
    },
    {
      "cell_type": "code",
      "metadata": {
        "id": "y-0D4TjESaQl",
        "colab_type": "code",
        "colab": {
          "base_uri": "https://localhost:8080/",
          "height": 34
        },
        "outputId": "5e65a126-d648-4128-d91e-4a176da28a9e"
      },
      "source": [
        "df['Physics'].count()"
      ],
      "execution_count": 56,
      "outputs": [
        {
          "output_type": "execute_result",
          "data": {
            "text/plain": [
              "35"
            ]
          },
          "metadata": {
            "tags": []
          },
          "execution_count": 56
        }
      ]
    },
    {
      "cell_type": "markdown",
      "metadata": {
        "id": "pEpl1fUFSaQn",
        "colab_type": "text"
      },
      "source": [
        "#### value_counts返回每个元素有多少个"
      ]
    },
    {
      "cell_type": "code",
      "metadata": {
        "id": "Hv4oNkl3SaQo",
        "colab_type": "code",
        "colab": {
          "base_uri": "https://localhost:8080/",
          "height": 153
        },
        "outputId": "138a089b-a0f2-4fde-e9d8-dc0098ddeb45"
      },
      "source": [
        "df['Physics'].value_counts()"
      ],
      "execution_count": 57,
      "outputs": [
        {
          "output_type": "execute_result",
          "data": {
            "text/plain": [
              "B+    9\n",
              "B     8\n",
              "B-    6\n",
              "A     4\n",
              "A-    3\n",
              "A+    3\n",
              "C     2\n",
              "Name: Physics, dtype: int64"
            ]
          },
          "metadata": {
            "tags": []
          },
          "execution_count": 57
        }
      ]
    },
    {
      "cell_type": "markdown",
      "metadata": {
        "id": "X1xViHNYSaQq",
        "colab_type": "text"
      },
      "source": [
        "### 4. describe和info"
      ]
    },
    {
      "cell_type": "markdown",
      "metadata": {
        "id": "RQkGrveiSaQq",
        "colab_type": "text"
      },
      "source": [
        "#### info函数返回有哪些列、有多少非缺失值、每列的类型"
      ]
    },
    {
      "cell_type": "code",
      "metadata": {
        "id": "0nfN9MFlSaQq",
        "colab_type": "code",
        "colab": {
          "base_uri": "https://localhost:8080/",
          "height": 289
        },
        "outputId": "b163ac2c-ff0d-48f0-b2ee-f3fb3758ee1e"
      },
      "source": [
        "df.info()"
      ],
      "execution_count": 58,
      "outputs": [
        {
          "output_type": "stream",
          "text": [
            "<class 'pandas.core.frame.DataFrame'>\n",
            "RangeIndex: 35 entries, 0 to 34\n",
            "Data columns (total 9 columns):\n",
            " #   Column   Non-Null Count  Dtype  \n",
            "---  ------   --------------  -----  \n",
            " 0   School   35 non-null     object \n",
            " 1   Class    35 non-null     object \n",
            " 2   ID       35 non-null     int64  \n",
            " 3   Gender   35 non-null     object \n",
            " 4   Address  35 non-null     object \n",
            " 5   Height   35 non-null     int64  \n",
            " 6   Weight   35 non-null     int64  \n",
            " 7   Math     35 non-null     float64\n",
            " 8   Physics  35 non-null     object \n",
            "dtypes: float64(1), int64(3), object(5)\n",
            "memory usage: 2.6+ KB\n"
          ],
          "name": "stdout"
        }
      ]
    },
    {
      "cell_type": "markdown",
      "metadata": {
        "id": "ADLJEmBUSaQt",
        "colab_type": "text"
      },
      "source": [
        "#### describe默认统计数值型数据的各个统计量"
      ]
    },
    {
      "cell_type": "code",
      "metadata": {
        "id": "b2M94fyLSaQt",
        "colab_type": "code",
        "colab": {
          "base_uri": "https://localhost:8080/",
          "height": 297
        },
        "outputId": "30ebdb70-7f30-4868-8829-6a54c731ed9a"
      },
      "source": [
        "df.describe()"
      ],
      "execution_count": 59,
      "outputs": [
        {
          "output_type": "execute_result",
          "data": {
            "text/html": [
              "<div>\n",
              "<style scoped>\n",
              "    .dataframe tbody tr th:only-of-type {\n",
              "        vertical-align: middle;\n",
              "    }\n",
              "\n",
              "    .dataframe tbody tr th {\n",
              "        vertical-align: top;\n",
              "    }\n",
              "\n",
              "    .dataframe thead th {\n",
              "        text-align: right;\n",
              "    }\n",
              "</style>\n",
              "<table border=\"1\" class=\"dataframe\">\n",
              "  <thead>\n",
              "    <tr style=\"text-align: right;\">\n",
              "      <th></th>\n",
              "      <th>ID</th>\n",
              "      <th>Height</th>\n",
              "      <th>Weight</th>\n",
              "      <th>Math</th>\n",
              "    </tr>\n",
              "  </thead>\n",
              "  <tbody>\n",
              "    <tr>\n",
              "      <th>count</th>\n",
              "      <td>35.00000</td>\n",
              "      <td>35.000000</td>\n",
              "      <td>35.000000</td>\n",
              "      <td>35.000000</td>\n",
              "    </tr>\n",
              "    <tr>\n",
              "      <th>mean</th>\n",
              "      <td>1803.00000</td>\n",
              "      <td>174.142857</td>\n",
              "      <td>74.657143</td>\n",
              "      <td>61.351429</td>\n",
              "    </tr>\n",
              "    <tr>\n",
              "      <th>std</th>\n",
              "      <td>536.87741</td>\n",
              "      <td>13.541098</td>\n",
              "      <td>12.895377</td>\n",
              "      <td>19.915164</td>\n",
              "    </tr>\n",
              "    <tr>\n",
              "      <th>min</th>\n",
              "      <td>1101.00000</td>\n",
              "      <td>155.000000</td>\n",
              "      <td>53.000000</td>\n",
              "      <td>31.500000</td>\n",
              "    </tr>\n",
              "    <tr>\n",
              "      <th>25%</th>\n",
              "      <td>1204.50000</td>\n",
              "      <td>161.000000</td>\n",
              "      <td>63.000000</td>\n",
              "      <td>47.400000</td>\n",
              "    </tr>\n",
              "    <tr>\n",
              "      <th>50%</th>\n",
              "      <td>2103.00000</td>\n",
              "      <td>173.000000</td>\n",
              "      <td>74.000000</td>\n",
              "      <td>61.700000</td>\n",
              "    </tr>\n",
              "    <tr>\n",
              "      <th>75%</th>\n",
              "      <td>2301.50000</td>\n",
              "      <td>187.500000</td>\n",
              "      <td>82.000000</td>\n",
              "      <td>77.100000</td>\n",
              "    </tr>\n",
              "    <tr>\n",
              "      <th>max</th>\n",
              "      <td>2405.00000</td>\n",
              "      <td>195.000000</td>\n",
              "      <td>100.000000</td>\n",
              "      <td>97.000000</td>\n",
              "    </tr>\n",
              "  </tbody>\n",
              "</table>\n",
              "</div>"
            ],
            "text/plain": [
              "               ID      Height      Weight       Math\n",
              "count    35.00000   35.000000   35.000000  35.000000\n",
              "mean   1803.00000  174.142857   74.657143  61.351429\n",
              "std     536.87741   13.541098   12.895377  19.915164\n",
              "min    1101.00000  155.000000   53.000000  31.500000\n",
              "25%    1204.50000  161.000000   63.000000  47.400000\n",
              "50%    2103.00000  173.000000   74.000000  61.700000\n",
              "75%    2301.50000  187.500000   82.000000  77.100000\n",
              "max    2405.00000  195.000000  100.000000  97.000000"
            ]
          },
          "metadata": {
            "tags": []
          },
          "execution_count": 59
        }
      ]
    },
    {
      "cell_type": "markdown",
      "metadata": {
        "id": "Rm457hQ0SaQw",
        "colab_type": "text"
      },
      "source": [
        "#### 可以自行选择分位数"
      ]
    },
    {
      "cell_type": "code",
      "metadata": {
        "id": "SScaJ0aRSaQw",
        "colab_type": "code",
        "colab": {
          "base_uri": "https://localhost:8080/",
          "height": 359
        },
        "outputId": "0abc2df7-ff22-4f7d-b6cf-fc35b68ffba0"
      },
      "source": [
        "df.describe(percentiles=[.05, .25, .75, .95])"
      ],
      "execution_count": 60,
      "outputs": [
        {
          "output_type": "execute_result",
          "data": {
            "text/html": [
              "<div>\n",
              "<style scoped>\n",
              "    .dataframe tbody tr th:only-of-type {\n",
              "        vertical-align: middle;\n",
              "    }\n",
              "\n",
              "    .dataframe tbody tr th {\n",
              "        vertical-align: top;\n",
              "    }\n",
              "\n",
              "    .dataframe thead th {\n",
              "        text-align: right;\n",
              "    }\n",
              "</style>\n",
              "<table border=\"1\" class=\"dataframe\">\n",
              "  <thead>\n",
              "    <tr style=\"text-align: right;\">\n",
              "      <th></th>\n",
              "      <th>ID</th>\n",
              "      <th>Height</th>\n",
              "      <th>Weight</th>\n",
              "      <th>Math</th>\n",
              "    </tr>\n",
              "  </thead>\n",
              "  <tbody>\n",
              "    <tr>\n",
              "      <th>count</th>\n",
              "      <td>35.00000</td>\n",
              "      <td>35.000000</td>\n",
              "      <td>35.000000</td>\n",
              "      <td>35.000000</td>\n",
              "    </tr>\n",
              "    <tr>\n",
              "      <th>mean</th>\n",
              "      <td>1803.00000</td>\n",
              "      <td>174.142857</td>\n",
              "      <td>74.657143</td>\n",
              "      <td>61.351429</td>\n",
              "    </tr>\n",
              "    <tr>\n",
              "      <th>std</th>\n",
              "      <td>536.87741</td>\n",
              "      <td>13.541098</td>\n",
              "      <td>12.895377</td>\n",
              "      <td>19.915164</td>\n",
              "    </tr>\n",
              "    <tr>\n",
              "      <th>min</th>\n",
              "      <td>1101.00000</td>\n",
              "      <td>155.000000</td>\n",
              "      <td>53.000000</td>\n",
              "      <td>31.500000</td>\n",
              "    </tr>\n",
              "    <tr>\n",
              "      <th>5%</th>\n",
              "      <td>1102.70000</td>\n",
              "      <td>157.000000</td>\n",
              "      <td>56.100000</td>\n",
              "      <td>32.640000</td>\n",
              "    </tr>\n",
              "    <tr>\n",
              "      <th>25%</th>\n",
              "      <td>1204.50000</td>\n",
              "      <td>161.000000</td>\n",
              "      <td>63.000000</td>\n",
              "      <td>47.400000</td>\n",
              "    </tr>\n",
              "    <tr>\n",
              "      <th>50%</th>\n",
              "      <td>2103.00000</td>\n",
              "      <td>173.000000</td>\n",
              "      <td>74.000000</td>\n",
              "      <td>61.700000</td>\n",
              "    </tr>\n",
              "    <tr>\n",
              "      <th>75%</th>\n",
              "      <td>2301.50000</td>\n",
              "      <td>187.500000</td>\n",
              "      <td>82.000000</td>\n",
              "      <td>77.100000</td>\n",
              "    </tr>\n",
              "    <tr>\n",
              "      <th>95%</th>\n",
              "      <td>2403.30000</td>\n",
              "      <td>193.300000</td>\n",
              "      <td>97.600000</td>\n",
              "      <td>90.040000</td>\n",
              "    </tr>\n",
              "    <tr>\n",
              "      <th>max</th>\n",
              "      <td>2405.00000</td>\n",
              "      <td>195.000000</td>\n",
              "      <td>100.000000</td>\n",
              "      <td>97.000000</td>\n",
              "    </tr>\n",
              "  </tbody>\n",
              "</table>\n",
              "</div>"
            ],
            "text/plain": [
              "               ID      Height      Weight       Math\n",
              "count    35.00000   35.000000   35.000000  35.000000\n",
              "mean   1803.00000  174.142857   74.657143  61.351429\n",
              "std     536.87741   13.541098   12.895377  19.915164\n",
              "min    1101.00000  155.000000   53.000000  31.500000\n",
              "5%     1102.70000  157.000000   56.100000  32.640000\n",
              "25%    1204.50000  161.000000   63.000000  47.400000\n",
              "50%    2103.00000  173.000000   74.000000  61.700000\n",
              "75%    2301.50000  187.500000   82.000000  77.100000\n",
              "95%    2403.30000  193.300000   97.600000  90.040000\n",
              "max    2405.00000  195.000000  100.000000  97.000000"
            ]
          },
          "metadata": {
            "tags": []
          },
          "execution_count": 60
        }
      ]
    },
    {
      "cell_type": "markdown",
      "metadata": {
        "id": "Oi-RGGrISaQx",
        "colab_type": "text"
      },
      "source": [
        "#### 对于非数值型也可以用describe函数"
      ]
    },
    {
      "cell_type": "code",
      "metadata": {
        "id": "_U0ISYSNSaQx",
        "colab_type": "code",
        "colab": {
          "base_uri": "https://localhost:8080/",
          "height": 102
        },
        "outputId": "8c5a97ab-18e4-4967-a964-ea918c1acb5d"
      },
      "source": [
        "df['Physics'].describe()"
      ],
      "execution_count": 61,
      "outputs": [
        {
          "output_type": "execute_result",
          "data": {
            "text/plain": [
              "count     35\n",
              "unique     7\n",
              "top       B+\n",
              "freq       9\n",
              "Name: Physics, dtype: object"
            ]
          },
          "metadata": {
            "tags": []
          },
          "execution_count": 61
        }
      ]
    },
    {
      "cell_type": "markdown",
      "metadata": {
        "id": "gHFX06ShSaQz",
        "colab_type": "text"
      },
      "source": [
        "### 5. idxmax和nlargest\n",
        "#### idxmax函数返回最大值所在索引，在某些情况下特别适用，idxmin功能类似"
      ]
    },
    {
      "cell_type": "code",
      "metadata": {
        "id": "wHhFVsRmSaQz",
        "colab_type": "code",
        "colab": {
          "base_uri": "https://localhost:8080/",
          "height": 34
        },
        "outputId": "e18b2f7f-e8cc-4684-fdcd-32e04d893fce"
      },
      "source": [
        "df['Math'].idxmax()"
      ],
      "execution_count": 62,
      "outputs": [
        {
          "output_type": "execute_result",
          "data": {
            "text/plain": [
              "5"
            ]
          },
          "metadata": {
            "tags": []
          },
          "execution_count": 62
        }
      ]
    },
    {
      "cell_type": "markdown",
      "metadata": {
        "id": "SWQPEfx0SaQ0",
        "colab_type": "text"
      },
      "source": [
        "#### nlargest函数返回前几个大的元素值，nsmallest功能类似"
      ]
    },
    {
      "cell_type": "code",
      "metadata": {
        "id": "ZuZm8B6fSaQ1",
        "colab_type": "code",
        "colab": {
          "base_uri": "https://localhost:8080/",
          "height": 85
        },
        "outputId": "75e17010-7d76-492e-96ba-f69323e5ef7b"
      },
      "source": [
        "df['Math'].nlargest(3)"
      ],
      "execution_count": 63,
      "outputs": [
        {
          "output_type": "execute_result",
          "data": {
            "text/plain": [
              "5     97.0\n",
              "28    95.5\n",
              "11    87.7\n",
              "Name: Math, dtype: float64"
            ]
          },
          "metadata": {
            "tags": []
          },
          "execution_count": 63
        }
      ]
    },
    {
      "cell_type": "markdown",
      "metadata": {
        "id": "NJWEc6QiSaQ3",
        "colab_type": "text"
      },
      "source": [
        "### 6. clip和replace"
      ]
    },
    {
      "cell_type": "markdown",
      "metadata": {
        "id": "3SPbcdNySaQ3",
        "colab_type": "text"
      },
      "source": [
        "#### clip和replace是两类替换函数\n",
        "#### clip是对超过或者低于某些值的数进行截断"
      ]
    },
    {
      "cell_type": "code",
      "metadata": {
        "id": "DA63uISxSaQ3",
        "colab_type": "code",
        "colab": {
          "base_uri": "https://localhost:8080/",
          "height": 119
        },
        "outputId": "b37738a9-0486-4b6d-dbcf-c24f3025ba62"
      },
      "source": [
        "df['Math'].head()"
      ],
      "execution_count": 64,
      "outputs": [
        {
          "output_type": "execute_result",
          "data": {
            "text/plain": [
              "0    34.0\n",
              "1    32.5\n",
              "2    87.2\n",
              "3    80.4\n",
              "4    84.8\n",
              "Name: Math, dtype: float64"
            ]
          },
          "metadata": {
            "tags": []
          },
          "execution_count": 64
        }
      ]
    },
    {
      "cell_type": "code",
      "metadata": {
        "id": "w0XZomx6SaQ5",
        "colab_type": "code",
        "colab": {
          "base_uri": "https://localhost:8080/",
          "height": 119
        },
        "outputId": "58a1419d-7a78-4a65-85bc-25586da2f61c"
      },
      "source": [
        "df['Math'].clip(33,80).head()"
      ],
      "execution_count": 65,
      "outputs": [
        {
          "output_type": "execute_result",
          "data": {
            "text/plain": [
              "0    34.0\n",
              "1    33.0\n",
              "2    80.0\n",
              "3    80.0\n",
              "4    80.0\n",
              "Name: Math, dtype: float64"
            ]
          },
          "metadata": {
            "tags": []
          },
          "execution_count": 65
        }
      ]
    },
    {
      "cell_type": "code",
      "metadata": {
        "id": "wXy3vNdiSaQ7",
        "colab_type": "code",
        "colab": {
          "base_uri": "https://localhost:8080/",
          "height": 34
        },
        "outputId": "6175cb59-0278-492d-c1a2-2a098e9c7a88"
      },
      "source": [
        "df['Math'].mad()"
      ],
      "execution_count": 66,
      "outputs": [
        {
          "output_type": "execute_result",
          "data": {
            "text/plain": [
              "16.924244897959188"
            ]
          },
          "metadata": {
            "tags": []
          },
          "execution_count": 66
        }
      ]
    },
    {
      "cell_type": "markdown",
      "metadata": {
        "id": "PKdqto0RSaQ8",
        "colab_type": "text"
      },
      "source": [
        "#### replace是对某些值进行替换"
      ]
    },
    {
      "cell_type": "code",
      "metadata": {
        "id": "EJL27XfpSaQ8",
        "colab_type": "code",
        "colab": {
          "base_uri": "https://localhost:8080/",
          "height": 119
        },
        "outputId": "78d89c58-2757-4ecd-ad2e-fc98e86d84d3"
      },
      "source": [
        "df['Address'].head()"
      ],
      "execution_count": 67,
      "outputs": [
        {
          "output_type": "execute_result",
          "data": {
            "text/plain": [
              "0    street_1\n",
              "1    street_2\n",
              "2    street_2\n",
              "3    street_2\n",
              "4    street_4\n",
              "Name: Address, dtype: object"
            ]
          },
          "metadata": {
            "tags": []
          },
          "execution_count": 67
        }
      ]
    },
    {
      "cell_type": "code",
      "metadata": {
        "id": "3jlYpTaFSaQ9",
        "colab_type": "code",
        "colab": {
          "base_uri": "https://localhost:8080/",
          "height": 119
        },
        "outputId": "5aeb6e7f-78eb-4960-d078-5df3de8fe874"
      },
      "source": [
        "df['Address'].replace(['street_1','street_2'],['one','two']).head()"
      ],
      "execution_count": 68,
      "outputs": [
        {
          "output_type": "execute_result",
          "data": {
            "text/plain": [
              "0         one\n",
              "1         two\n",
              "2         two\n",
              "3         two\n",
              "4    street_4\n",
              "Name: Address, dtype: object"
            ]
          },
          "metadata": {
            "tags": []
          },
          "execution_count": 68
        }
      ]
    },
    {
      "cell_type": "markdown",
      "metadata": {
        "id": "g7Zz4Jc0SaQ_",
        "colab_type": "text"
      },
      "source": [
        "#### 通过字典，可以直接在表中修改"
      ]
    },
    {
      "cell_type": "code",
      "metadata": {
        "id": "7fK2V_9VSaQ_",
        "colab_type": "code",
        "colab": {
          "base_uri": "https://localhost:8080/",
          "height": 204
        },
        "outputId": "a89055ae-075a-4ac6-e591-662f1220f1a9"
      },
      "source": [
        "df.replace({'Address':{'street_1':'one','street_2':'two'}}).head()"
      ],
      "execution_count": 69,
      "outputs": [
        {
          "output_type": "execute_result",
          "data": {
            "text/html": [
              "<div>\n",
              "<style scoped>\n",
              "    .dataframe tbody tr th:only-of-type {\n",
              "        vertical-align: middle;\n",
              "    }\n",
              "\n",
              "    .dataframe tbody tr th {\n",
              "        vertical-align: top;\n",
              "    }\n",
              "\n",
              "    .dataframe thead th {\n",
              "        text-align: right;\n",
              "    }\n",
              "</style>\n",
              "<table border=\"1\" class=\"dataframe\">\n",
              "  <thead>\n",
              "    <tr style=\"text-align: right;\">\n",
              "      <th></th>\n",
              "      <th>School</th>\n",
              "      <th>Class</th>\n",
              "      <th>ID</th>\n",
              "      <th>Gender</th>\n",
              "      <th>Address</th>\n",
              "      <th>Height</th>\n",
              "      <th>Weight</th>\n",
              "      <th>Math</th>\n",
              "      <th>Physics</th>\n",
              "    </tr>\n",
              "  </thead>\n",
              "  <tbody>\n",
              "    <tr>\n",
              "      <th>0</th>\n",
              "      <td>S_1</td>\n",
              "      <td>C_1</td>\n",
              "      <td>1101</td>\n",
              "      <td>M</td>\n",
              "      <td>one</td>\n",
              "      <td>173</td>\n",
              "      <td>63</td>\n",
              "      <td>34.0</td>\n",
              "      <td>A+</td>\n",
              "    </tr>\n",
              "    <tr>\n",
              "      <th>1</th>\n",
              "      <td>S_1</td>\n",
              "      <td>C_1</td>\n",
              "      <td>1102</td>\n",
              "      <td>F</td>\n",
              "      <td>two</td>\n",
              "      <td>192</td>\n",
              "      <td>73</td>\n",
              "      <td>32.5</td>\n",
              "      <td>B+</td>\n",
              "    </tr>\n",
              "    <tr>\n",
              "      <th>2</th>\n",
              "      <td>S_1</td>\n",
              "      <td>C_1</td>\n",
              "      <td>1103</td>\n",
              "      <td>M</td>\n",
              "      <td>two</td>\n",
              "      <td>186</td>\n",
              "      <td>82</td>\n",
              "      <td>87.2</td>\n",
              "      <td>B+</td>\n",
              "    </tr>\n",
              "    <tr>\n",
              "      <th>3</th>\n",
              "      <td>S_1</td>\n",
              "      <td>C_1</td>\n",
              "      <td>1104</td>\n",
              "      <td>F</td>\n",
              "      <td>two</td>\n",
              "      <td>167</td>\n",
              "      <td>81</td>\n",
              "      <td>80.4</td>\n",
              "      <td>B-</td>\n",
              "    </tr>\n",
              "    <tr>\n",
              "      <th>4</th>\n",
              "      <td>S_1</td>\n",
              "      <td>C_1</td>\n",
              "      <td>1105</td>\n",
              "      <td>F</td>\n",
              "      <td>street_4</td>\n",
              "      <td>159</td>\n",
              "      <td>64</td>\n",
              "      <td>84.8</td>\n",
              "      <td>B+</td>\n",
              "    </tr>\n",
              "  </tbody>\n",
              "</table>\n",
              "</div>"
            ],
            "text/plain": [
              "  School Class    ID Gender   Address  Height  Weight  Math Physics\n",
              "0    S_1   C_1  1101      M       one     173      63  34.0      A+\n",
              "1    S_1   C_1  1102      F       two     192      73  32.5      B+\n",
              "2    S_1   C_1  1103      M       two     186      82  87.2      B+\n",
              "3    S_1   C_1  1104      F       two     167      81  80.4      B-\n",
              "4    S_1   C_1  1105      F  street_4     159      64  84.8      B+"
            ]
          },
          "metadata": {
            "tags": []
          },
          "execution_count": 69
        }
      ]
    },
    {
      "cell_type": "markdown",
      "metadata": {
        "id": "RIkEUgYXSaRB",
        "colab_type": "text"
      },
      "source": [
        "### 7. apply函数\n",
        "#### apply是一个自由度很高的函数，在第3章我们还要提到\n",
        "#### 对于Series，它可以迭代每一列的值操作："
      ]
    },
    {
      "cell_type": "code",
      "metadata": {
        "id": "nDSgu-sxSaRB",
        "colab_type": "code",
        "colab": {
          "base_uri": "https://localhost:8080/",
          "height": 119
        },
        "outputId": "917cfff2-8b21-43c8-bd97-4155667bf386"
      },
      "source": [
        "df['Math'].apply(lambda x:str(x)+'!').head() #可以使用lambda表达式，也可以使用函数"
      ],
      "execution_count": 70,
      "outputs": [
        {
          "output_type": "execute_result",
          "data": {
            "text/plain": [
              "0    34.0!\n",
              "1    32.5!\n",
              "2    87.2!\n",
              "3    80.4!\n",
              "4    84.8!\n",
              "Name: Math, dtype: object"
            ]
          },
          "metadata": {
            "tags": []
          },
          "execution_count": 70
        }
      ]
    },
    {
      "cell_type": "markdown",
      "metadata": {
        "id": "5V-VAI0zSaRC",
        "colab_type": "text"
      },
      "source": [
        "#### 对于DataFrame，它可以迭代每一个列操作："
      ]
    },
    {
      "cell_type": "code",
      "metadata": {
        "id": "cZ04bGWNSaRD",
        "colab_type": "code",
        "colab": {
          "base_uri": "https://localhost:8080/",
          "height": 204
        },
        "outputId": "916f5470-2ea9-4beb-94bd-467993fcb2d4"
      },
      "source": [
        "df.apply(lambda x:x.apply(lambda x:str(x)+'!')).head() #这是一个稍显复杂的例子，有利于理解apply的功能"
      ],
      "execution_count": 71,
      "outputs": [
        {
          "output_type": "execute_result",
          "data": {
            "text/html": [
              "<div>\n",
              "<style scoped>\n",
              "    .dataframe tbody tr th:only-of-type {\n",
              "        vertical-align: middle;\n",
              "    }\n",
              "\n",
              "    .dataframe tbody tr th {\n",
              "        vertical-align: top;\n",
              "    }\n",
              "\n",
              "    .dataframe thead th {\n",
              "        text-align: right;\n",
              "    }\n",
              "</style>\n",
              "<table border=\"1\" class=\"dataframe\">\n",
              "  <thead>\n",
              "    <tr style=\"text-align: right;\">\n",
              "      <th></th>\n",
              "      <th>School</th>\n",
              "      <th>Class</th>\n",
              "      <th>ID</th>\n",
              "      <th>Gender</th>\n",
              "      <th>Address</th>\n",
              "      <th>Height</th>\n",
              "      <th>Weight</th>\n",
              "      <th>Math</th>\n",
              "      <th>Physics</th>\n",
              "    </tr>\n",
              "  </thead>\n",
              "  <tbody>\n",
              "    <tr>\n",
              "      <th>0</th>\n",
              "      <td>S_1!</td>\n",
              "      <td>C_1!</td>\n",
              "      <td>1101!</td>\n",
              "      <td>M!</td>\n",
              "      <td>street_1!</td>\n",
              "      <td>173!</td>\n",
              "      <td>63!</td>\n",
              "      <td>34.0!</td>\n",
              "      <td>A+!</td>\n",
              "    </tr>\n",
              "    <tr>\n",
              "      <th>1</th>\n",
              "      <td>S_1!</td>\n",
              "      <td>C_1!</td>\n",
              "      <td>1102!</td>\n",
              "      <td>F!</td>\n",
              "      <td>street_2!</td>\n",
              "      <td>192!</td>\n",
              "      <td>73!</td>\n",
              "      <td>32.5!</td>\n",
              "      <td>B+!</td>\n",
              "    </tr>\n",
              "    <tr>\n",
              "      <th>2</th>\n",
              "      <td>S_1!</td>\n",
              "      <td>C_1!</td>\n",
              "      <td>1103!</td>\n",
              "      <td>M!</td>\n",
              "      <td>street_2!</td>\n",
              "      <td>186!</td>\n",
              "      <td>82!</td>\n",
              "      <td>87.2!</td>\n",
              "      <td>B+!</td>\n",
              "    </tr>\n",
              "    <tr>\n",
              "      <th>3</th>\n",
              "      <td>S_1!</td>\n",
              "      <td>C_1!</td>\n",
              "      <td>1104!</td>\n",
              "      <td>F!</td>\n",
              "      <td>street_2!</td>\n",
              "      <td>167!</td>\n",
              "      <td>81!</td>\n",
              "      <td>80.4!</td>\n",
              "      <td>B-!</td>\n",
              "    </tr>\n",
              "    <tr>\n",
              "      <th>4</th>\n",
              "      <td>S_1!</td>\n",
              "      <td>C_1!</td>\n",
              "      <td>1105!</td>\n",
              "      <td>F!</td>\n",
              "      <td>street_4!</td>\n",
              "      <td>159!</td>\n",
              "      <td>64!</td>\n",
              "      <td>84.8!</td>\n",
              "      <td>B+!</td>\n",
              "    </tr>\n",
              "  </tbody>\n",
              "</table>\n",
              "</div>"
            ],
            "text/plain": [
              "  School Class     ID Gender    Address Height Weight   Math Physics\n",
              "0   S_1!  C_1!  1101!     M!  street_1!   173!    63!  34.0!     A+!\n",
              "1   S_1!  C_1!  1102!     F!  street_2!   192!    73!  32.5!     B+!\n",
              "2   S_1!  C_1!  1103!     M!  street_2!   186!    82!  87.2!     B+!\n",
              "3   S_1!  C_1!  1104!     F!  street_2!   167!    81!  80.4!     B-!\n",
              "4   S_1!  C_1!  1105!     F!  street_4!   159!    64!  84.8!     B+!"
            ]
          },
          "metadata": {
            "tags": []
          },
          "execution_count": 71
        }
      ]
    },
    {
      "cell_type": "markdown",
      "metadata": {
        "id": "x1iMqCzUSaRE",
        "colab_type": "text"
      },
      "source": [
        "## 四、排序"
      ]
    },
    {
      "cell_type": "markdown",
      "metadata": {
        "id": "Zr2TZKydSaRE",
        "colab_type": "text"
      },
      "source": [
        "### 1. 索引排序"
      ]
    },
    {
      "cell_type": "code",
      "metadata": {
        "id": "qzlbC9VRSaRE",
        "colab_type": "code",
        "colab": {
          "base_uri": "https://localhost:8080/",
          "height": 235
        },
        "outputId": "66b6df2b-06ec-4efe-9ddc-757c96d92aa0"
      },
      "source": [
        "df.set_index('Math').head() #set_index函数可以设置索引，将在下一章详细介绍"
      ],
      "execution_count": 72,
      "outputs": [
        {
          "output_type": "execute_result",
          "data": {
            "text/html": [
              "<div>\n",
              "<style scoped>\n",
              "    .dataframe tbody tr th:only-of-type {\n",
              "        vertical-align: middle;\n",
              "    }\n",
              "\n",
              "    .dataframe tbody tr th {\n",
              "        vertical-align: top;\n",
              "    }\n",
              "\n",
              "    .dataframe thead th {\n",
              "        text-align: right;\n",
              "    }\n",
              "</style>\n",
              "<table border=\"1\" class=\"dataframe\">\n",
              "  <thead>\n",
              "    <tr style=\"text-align: right;\">\n",
              "      <th></th>\n",
              "      <th>School</th>\n",
              "      <th>Class</th>\n",
              "      <th>ID</th>\n",
              "      <th>Gender</th>\n",
              "      <th>Address</th>\n",
              "      <th>Height</th>\n",
              "      <th>Weight</th>\n",
              "      <th>Physics</th>\n",
              "    </tr>\n",
              "    <tr>\n",
              "      <th>Math</th>\n",
              "      <th></th>\n",
              "      <th></th>\n",
              "      <th></th>\n",
              "      <th></th>\n",
              "      <th></th>\n",
              "      <th></th>\n",
              "      <th></th>\n",
              "      <th></th>\n",
              "    </tr>\n",
              "  </thead>\n",
              "  <tbody>\n",
              "    <tr>\n",
              "      <th>34.0</th>\n",
              "      <td>S_1</td>\n",
              "      <td>C_1</td>\n",
              "      <td>1101</td>\n",
              "      <td>M</td>\n",
              "      <td>street_1</td>\n",
              "      <td>173</td>\n",
              "      <td>63</td>\n",
              "      <td>A+</td>\n",
              "    </tr>\n",
              "    <tr>\n",
              "      <th>32.5</th>\n",
              "      <td>S_1</td>\n",
              "      <td>C_1</td>\n",
              "      <td>1102</td>\n",
              "      <td>F</td>\n",
              "      <td>street_2</td>\n",
              "      <td>192</td>\n",
              "      <td>73</td>\n",
              "      <td>B+</td>\n",
              "    </tr>\n",
              "    <tr>\n",
              "      <th>87.2</th>\n",
              "      <td>S_1</td>\n",
              "      <td>C_1</td>\n",
              "      <td>1103</td>\n",
              "      <td>M</td>\n",
              "      <td>street_2</td>\n",
              "      <td>186</td>\n",
              "      <td>82</td>\n",
              "      <td>B+</td>\n",
              "    </tr>\n",
              "    <tr>\n",
              "      <th>80.4</th>\n",
              "      <td>S_1</td>\n",
              "      <td>C_1</td>\n",
              "      <td>1104</td>\n",
              "      <td>F</td>\n",
              "      <td>street_2</td>\n",
              "      <td>167</td>\n",
              "      <td>81</td>\n",
              "      <td>B-</td>\n",
              "    </tr>\n",
              "    <tr>\n",
              "      <th>84.8</th>\n",
              "      <td>S_1</td>\n",
              "      <td>C_1</td>\n",
              "      <td>1105</td>\n",
              "      <td>F</td>\n",
              "      <td>street_4</td>\n",
              "      <td>159</td>\n",
              "      <td>64</td>\n",
              "      <td>B+</td>\n",
              "    </tr>\n",
              "  </tbody>\n",
              "</table>\n",
              "</div>"
            ],
            "text/plain": [
              "     School Class    ID Gender   Address  Height  Weight Physics\n",
              "Math                                                            \n",
              "34.0    S_1   C_1  1101      M  street_1     173      63      A+\n",
              "32.5    S_1   C_1  1102      F  street_2     192      73      B+\n",
              "87.2    S_1   C_1  1103      M  street_2     186      82      B+\n",
              "80.4    S_1   C_1  1104      F  street_2     167      81      B-\n",
              "84.8    S_1   C_1  1105      F  street_4     159      64      B+"
            ]
          },
          "metadata": {
            "tags": []
          },
          "execution_count": 72
        }
      ]
    },
    {
      "cell_type": "code",
      "metadata": {
        "id": "nWoVX4bZSaRH",
        "colab_type": "code",
        "colab": {
          "base_uri": "https://localhost:8080/",
          "height": 235
        },
        "outputId": "c3a914bb-07cd-4e60-e936-f55fb6e08213"
      },
      "source": [
        "df.set_index('Math').sort_index().head() #可以设置ascending参数，默认为升序，True"
      ],
      "execution_count": 73,
      "outputs": [
        {
          "output_type": "execute_result",
          "data": {
            "text/html": [
              "<div>\n",
              "<style scoped>\n",
              "    .dataframe tbody tr th:only-of-type {\n",
              "        vertical-align: middle;\n",
              "    }\n",
              "\n",
              "    .dataframe tbody tr th {\n",
              "        vertical-align: top;\n",
              "    }\n",
              "\n",
              "    .dataframe thead th {\n",
              "        text-align: right;\n",
              "    }\n",
              "</style>\n",
              "<table border=\"1\" class=\"dataframe\">\n",
              "  <thead>\n",
              "    <tr style=\"text-align: right;\">\n",
              "      <th></th>\n",
              "      <th>School</th>\n",
              "      <th>Class</th>\n",
              "      <th>ID</th>\n",
              "      <th>Gender</th>\n",
              "      <th>Address</th>\n",
              "      <th>Height</th>\n",
              "      <th>Weight</th>\n",
              "      <th>Physics</th>\n",
              "    </tr>\n",
              "    <tr>\n",
              "      <th>Math</th>\n",
              "      <th></th>\n",
              "      <th></th>\n",
              "      <th></th>\n",
              "      <th></th>\n",
              "      <th></th>\n",
              "      <th></th>\n",
              "      <th></th>\n",
              "      <th></th>\n",
              "    </tr>\n",
              "  </thead>\n",
              "  <tbody>\n",
              "    <tr>\n",
              "      <th>31.5</th>\n",
              "      <td>S_1</td>\n",
              "      <td>C_3</td>\n",
              "      <td>1301</td>\n",
              "      <td>M</td>\n",
              "      <td>street_4</td>\n",
              "      <td>161</td>\n",
              "      <td>68</td>\n",
              "      <td>B+</td>\n",
              "    </tr>\n",
              "    <tr>\n",
              "      <th>32.5</th>\n",
              "      <td>S_1</td>\n",
              "      <td>C_1</td>\n",
              "      <td>1102</td>\n",
              "      <td>F</td>\n",
              "      <td>street_2</td>\n",
              "      <td>192</td>\n",
              "      <td>73</td>\n",
              "      <td>B+</td>\n",
              "    </tr>\n",
              "    <tr>\n",
              "      <th>32.7</th>\n",
              "      <td>S_2</td>\n",
              "      <td>C_3</td>\n",
              "      <td>2302</td>\n",
              "      <td>M</td>\n",
              "      <td>street_5</td>\n",
              "      <td>171</td>\n",
              "      <td>88</td>\n",
              "      <td>A</td>\n",
              "    </tr>\n",
              "    <tr>\n",
              "      <th>33.8</th>\n",
              "      <td>S_1</td>\n",
              "      <td>C_2</td>\n",
              "      <td>1204</td>\n",
              "      <td>F</td>\n",
              "      <td>street_5</td>\n",
              "      <td>162</td>\n",
              "      <td>63</td>\n",
              "      <td>B</td>\n",
              "    </tr>\n",
              "    <tr>\n",
              "      <th>34.0</th>\n",
              "      <td>S_1</td>\n",
              "      <td>C_1</td>\n",
              "      <td>1101</td>\n",
              "      <td>M</td>\n",
              "      <td>street_1</td>\n",
              "      <td>173</td>\n",
              "      <td>63</td>\n",
              "      <td>A+</td>\n",
              "    </tr>\n",
              "  </tbody>\n",
              "</table>\n",
              "</div>"
            ],
            "text/plain": [
              "     School Class    ID Gender   Address  Height  Weight Physics\n",
              "Math                                                            \n",
              "31.5    S_1   C_3  1301      M  street_4     161      68      B+\n",
              "32.5    S_1   C_1  1102      F  street_2     192      73      B+\n",
              "32.7    S_2   C_3  2302      M  street_5     171      88       A\n",
              "33.8    S_1   C_2  1204      F  street_5     162      63       B\n",
              "34.0    S_1   C_1  1101      M  street_1     173      63      A+"
            ]
          },
          "metadata": {
            "tags": []
          },
          "execution_count": 73
        }
      ]
    },
    {
      "cell_type": "markdown",
      "metadata": {
        "id": "VjOk3n9XSaRI",
        "colab_type": "text"
      },
      "source": [
        "### 2. 值排序"
      ]
    },
    {
      "cell_type": "code",
      "metadata": {
        "id": "IA2dBqDoSaRI",
        "colab_type": "code",
        "colab": {
          "base_uri": "https://localhost:8080/",
          "height": 204
        },
        "outputId": "ae66f8d7-08a5-4b39-b994-963fb23be319"
      },
      "source": [
        "df.sort_values(by='Class').head()"
      ],
      "execution_count": 74,
      "outputs": [
        {
          "output_type": "execute_result",
          "data": {
            "text/html": [
              "<div>\n",
              "<style scoped>\n",
              "    .dataframe tbody tr th:only-of-type {\n",
              "        vertical-align: middle;\n",
              "    }\n",
              "\n",
              "    .dataframe tbody tr th {\n",
              "        vertical-align: top;\n",
              "    }\n",
              "\n",
              "    .dataframe thead th {\n",
              "        text-align: right;\n",
              "    }\n",
              "</style>\n",
              "<table border=\"1\" class=\"dataframe\">\n",
              "  <thead>\n",
              "    <tr style=\"text-align: right;\">\n",
              "      <th></th>\n",
              "      <th>School</th>\n",
              "      <th>Class</th>\n",
              "      <th>ID</th>\n",
              "      <th>Gender</th>\n",
              "      <th>Address</th>\n",
              "      <th>Height</th>\n",
              "      <th>Weight</th>\n",
              "      <th>Math</th>\n",
              "      <th>Physics</th>\n",
              "    </tr>\n",
              "  </thead>\n",
              "  <tbody>\n",
              "    <tr>\n",
              "      <th>0</th>\n",
              "      <td>S_1</td>\n",
              "      <td>C_1</td>\n",
              "      <td>1101</td>\n",
              "      <td>M</td>\n",
              "      <td>street_1</td>\n",
              "      <td>173</td>\n",
              "      <td>63</td>\n",
              "      <td>34.0</td>\n",
              "      <td>A+</td>\n",
              "    </tr>\n",
              "    <tr>\n",
              "      <th>19</th>\n",
              "      <td>S_2</td>\n",
              "      <td>C_1</td>\n",
              "      <td>2105</td>\n",
              "      <td>M</td>\n",
              "      <td>street_4</td>\n",
              "      <td>170</td>\n",
              "      <td>81</td>\n",
              "      <td>34.2</td>\n",
              "      <td>A</td>\n",
              "    </tr>\n",
              "    <tr>\n",
              "      <th>18</th>\n",
              "      <td>S_2</td>\n",
              "      <td>C_1</td>\n",
              "      <td>2104</td>\n",
              "      <td>F</td>\n",
              "      <td>street_5</td>\n",
              "      <td>159</td>\n",
              "      <td>97</td>\n",
              "      <td>72.2</td>\n",
              "      <td>B+</td>\n",
              "    </tr>\n",
              "    <tr>\n",
              "      <th>16</th>\n",
              "      <td>S_2</td>\n",
              "      <td>C_1</td>\n",
              "      <td>2102</td>\n",
              "      <td>F</td>\n",
              "      <td>street_6</td>\n",
              "      <td>161</td>\n",
              "      <td>61</td>\n",
              "      <td>50.6</td>\n",
              "      <td>B+</td>\n",
              "    </tr>\n",
              "    <tr>\n",
              "      <th>15</th>\n",
              "      <td>S_2</td>\n",
              "      <td>C_1</td>\n",
              "      <td>2101</td>\n",
              "      <td>M</td>\n",
              "      <td>street_7</td>\n",
              "      <td>174</td>\n",
              "      <td>84</td>\n",
              "      <td>83.3</td>\n",
              "      <td>C</td>\n",
              "    </tr>\n",
              "  </tbody>\n",
              "</table>\n",
              "</div>"
            ],
            "text/plain": [
              "   School Class    ID Gender   Address  Height  Weight  Math Physics\n",
              "0     S_1   C_1  1101      M  street_1     173      63  34.0      A+\n",
              "19    S_2   C_1  2105      M  street_4     170      81  34.2       A\n",
              "18    S_2   C_1  2104      F  street_5     159      97  72.2      B+\n",
              "16    S_2   C_1  2102      F  street_6     161      61  50.6      B+\n",
              "15    S_2   C_1  2101      M  street_7     174      84  83.3       C"
            ]
          },
          "metadata": {
            "tags": []
          },
          "execution_count": 74
        }
      ]
    },
    {
      "cell_type": "markdown",
      "metadata": {
        "id": "ONICL3GASaRK",
        "colab_type": "text"
      },
      "source": [
        "#### 多个值排序，即先对第一层排，在第一层相同的情况下对第二层排序"
      ]
    },
    {
      "cell_type": "code",
      "metadata": {
        "id": "TF1GSx3xSaRK",
        "colab_type": "code",
        "colab": {
          "base_uri": "https://localhost:8080/",
          "height": 204
        },
        "outputId": "36b4b8ce-159f-43fe-9420-018e54275127"
      },
      "source": [
        "df.sort_values(by=['Address','Height']).head()"
      ],
      "execution_count": 75,
      "outputs": [
        {
          "output_type": "execute_result",
          "data": {
            "text/html": [
              "<div>\n",
              "<style scoped>\n",
              "    .dataframe tbody tr th:only-of-type {\n",
              "        vertical-align: middle;\n",
              "    }\n",
              "\n",
              "    .dataframe tbody tr th {\n",
              "        vertical-align: top;\n",
              "    }\n",
              "\n",
              "    .dataframe thead th {\n",
              "        text-align: right;\n",
              "    }\n",
              "</style>\n",
              "<table border=\"1\" class=\"dataframe\">\n",
              "  <thead>\n",
              "    <tr style=\"text-align: right;\">\n",
              "      <th></th>\n",
              "      <th>School</th>\n",
              "      <th>Class</th>\n",
              "      <th>ID</th>\n",
              "      <th>Gender</th>\n",
              "      <th>Address</th>\n",
              "      <th>Height</th>\n",
              "      <th>Weight</th>\n",
              "      <th>Math</th>\n",
              "      <th>Physics</th>\n",
              "    </tr>\n",
              "  </thead>\n",
              "  <tbody>\n",
              "    <tr>\n",
              "      <th>0</th>\n",
              "      <td>S_1</td>\n",
              "      <td>C_1</td>\n",
              "      <td>1101</td>\n",
              "      <td>M</td>\n",
              "      <td>street_1</td>\n",
              "      <td>173</td>\n",
              "      <td>63</td>\n",
              "      <td>34.0</td>\n",
              "      <td>A+</td>\n",
              "    </tr>\n",
              "    <tr>\n",
              "      <th>11</th>\n",
              "      <td>S_1</td>\n",
              "      <td>C_3</td>\n",
              "      <td>1302</td>\n",
              "      <td>F</td>\n",
              "      <td>street_1</td>\n",
              "      <td>175</td>\n",
              "      <td>57</td>\n",
              "      <td>87.7</td>\n",
              "      <td>A-</td>\n",
              "    </tr>\n",
              "    <tr>\n",
              "      <th>23</th>\n",
              "      <td>S_2</td>\n",
              "      <td>C_2</td>\n",
              "      <td>2204</td>\n",
              "      <td>M</td>\n",
              "      <td>street_1</td>\n",
              "      <td>175</td>\n",
              "      <td>74</td>\n",
              "      <td>47.2</td>\n",
              "      <td>B-</td>\n",
              "    </tr>\n",
              "    <tr>\n",
              "      <th>33</th>\n",
              "      <td>S_2</td>\n",
              "      <td>C_4</td>\n",
              "      <td>2404</td>\n",
              "      <td>F</td>\n",
              "      <td>street_2</td>\n",
              "      <td>160</td>\n",
              "      <td>84</td>\n",
              "      <td>67.7</td>\n",
              "      <td>B</td>\n",
              "    </tr>\n",
              "    <tr>\n",
              "      <th>3</th>\n",
              "      <td>S_1</td>\n",
              "      <td>C_1</td>\n",
              "      <td>1104</td>\n",
              "      <td>F</td>\n",
              "      <td>street_2</td>\n",
              "      <td>167</td>\n",
              "      <td>81</td>\n",
              "      <td>80.4</td>\n",
              "      <td>B-</td>\n",
              "    </tr>\n",
              "  </tbody>\n",
              "</table>\n",
              "</div>"
            ],
            "text/plain": [
              "   School Class    ID Gender   Address  Height  Weight  Math Physics\n",
              "0     S_1   C_1  1101      M  street_1     173      63  34.0      A+\n",
              "11    S_1   C_3  1302      F  street_1     175      57  87.7      A-\n",
              "23    S_2   C_2  2204      M  street_1     175      74  47.2      B-\n",
              "33    S_2   C_4  2404      F  street_2     160      84  67.7       B\n",
              "3     S_1   C_1  1104      F  street_2     167      81  80.4      B-"
            ]
          },
          "metadata": {
            "tags": []
          },
          "execution_count": 75
        }
      ]
    },
    {
      "cell_type": "markdown",
      "metadata": {
        "id": "YVr1aWzDSaRL",
        "colab_type": "text"
      },
      "source": [
        "## 五、问题与练习\n",
        "### 1. 问题\n",
        "#### 【问题一】 Series和DataFrame有哪些常见属性和方法？\n",
        "#### 【问题二】 value_counts会统计缺失值吗？\n",
        "#### 【问题三】 如果有多个索引同时取到最大值，idxmax会返回所有这些索引吗？如果不会，那么怎么返回这些索引？\n",
        "#### 【问题四】 在常用函数一节中，由于一些函数的功能比较简单，因此没有列入，现在将它们列在下面，请分别说明它们的用途并尝试使用。\n",
        "#### sum/mean/median/mad/min/max/abs/std/var/quantile/cummax/cumsum/cumprod\n",
        "#### 【问题五】 df.mean(axis=1)是什么意思？它与df.mean()的结果一样吗？问题四提到的函数也有axis参数吗？怎么使用？"
      ]
    },
    {
      "cell_type": "markdown",
      "metadata": {
        "id": "Jw-UIilLSaRM",
        "colab_type": "text"
      },
      "source": [
        "### 2. 练习\n",
        "#### 【练习一】 现有一份关于美剧《权力的游戏》剧本的数据集，请解决以下问题：\n",
        "#### （a）在所有的数据中，一共出现了多少人物？\n",
        "#### （b）以单元格计数（即简单把一个单元格视作一句），谁说了最多的话？\n",
        "#### （c）以单词计数，谁说了最多的单词？（不是单句单词最多，是指每人说过单词的总数最多，为了简便，只以空格为单词分界点，不考虑其他情况）"
      ]
    },
    {
      "cell_type": "code",
      "metadata": {
        "id": "zmp6p5pJSaRM",
        "colab_type": "code",
        "colab": {
          "base_uri": "https://localhost:8080/",
          "height": 204
        },
        "outputId": "04e3b21f-25c3-4f09-871a-edbe973dc147"
      },
      "source": [
        "pd.read_csv('data/Game_of_Thrones_Script.csv').head()"
      ],
      "execution_count": 77,
      "outputs": [
        {
          "output_type": "execute_result",
          "data": {
            "text/html": [
              "<div>\n",
              "<style scoped>\n",
              "    .dataframe tbody tr th:only-of-type {\n",
              "        vertical-align: middle;\n",
              "    }\n",
              "\n",
              "    .dataframe tbody tr th {\n",
              "        vertical-align: top;\n",
              "    }\n",
              "\n",
              "    .dataframe thead th {\n",
              "        text-align: right;\n",
              "    }\n",
              "</style>\n",
              "<table border=\"1\" class=\"dataframe\">\n",
              "  <thead>\n",
              "    <tr style=\"text-align: right;\">\n",
              "      <th></th>\n",
              "      <th>Release Date</th>\n",
              "      <th>Season</th>\n",
              "      <th>Episode</th>\n",
              "      <th>Episode Title</th>\n",
              "      <th>Name</th>\n",
              "      <th>Sentence</th>\n",
              "    </tr>\n",
              "  </thead>\n",
              "  <tbody>\n",
              "    <tr>\n",
              "      <th>0</th>\n",
              "      <td>2011/4/17</td>\n",
              "      <td>Season 1</td>\n",
              "      <td>Episode 1</td>\n",
              "      <td>Winter is Coming</td>\n",
              "      <td>waymar royce</td>\n",
              "      <td>What do you expect? They're savages. One lot s...</td>\n",
              "    </tr>\n",
              "    <tr>\n",
              "      <th>1</th>\n",
              "      <td>2011/4/17</td>\n",
              "      <td>Season 1</td>\n",
              "      <td>Episode 1</td>\n",
              "      <td>Winter is Coming</td>\n",
              "      <td>will</td>\n",
              "      <td>I've never seen wildlings do a thing like this...</td>\n",
              "    </tr>\n",
              "    <tr>\n",
              "      <th>2</th>\n",
              "      <td>2011/4/17</td>\n",
              "      <td>Season 1</td>\n",
              "      <td>Episode 1</td>\n",
              "      <td>Winter is Coming</td>\n",
              "      <td>waymar royce</td>\n",
              "      <td>How close did you get?</td>\n",
              "    </tr>\n",
              "    <tr>\n",
              "      <th>3</th>\n",
              "      <td>2011/4/17</td>\n",
              "      <td>Season 1</td>\n",
              "      <td>Episode 1</td>\n",
              "      <td>Winter is Coming</td>\n",
              "      <td>will</td>\n",
              "      <td>Close as any man would.</td>\n",
              "    </tr>\n",
              "    <tr>\n",
              "      <th>4</th>\n",
              "      <td>2011/4/17</td>\n",
              "      <td>Season 1</td>\n",
              "      <td>Episode 1</td>\n",
              "      <td>Winter is Coming</td>\n",
              "      <td>gared</td>\n",
              "      <td>We should head back to the wall.</td>\n",
              "    </tr>\n",
              "  </tbody>\n",
              "</table>\n",
              "</div>"
            ],
            "text/plain": [
              "  Release Date  ...                                           Sentence\n",
              "0    2011/4/17  ...  What do you expect? They're savages. One lot s...\n",
              "1    2011/4/17  ...  I've never seen wildlings do a thing like this...\n",
              "2    2011/4/17  ...                             How close did you get?\n",
              "3    2011/4/17  ...                            Close as any man would.\n",
              "4    2011/4/17  ...                   We should head back to the wall.\n",
              "\n",
              "[5 rows x 6 columns]"
            ]
          },
          "metadata": {
            "tags": []
          },
          "execution_count": 77
        }
      ]
    },
    {
      "cell_type": "code",
      "metadata": {
        "id": "Ms4TnGJXU6sl",
        "colab_type": "code",
        "colab": {}
      },
      "source": [
        "game_of_thornes=pd.read_csv('data/Game_of_Thrones_Script.csv')"
      ],
      "execution_count": 0,
      "outputs": []
    },
    {
      "cell_type": "markdown",
      "metadata": {
        "id": "ZY9yvt_pWjmt",
        "colab_type": "text"
      },
      "source": [
        "(a) 一共出现了564个人物"
      ]
    },
    {
      "cell_type": "code",
      "metadata": {
        "id": "z6xKi7pGVLOW",
        "colab_type": "code",
        "colab": {
          "base_uri": "https://localhost:8080/",
          "height": 34
        },
        "outputId": "e7d9c447-0040-4b88-bc86-c4383e59a14c"
      },
      "source": [
        "game_of_thornes['Name'].nunique()"
      ],
      "execution_count": 83,
      "outputs": [
        {
          "output_type": "execute_result",
          "data": {
            "text/plain": [
              "564"
            ]
          },
          "metadata": {
            "tags": []
          },
          "execution_count": 83
        }
      ]
    },
    {
      "cell_type": "markdown",
      "metadata": {
        "id": "u0mNE1M8XELw",
        "colab_type": "text"
      },
      "source": [
        "(b) 以单元格计数（即简单把一个单元格视作一句），谁说了最多的话？\n",
        "首先将这些句子所对应的人物来比较"
      ]
    },
    {
      "cell_type": "markdown",
      "metadata": {
        "id": "pgyCAmqbSaRN",
        "colab_type": "text"
      },
      "source": [
        "#### 【练习二】现有一份关于科比的投篮数据集，请解决如下问题：\n",
        "#### （a）哪种action_type和combined_shot_type的组合是最多的？\n",
        "#### （b）在所有被记录的game_id中，遭遇到最多的opponent是一个支？（由于一场比赛会有许多次投篮，但对阵的对手只有一个，本题相当于问科比和哪个队交锋次数最多）"
      ]
    },
    {
      "cell_type": "code",
      "metadata": {
        "id": "yn7AtfCJSaRN",
        "colab_type": "code",
        "colab": {},
        "outputId": "accd8d03-fa66-4218-9c8e-a36ea8947c78"
      },
      "source": [
        "pd.read_csv('data/Kobe_data.csv',index_col='shot_id').head()\n",
        "#index_col的作用是将某一列作为行索引"
      ],
      "execution_count": 0,
      "outputs": [
        {
          "output_type": "execute_result",
          "data": {
            "text/html": [
              "<div>\n",
              "<style scoped>\n",
              "    .dataframe tbody tr th:only-of-type {\n",
              "        vertical-align: middle;\n",
              "    }\n",
              "\n",
              "    .dataframe tbody tr th {\n",
              "        vertical-align: top;\n",
              "    }\n",
              "\n",
              "    .dataframe thead th {\n",
              "        text-align: right;\n",
              "    }\n",
              "</style>\n",
              "<table border=\"1\" class=\"dataframe\">\n",
              "  <thead>\n",
              "    <tr style=\"text-align: right;\">\n",
              "      <th></th>\n",
              "      <th>action_type</th>\n",
              "      <th>combined_shot_type</th>\n",
              "      <th>game_event_id</th>\n",
              "      <th>game_id</th>\n",
              "      <th>lat</th>\n",
              "      <th>loc_x</th>\n",
              "      <th>loc_y</th>\n",
              "      <th>lon</th>\n",
              "      <th>minutes_remaining</th>\n",
              "      <th>period</th>\n",
              "      <th>...</th>\n",
              "      <th>shot_made_flag</th>\n",
              "      <th>shot_type</th>\n",
              "      <th>shot_zone_area</th>\n",
              "      <th>shot_zone_basic</th>\n",
              "      <th>shot_zone_range</th>\n",
              "      <th>team_id</th>\n",
              "      <th>team_name</th>\n",
              "      <th>game_date</th>\n",
              "      <th>matchup</th>\n",
              "      <th>opponent</th>\n",
              "    </tr>\n",
              "    <tr>\n",
              "      <th>shot_id</th>\n",
              "      <th></th>\n",
              "      <th></th>\n",
              "      <th></th>\n",
              "      <th></th>\n",
              "      <th></th>\n",
              "      <th></th>\n",
              "      <th></th>\n",
              "      <th></th>\n",
              "      <th></th>\n",
              "      <th></th>\n",
              "      <th></th>\n",
              "      <th></th>\n",
              "      <th></th>\n",
              "      <th></th>\n",
              "      <th></th>\n",
              "      <th></th>\n",
              "      <th></th>\n",
              "      <th></th>\n",
              "      <th></th>\n",
              "      <th></th>\n",
              "      <th></th>\n",
              "    </tr>\n",
              "  </thead>\n",
              "  <tbody>\n",
              "    <tr>\n",
              "      <th>1</th>\n",
              "      <td>Jump Shot</td>\n",
              "      <td>Jump Shot</td>\n",
              "      <td>10</td>\n",
              "      <td>20000012</td>\n",
              "      <td>33.9723</td>\n",
              "      <td>167</td>\n",
              "      <td>72</td>\n",
              "      <td>-118.1028</td>\n",
              "      <td>10</td>\n",
              "      <td>1</td>\n",
              "      <td>...</td>\n",
              "      <td>NaN</td>\n",
              "      <td>2PT Field Goal</td>\n",
              "      <td>Right Side(R)</td>\n",
              "      <td>Mid-Range</td>\n",
              "      <td>16-24 ft.</td>\n",
              "      <td>1610612747</td>\n",
              "      <td>Los Angeles Lakers</td>\n",
              "      <td>2000/10/31</td>\n",
              "      <td>LAL @ POR</td>\n",
              "      <td>POR</td>\n",
              "    </tr>\n",
              "    <tr>\n",
              "      <th>2</th>\n",
              "      <td>Jump Shot</td>\n",
              "      <td>Jump Shot</td>\n",
              "      <td>12</td>\n",
              "      <td>20000012</td>\n",
              "      <td>34.0443</td>\n",
              "      <td>-157</td>\n",
              "      <td>0</td>\n",
              "      <td>-118.4268</td>\n",
              "      <td>10</td>\n",
              "      <td>1</td>\n",
              "      <td>...</td>\n",
              "      <td>0.0</td>\n",
              "      <td>2PT Field Goal</td>\n",
              "      <td>Left Side(L)</td>\n",
              "      <td>Mid-Range</td>\n",
              "      <td>8-16 ft.</td>\n",
              "      <td>1610612747</td>\n",
              "      <td>Los Angeles Lakers</td>\n",
              "      <td>2000/10/31</td>\n",
              "      <td>LAL @ POR</td>\n",
              "      <td>POR</td>\n",
              "    </tr>\n",
              "    <tr>\n",
              "      <th>3</th>\n",
              "      <td>Jump Shot</td>\n",
              "      <td>Jump Shot</td>\n",
              "      <td>35</td>\n",
              "      <td>20000012</td>\n",
              "      <td>33.9093</td>\n",
              "      <td>-101</td>\n",
              "      <td>135</td>\n",
              "      <td>-118.3708</td>\n",
              "      <td>7</td>\n",
              "      <td>1</td>\n",
              "      <td>...</td>\n",
              "      <td>1.0</td>\n",
              "      <td>2PT Field Goal</td>\n",
              "      <td>Left Side Center(LC)</td>\n",
              "      <td>Mid-Range</td>\n",
              "      <td>16-24 ft.</td>\n",
              "      <td>1610612747</td>\n",
              "      <td>Los Angeles Lakers</td>\n",
              "      <td>2000/10/31</td>\n",
              "      <td>LAL @ POR</td>\n",
              "      <td>POR</td>\n",
              "    </tr>\n",
              "    <tr>\n",
              "      <th>4</th>\n",
              "      <td>Jump Shot</td>\n",
              "      <td>Jump Shot</td>\n",
              "      <td>43</td>\n",
              "      <td>20000012</td>\n",
              "      <td>33.8693</td>\n",
              "      <td>138</td>\n",
              "      <td>175</td>\n",
              "      <td>-118.1318</td>\n",
              "      <td>6</td>\n",
              "      <td>1</td>\n",
              "      <td>...</td>\n",
              "      <td>0.0</td>\n",
              "      <td>2PT Field Goal</td>\n",
              "      <td>Right Side Center(RC)</td>\n",
              "      <td>Mid-Range</td>\n",
              "      <td>16-24 ft.</td>\n",
              "      <td>1610612747</td>\n",
              "      <td>Los Angeles Lakers</td>\n",
              "      <td>2000/10/31</td>\n",
              "      <td>LAL @ POR</td>\n",
              "      <td>POR</td>\n",
              "    </tr>\n",
              "    <tr>\n",
              "      <th>5</th>\n",
              "      <td>Driving Dunk Shot</td>\n",
              "      <td>Dunk</td>\n",
              "      <td>155</td>\n",
              "      <td>20000012</td>\n",
              "      <td>34.0443</td>\n",
              "      <td>0</td>\n",
              "      <td>0</td>\n",
              "      <td>-118.2698</td>\n",
              "      <td>6</td>\n",
              "      <td>2</td>\n",
              "      <td>...</td>\n",
              "      <td>1.0</td>\n",
              "      <td>2PT Field Goal</td>\n",
              "      <td>Center(C)</td>\n",
              "      <td>Restricted Area</td>\n",
              "      <td>Less Than 8 ft.</td>\n",
              "      <td>1610612747</td>\n",
              "      <td>Los Angeles Lakers</td>\n",
              "      <td>2000/10/31</td>\n",
              "      <td>LAL @ POR</td>\n",
              "      <td>POR</td>\n",
              "    </tr>\n",
              "  </tbody>\n",
              "</table>\n",
              "<p>5 rows × 24 columns</p>\n",
              "</div>"
            ],
            "text/plain": [
              "               action_type combined_shot_type  game_event_id   game_id  \\\n",
              "shot_id                                                                  \n",
              "1                Jump Shot          Jump Shot             10  20000012   \n",
              "2                Jump Shot          Jump Shot             12  20000012   \n",
              "3                Jump Shot          Jump Shot             35  20000012   \n",
              "4                Jump Shot          Jump Shot             43  20000012   \n",
              "5        Driving Dunk Shot               Dunk            155  20000012   \n",
              "\n",
              "             lat  loc_x  loc_y       lon  minutes_remaining  period  ...  \\\n",
              "shot_id                                                              ...   \n",
              "1        33.9723    167     72 -118.1028                 10       1  ...   \n",
              "2        34.0443   -157      0 -118.4268                 10       1  ...   \n",
              "3        33.9093   -101    135 -118.3708                  7       1  ...   \n",
              "4        33.8693    138    175 -118.1318                  6       1  ...   \n",
              "5        34.0443      0      0 -118.2698                  6       2  ...   \n",
              "\n",
              "         shot_made_flag       shot_type         shot_zone_area  \\\n",
              "shot_id                                                          \n",
              "1                   NaN  2PT Field Goal          Right Side(R)   \n",
              "2                   0.0  2PT Field Goal           Left Side(L)   \n",
              "3                   1.0  2PT Field Goal   Left Side Center(LC)   \n",
              "4                   0.0  2PT Field Goal  Right Side Center(RC)   \n",
              "5                   1.0  2PT Field Goal              Center(C)   \n",
              "\n",
              "         shot_zone_basic  shot_zone_range     team_id           team_name  \\\n",
              "shot_id                                                                     \n",
              "1              Mid-Range        16-24 ft.  1610612747  Los Angeles Lakers   \n",
              "2              Mid-Range         8-16 ft.  1610612747  Los Angeles Lakers   \n",
              "3              Mid-Range        16-24 ft.  1610612747  Los Angeles Lakers   \n",
              "4              Mid-Range        16-24 ft.  1610612747  Los Angeles Lakers   \n",
              "5        Restricted Area  Less Than 8 ft.  1610612747  Los Angeles Lakers   \n",
              "\n",
              "          game_date    matchup  opponent  \n",
              "shot_id                                   \n",
              "1        2000/10/31  LAL @ POR       POR  \n",
              "2        2000/10/31  LAL @ POR       POR  \n",
              "3        2000/10/31  LAL @ POR       POR  \n",
              "4        2000/10/31  LAL @ POR       POR  \n",
              "5        2000/10/31  LAL @ POR       POR  \n",
              "\n",
              "[5 rows x 24 columns]"
            ]
          },
          "metadata": {
            "tags": []
          },
          "execution_count": 66
        }
      ]
    }
  ]
}